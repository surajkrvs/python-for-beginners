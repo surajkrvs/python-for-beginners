{
 "cells": [
  {
   "cell_type": "code",
   "execution_count": 3,
   "id": "6f37f77b-2dca-462b-b4c9-dd1e6f6bd218",
   "metadata": {},
   "outputs": [],
   "source": [
    "def test(a,b):\n",
    "    return a+b"
   ]
  },
  {
   "cell_type": "code",
   "execution_count": 4,
   "id": "36ae5ebf-d773-44f1-8eb5-32487d38909a",
   "metadata": {},
   "outputs": [
    {
     "data": {
      "text/plain": [
       "7"
      ]
     },
     "execution_count": 4,
     "metadata": {},
     "output_type": "execute_result"
    }
   ],
   "source": [
    "test(3,4)"
   ]
  },
  {
   "cell_type": "code",
   "execution_count": 6,
   "id": "5d747b7c-14b6-4641-a78e-9ee9b1fab0ea",
   "metadata": {},
   "outputs": [
    {
     "data": {
      "text/plain": [
       "'suraj kumar'"
      ]
     },
     "execution_count": 6,
     "metadata": {},
     "output_type": "execute_result"
    }
   ],
   "source": [
    "test(\"suraj\",\" kumar\")"
   ]
  },
  {
   "cell_type": "code",
   "execution_count": 10,
   "id": "6edbefd8-fcdf-49b7-876e-10fe85ca88ee",
   "metadata": {},
   "outputs": [
    {
     "data": {
      "text/plain": [
       "[3, 4, 5, 6, 3, 4, 5, 67, 4]"
      ]
     },
     "execution_count": 10,
     "metadata": {},
     "output_type": "execute_result"
    }
   ],
   "source": [
    "test([3,4,5,6] , [3,4,5,67,4])"
   ]
  },
  {
   "cell_type": "code",
   "execution_count": 12,
   "id": "6097defd-c156-48de-aa18-7e9e7fd5fd27",
   "metadata": {},
   "outputs": [],
   "source": [
    "class data_science:\n",
    "    \n",
    "    def syllabus(self):\n",
    "        print(\"this is my syllabus for data science\")"
   ]
  },
  {
   "cell_type": "code",
   "execution_count": 13,
   "id": "56586510-8dc5-4784-a05d-43baeb358096",
   "metadata": {},
   "outputs": [],
   "source": [
    "class web_dev:\n",
    "    \n",
    "    def syllabus(self):\n",
    "        print(\"this is my syllabus for my web dev\")"
   ]
  },
  {
   "cell_type": "code",
   "execution_count": 25,
   "id": "19feb759-6320-4456-9c83-0da00b83f230",
   "metadata": {},
   "outputs": [],
   "source": [
    "def class_parcer(class_obj):\n",
    "    for i in class_obj:\n",
    "        i.syllabus()"
   ]
  },
  {
   "cell_type": "code",
   "execution_count": 26,
   "id": "7da32591-afab-4cd7-b443-4d67dc64c2b9",
   "metadata": {},
   "outputs": [],
   "source": [
    "data_sceince = data_science()"
   ]
  },
  {
   "cell_type": "code",
   "execution_count": 27,
   "id": "0e949c46-b3cc-4115-b93c-c7142c421a8d",
   "metadata": {},
   "outputs": [],
   "source": [
    "web_de = web_dev()"
   ]
  },
  {
   "cell_type": "code",
   "execution_count": 28,
   "id": "312fda5b-fe45-45ed-94fc-703ef8e4c91a",
   "metadata": {},
   "outputs": [],
   "source": [
    "class_obj = [data_science, web_dev]"
   ]
  },
  {
   "cell_type": "code",
   "execution_count": 33,
   "id": "5c9d0d26-ff9f-479e-9408-7ad98e9e068c",
   "metadata": {},
   "outputs": [
    {
     "ename": "TypeError",
     "evalue": "data_science.syllabus() missing 1 required positional argument: 'self'",
     "output_type": "error",
     "traceback": [
      "\u001b[0;31m---------------------------------------------------------------------------\u001b[0m",
      "\u001b[0;31mTypeError\u001b[0m                                 Traceback (most recent call last)",
      "Cell \u001b[0;32mIn[33], line 1\u001b[0m\n\u001b[0;32m----> 1\u001b[0m \u001b[43mclass_parcer\u001b[49m\u001b[43m(\u001b[49m\u001b[43mclass_obj\u001b[49m\u001b[43m)\u001b[49m\n",
      "Cell \u001b[0;32mIn[25], line 3\u001b[0m, in \u001b[0;36mclass_parcer\u001b[0;34m(class_obj)\u001b[0m\n\u001b[1;32m      1\u001b[0m \u001b[38;5;28;01mdef\u001b[39;00m \u001b[38;5;21mclass_parcer\u001b[39m(class_obj):\n\u001b[1;32m      2\u001b[0m     \u001b[38;5;28;01mfor\u001b[39;00m i \u001b[38;5;129;01min\u001b[39;00m class_obj:\n\u001b[0;32m----> 3\u001b[0m         \u001b[43mi\u001b[49m\u001b[38;5;241;43m.\u001b[39;49m\u001b[43msyllabus\u001b[49m\u001b[43m(\u001b[49m\u001b[43m)\u001b[49m\n",
      "\u001b[0;31mTypeError\u001b[0m: data_science.syllabus() missing 1 required positional argument: 'self'"
     ]
    }
   ],
   "source": [
    "class_parcer(class_obj)"
   ]
  },
  {
   "cell_type": "code",
   "execution_count": null,
   "id": "af0e02c4-3310-4ee0-8d70-3c649fb42ca3",
   "metadata": {},
   "outputs": [],
   "source": []
  },
  {
   "cell_type": "code",
   "execution_count": null,
   "id": "ed1d2967-32ad-4fb3-b5fd-665406bcb8e5",
   "metadata": {},
   "outputs": [],
   "source": []
  },
  {
   "cell_type": "code",
   "execution_count": null,
   "id": "f3df5a25-1da3-4f23-959b-fd86bcf46dc4",
   "metadata": {},
   "outputs": [],
   "source": []
  },
  {
   "cell_type": "code",
   "execution_count": null,
   "id": "9ce6a17f-fcd1-4c63-814a-44f51ad504d3",
   "metadata": {},
   "outputs": [],
   "source": []
  }
 ],
 "metadata": {
  "kernelspec": {
   "display_name": "Python 3 (ipykernel)",
   "language": "python",
   "name": "python3"
  },
  "language_info": {
   "codemirror_mode": {
    "name": "ipython",
    "version": 3
   },
   "file_extension": ".py",
   "mimetype": "text/x-python",
   "name": "python",
   "nbconvert_exporter": "python",
   "pygments_lexer": "ipython3",
   "version": "3.10.8"
  }
 },
 "nbformat": 4,
 "nbformat_minor": 5
}
