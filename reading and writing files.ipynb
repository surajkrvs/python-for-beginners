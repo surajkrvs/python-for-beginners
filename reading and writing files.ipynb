{
 "cells": [
  {
   "cell_type": "code",
   "execution_count": 1,
   "id": "4119445c-e271-42f9-8dcb-ddd42f7b00b4",
   "metadata": {},
   "outputs": [],
   "source": [
    "data = {\n",
    "      \"name\" : \"suraj\",\n",
    "    \"mail_id\" : \"suraj@gmial.com\",\n",
    "    \"phone_number\" : 8946512385,\n",
    "    \"subject \" : [ \"data scinece\" , \"java\" , \"data analytics\"]\n",
    "}"
   ]
  },
  {
   "cell_type": "code",
   "execution_count": 2,
   "id": "0eddfb68-8b01-43b9-b36d-d3f98b735edc",
   "metadata": {},
   "outputs": [],
   "source": [
    "import json"
   ]
  },
  {
   "cell_type": "code",
   "execution_count": 3,
   "id": "e7e4a368-6e3b-43b5-88f1-6375c767d5d8",
   "metadata": {},
   "outputs": [],
   "source": [
    "with open (\"data.json\" , \"w\" ) as f :\n",
    "    json.dump(data,f)"
   ]
  },
  {
   "cell_type": "code",
   "execution_count": 5,
   "id": "e1dba3da-346d-4123-ba14-fb8b0705938e",
   "metadata": {},
   "outputs": [],
   "source": [
    "with open(\"data.json\" , \"r\") as f :\n",
    "    data1 = json.load(f)"
   ]
  },
  {
   "cell_type": "code",
   "execution_count": 6,
   "id": "fa0fa1d7-ec2e-4f1d-818d-9a89205b9214",
   "metadata": {},
   "outputs": [
    {
     "data": {
      "text/plain": [
       "{'name': 'suraj',\n",
       " 'mail_id': 'suraj@gmial.com',\n",
       " 'phone_number': 8946512385,\n",
       " 'subject ': ['data scinece', 'java', 'data analytics']}"
      ]
     },
     "execution_count": 6,
     "metadata": {},
     "output_type": "execute_result"
    }
   ],
   "source": [
    "data1"
   ]
  },
  {
   "cell_type": "code",
   "execution_count": 13,
   "id": "50f89fa1-2a0f-4e7d-8c24-e15946bd4b14",
   "metadata": {},
   "outputs": [
    {
     "data": {
      "text/plain": [
       "'java'"
      ]
     },
     "execution_count": 13,
     "metadata": {},
     "output_type": "execute_result"
    }
   ],
   "source": [
    "data1['subject '][1]"
   ]
  },
  {
   "cell_type": "code",
   "execution_count": 14,
   "id": "0b41f565-4068-44f7-85b7-1d950d5df118",
   "metadata": {},
   "outputs": [],
   "source": [
    "import csv"
   ]
  },
  {
   "cell_type": "code",
   "execution_count": 18,
   "id": "211a1e03-8b8e-433b-9808-2cb662ca04b7",
   "metadata": {},
   "outputs": [],
   "source": [
    "data = [ [\"name\" , \"email_id\" , \"phone\" ],\n",
    "         [\"suraj\", \"suraj@gmial.com\", 984561285],\n",
    "         [\"krish\", \"krish@gmial.com\" , 879456123]\n",
    "            \n",
    "]"
   ]
  },
  {
   "cell_type": "code",
   "execution_count": 26,
   "id": "86d932e0-324e-4940-bffd-56c4f86bcf55",
   "metadata": {},
   "outputs": [],
   "source": [
    "with open(\"data.csv\", \"w\" ) as f :\n",
    "    writer = csv.writer(f)\n",
    "    \n",
    "    for i in data:\n",
    "        writer.writerow(i)"
   ]
  },
  {
   "cell_type": "code",
   "execution_count": 29,
   "id": "73730cec-9045-41f4-99f9-d70d5872796d",
   "metadata": {},
   "outputs": [
    {
     "name": "stdout",
     "output_type": "stream",
     "text": [
      "['name', 'email_id', 'phone']\n",
      "['suraj', 'suraj@gmial.com', '984561285']\n",
      "['krish', 'krish@gmial.com', '879456123']\n"
     ]
    }
   ],
   "source": [
    "with open (\"data.csv\" , \"r\" ) as f:\n",
    "    read_data =  csv.reader(f)\n",
    "    \n",
    "    for i  in read_data:\n",
    "        print(i)"
   ]
  },
  {
   "cell_type": "code",
   "execution_count": 34,
   "id": "93807e88-62b4-407f-b9ab-f47cca586a50",
   "metadata": {},
   "outputs": [],
   "source": [
    "with open(\"test.bin\" , \"wb\" ) as f : \n",
    "    f.write(b\"\\x01\\x02\\x03\\8945632\")"
   ]
  },
  {
   "cell_type": "code",
   "execution_count": 35,
   "id": "afe598f1-c9b5-4754-beec-5be965930290",
   "metadata": {},
   "outputs": [
    {
     "name": "stdout",
     "output_type": "stream",
     "text": [
      "b'\\x01\\x02\\x03\\\\8945632'\n"
     ]
    }
   ],
   "source": [
    "with open (\"test.bin\" , \"rb\") as f  :\n",
    "    print(f.read())"
   ]
  },
  {
   "cell_type": "code",
   "execution_count": null,
   "id": "0f6257e6-e331-44ef-b267-1be4cf268b7d",
   "metadata": {},
   "outputs": [],
   "source": []
  }
 ],
 "metadata": {
  "kernelspec": {
   "display_name": "Python 3 (ipykernel)",
   "language": "python",
   "name": "python3"
  },
  "language_info": {
   "codemirror_mode": {
    "name": "ipython",
    "version": 3
   },
   "file_extension": ".py",
   "mimetype": "text/x-python",
   "name": "python",
   "nbconvert_exporter": "python",
   "pygments_lexer": "ipython3",
   "version": "3.10.8"
  }
 },
 "nbformat": 4,
 "nbformat_minor": 5
}
