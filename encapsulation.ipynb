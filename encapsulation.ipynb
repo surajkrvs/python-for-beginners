{
 "cells": [
  {
   "cell_type": "code",
   "execution_count": 11,
   "id": "36f57a06-fdba-4635-ad6b-fb5a94000035",
   "metadata": {},
   "outputs": [],
   "source": [
    "class test :\n",
    "    \n",
    "    def __init__(self,a,b):\n",
    "        self.a= a\n",
    "        self.b= b"
   ]
  },
  {
   "cell_type": "code",
   "execution_count": 12,
   "id": "57f3aaec-c039-4383-9c15-62ce573a5268",
   "metadata": {},
   "outputs": [],
   "source": [
    "t =test(23,43)"
   ]
  },
  {
   "cell_type": "code",
   "execution_count": 13,
   "id": "5fd1ad1d-be27-46f5-a36e-29ab7f73e6d1",
   "metadata": {},
   "outputs": [],
   "source": [
    "t.a = 23454954"
   ]
  },
  {
   "cell_type": "code",
   "execution_count": 14,
   "id": "db4679d7-97d8-4e7e-aea7-26a4cb8cd095",
   "metadata": {},
   "outputs": [
    {
     "data": {
      "text/plain": [
       "23454954"
      ]
     },
     "execution_count": 14,
     "metadata": {},
     "output_type": "execute_result"
    }
   ],
   "source": [
    "t.a"
   ]
  },
  {
   "cell_type": "code",
   "execution_count": 55,
   "id": "93deaf10-c73d-4f0d-8dc0-9ddb7027ce09",
   "metadata": {},
   "outputs": [],
   "source": [
    "class car:\n",
    "    def __init__(self,year,make, model ,speed):\n",
    "        self.__year = year\n",
    "        self.__make = make\n",
    "        self.__model = model\n",
    "        self.__speed = 0\n",
    "    \n",
    "    def set_speed(self,speed):\n",
    "        self.__speed = 0 if speed <0 else speed\n",
    "    \n",
    "    def get_speed(self) : \n",
    "        return self.__speed"
   ]
  },
  {
   "cell_type": "code",
   "execution_count": 56,
   "id": "3f8d5d3c-8ddd-44f2-8e5c-ad7fc907cab9",
   "metadata": {},
   "outputs": [],
   "source": [
    "c = car(1945,\"toyata\",\"inova\",12)"
   ]
  },
  {
   "cell_type": "code",
   "execution_count": 24,
   "id": "92b1be23-062a-44d0-a381-72e989060479",
   "metadata": {},
   "outputs": [
    {
     "data": {
      "text/plain": [
       "1945"
      ]
     },
     "execution_count": 24,
     "metadata": {},
     "output_type": "execute_result"
    }
   ],
   "source": [
    "c._car__year"
   ]
  },
  {
   "cell_type": "code",
   "execution_count": 25,
   "id": "9fb12883-7322-4ef8-908b-60465c161119",
   "metadata": {},
   "outputs": [],
   "source": [
    "c.set_speed(-5356)"
   ]
  },
  {
   "cell_type": "code",
   "execution_count": 26,
   "id": "f8112229-ee81-4afd-9f31-97ddac5e274d",
   "metadata": {},
   "outputs": [
    {
     "data": {
      "text/plain": [
       "0"
      ]
     },
     "execution_count": 26,
     "metadata": {},
     "output_type": "execute_result"
    }
   ],
   "source": [
    "c.get_speed()"
   ]
  },
  {
   "cell_type": "code",
   "execution_count": 27,
   "id": "9772c283-fe9d-46e3-9685-761245abba96",
   "metadata": {},
   "outputs": [],
   "source": [
    "c.set_speed(456)"
   ]
  },
  {
   "cell_type": "code",
   "execution_count": 28,
   "id": "7c20732d-f3a9-4567-a95f-5df41347d2bd",
   "metadata": {},
   "outputs": [
    {
     "data": {
      "text/plain": [
       "456"
      ]
     },
     "execution_count": 28,
     "metadata": {},
     "output_type": "execute_result"
    }
   ],
   "source": [
    "c.get_speed()"
   ]
  },
  {
   "cell_type": "code",
   "execution_count": 48,
   "id": "a60f2167-d36e-48c0-beff-6916413784f4",
   "metadata": {},
   "outputs": [],
   "source": [
    "class bank_account:\n",
    "    \n",
    "    def __init__(self,balance):\n",
    "        self.__balance= balance\n",
    "    \n",
    "    def deposit(self,amount):\n",
    "        self.__balance = self.__balance + amount\n",
    "        \n",
    "    def withdrwal(self,amount):\n",
    "        if self.__balance >= amount:\n",
    "            self.__balance = self.__balance- amount\n",
    "            return True\n",
    "        else :\n",
    "            return False\n",
    "        \n",
    "    def get_balance(self):\n",
    "        return self.__balance"
   ]
  },
  {
   "cell_type": "code",
   "execution_count": 47,
   "id": "dce9cf6c-36a0-4495-86fc-258e09ae6196",
   "metadata": {},
   "outputs": [],
   "source": [
    "suraj= bank_account(1000)\n"
   ]
  },
  {
   "cell_type": "code",
   "execution_count": 49,
   "id": "3ded2bde-1e4a-45fe-91fa-c387b98189b4",
   "metadata": {},
   "outputs": [
    {
     "data": {
      "text/plain": [
       "1000"
      ]
     },
     "execution_count": 49,
     "metadata": {},
     "output_type": "execute_result"
    }
   ],
   "source": [
    "suraj.get_balance()"
   ]
  },
  {
   "cell_type": "code",
   "execution_count": 50,
   "id": "6e0156ee-e30f-439c-9958-e3b2f9ff81d0",
   "metadata": {},
   "outputs": [],
   "source": [
    "suraj.deposit(5000)"
   ]
  },
  {
   "cell_type": "code",
   "execution_count": 51,
   "id": "9de3f017-d6ae-4eca-b10a-c112f5585aa3",
   "metadata": {},
   "outputs": [
    {
     "data": {
      "text/plain": [
       "6000"
      ]
     },
     "execution_count": 51,
     "metadata": {},
     "output_type": "execute_result"
    }
   ],
   "source": [
    "suraj.get_balance()"
   ]
  },
  {
   "cell_type": "code",
   "execution_count": 52,
   "id": "e276ebf3-dc9c-4940-bcdf-d32f0704e19c",
   "metadata": {},
   "outputs": [],
   "source": [
    "suraj.deposit(1000)"
   ]
  },
  {
   "cell_type": "code",
   "execution_count": 53,
   "id": "32586e53-dcc1-4e7a-91ce-dee68268ba19",
   "metadata": {},
   "outputs": [
    {
     "data": {
      "text/plain": [
       "7000"
      ]
     },
     "execution_count": 53,
     "metadata": {},
     "output_type": "execute_result"
    }
   ],
   "source": [
    "suraj.get_balance()"
   ]
  },
  {
   "cell_type": "code",
   "execution_count": 54,
   "id": "ae864eb3-087b-45a5-84a6-5cd30004b7ba",
   "metadata": {},
   "outputs": [
    {
     "data": {
      "text/plain": [
       "False"
      ]
     },
     "execution_count": 54,
     "metadata": {},
     "output_type": "execute_result"
    }
   ],
   "source": [
    "suraj.withdrwal(9000)"
   ]
  },
  {
   "cell_type": "code",
   "execution_count": 57,
   "id": "d6839e5b-3c43-4b75-88b2-289909156660",
   "metadata": {},
   "outputs": [
    {
     "data": {
      "text/plain": [
       "True"
      ]
     },
     "execution_count": 57,
     "metadata": {},
     "output_type": "execute_result"
    }
   ],
   "source": [
    "suraj.withdrwal(2000)"
   ]
  },
  {
   "cell_type": "code",
   "execution_count": 58,
   "id": "c7c73a7d-d386-42d0-b917-9e8efb58593f",
   "metadata": {},
   "outputs": [
    {
     "data": {
      "text/plain": [
       "5000"
      ]
     },
     "execution_count": 58,
     "metadata": {},
     "output_type": "execute_result"
    }
   ],
   "source": [
    "suraj.get_balance()"
   ]
  },
  {
   "cell_type": "code",
   "execution_count": null,
   "id": "3b0520bc-96c9-421c-8cd1-df4c14fea400",
   "metadata": {},
   "outputs": [],
   "source": []
  }
 ],
 "metadata": {
  "kernelspec": {
   "display_name": "Python 3 (ipykernel)",
   "language": "python",
   "name": "python3"
  },
  "language_info": {
   "codemirror_mode": {
    "name": "ipython",
    "version": 3
   },
   "file_extension": ".py",
   "mimetype": "text/x-python",
   "name": "python",
   "nbconvert_exporter": "python",
   "pygments_lexer": "ipython3",
   "version": "3.10.8"
  }
 },
 "nbformat": 4,
 "nbformat_minor": 5
}
