{
 "cells": [
  {
   "cell_type": "code",
   "execution_count": 6,
   "id": "95847f95-a972-41d3-b6e7-434b8baf0df0",
   "metadata": {},
   "outputs": [],
   "source": [
    "def count_test(n):\n",
    "    count = 1\n",
    "    while count <=n:\n",
    "        yield count\n",
    "        count = count+1"
   ]
  },
  {
   "cell_type": "code",
   "execution_count": 7,
   "id": "2cc7103d-a852-4e7b-bb90-81dfea1a41a9",
   "metadata": {},
   "outputs": [],
   "source": [
    "c = count_test(5)"
   ]
  },
  {
   "cell_type": "code",
   "execution_count": 8,
   "id": "8a7f48c2-0a38-45c4-943f-e2799b48a416",
   "metadata": {},
   "outputs": [
    {
     "name": "stdout",
     "output_type": "stream",
     "text": [
      "1\n",
      "2\n",
      "3\n",
      "4\n",
      "5\n"
     ]
    }
   ],
   "source": [
    "for i in c:\n",
    "    print(i)"
   ]
  },
  {
   "cell_type": "code",
   "execution_count": 9,
   "id": "45007d3c-f825-4484-ac2c-e9b7e1e8efc5",
   "metadata": {},
   "outputs": [
    {
     "data": {
      "text/plain": [
       "generator"
      ]
     },
     "execution_count": 9,
     "metadata": {},
     "output_type": "execute_result"
    }
   ],
   "source": [
    "type(c)"
   ]
  },
  {
   "cell_type": "markdown",
   "id": "651b197c-a838-41b8-9ddc-ac5cb9b6ee4b",
   "metadata": {},
   "source": [
    "#lambda function"
   ]
  },
  {
   "cell_type": "code",
   "execution_count": 10,
   "id": "c4951ff7-a4e1-42bb-a29c-68a6d0e29c61",
   "metadata": {},
   "outputs": [],
   "source": [
    "n = 3\n",
    "p = 2"
   ]
  },
  {
   "cell_type": "code",
   "execution_count": 11,
   "id": "32fffa18-40ac-44ef-be43-be17878ac914",
   "metadata": {},
   "outputs": [],
   "source": [
    "def  test(n,p):\n",
    "    return n**p"
   ]
  },
  {
   "cell_type": "code",
   "execution_count": 12,
   "id": "1e8f936f-5c55-413e-be6d-1e8c0864e638",
   "metadata": {},
   "outputs": [
    {
     "data": {
      "text/plain": [
       "9"
      ]
     },
     "execution_count": 12,
     "metadata": {},
     "output_type": "execute_result"
    }
   ],
   "source": [
    "test(3,2)"
   ]
  },
  {
   "cell_type": "code",
   "execution_count": 14,
   "id": "15aa2463-43c6-4d6b-bb06-3d32369d4906",
   "metadata": {},
   "outputs": [],
   "source": [
    "a = lambda n ,p : n**p"
   ]
  },
  {
   "cell_type": "code",
   "execution_count": 17,
   "id": "bf818ca4-a303-4958-9a29-fbcd8601db43",
   "metadata": {},
   "outputs": [
    {
     "data": {
      "text/plain": [
       "9"
      ]
     },
     "execution_count": 17,
     "metadata": {},
     "output_type": "execute_result"
    }
   ],
   "source": [
    "a(3,2)"
   ]
  },
  {
   "cell_type": "code",
   "execution_count": 20,
   "id": "9a39731f-f294-4c4c-b2cc-5d13a332c409",
   "metadata": {},
   "outputs": [],
   "source": [
    "add = lambda x,y: x+y"
   ]
  },
  {
   "cell_type": "code",
   "execution_count": 21,
   "id": "8e4da716-226d-49d9-904d-7c91c4e95f29",
   "metadata": {},
   "outputs": [
    {
     "data": {
      "text/plain": [
       "7"
      ]
     },
     "execution_count": 21,
     "metadata": {},
     "output_type": "execute_result"
    }
   ],
   "source": [
    "add(3,4)"
   ]
  },
  {
   "cell_type": "code",
   "execution_count": 22,
   "id": "e31d9d4d-6055-47c1-a6ac-fedb658383aa",
   "metadata": {},
   "outputs": [],
   "source": [
    "c_to_f = lambda c : (9/5)*c + 32"
   ]
  },
  {
   "cell_type": "code",
   "execution_count": 24,
   "id": "47a4f579-ed9c-4fe1-af5c-011256de6234",
   "metadata": {},
   "outputs": [
    {
     "data": {
      "text/plain": [
       "149.0"
      ]
     },
     "execution_count": 24,
     "metadata": {},
     "output_type": "execute_result"
    }
   ],
   "source": [
    "c_to_f(65)"
   ]
  },
  {
   "cell_type": "code",
   "execution_count": 26,
   "id": "b3ff30de-541a-43b2-b325-a99ef8da41a2",
   "metadata": {},
   "outputs": [],
   "source": [
    "finding_max = lambda x ,y : x if x >y else y "
   ]
  },
  {
   "cell_type": "code",
   "execution_count": 29,
   "id": "1ca69aa8-0bdc-4e28-b6d7-3e114c0509ab",
   "metadata": {},
   "outputs": [
    {
     "data": {
      "text/plain": [
       "43"
      ]
     },
     "execution_count": 29,
     "metadata": {},
     "output_type": "execute_result"
    }
   ],
   "source": [
    "finding_max(43,34)"
   ]
  },
  {
   "cell_type": "code",
   "execution_count": 30,
   "id": "9de17c7f-1339-48bf-acdd-0fd85454b2ff",
   "metadata": {},
   "outputs": [],
   "source": [
    "s = \"pwskills\""
   ]
  },
  {
   "cell_type": "code",
   "execution_count": 31,
   "id": "3d95167a-a9b3-4156-9931-1783b3b6b007",
   "metadata": {},
   "outputs": [],
   "source": [
    "find_len = lambda s : len(s)"
   ]
  },
  {
   "cell_type": "code",
   "execution_count": 32,
   "id": "ddcbaa38-87b5-4733-82ce-dde5869299a9",
   "metadata": {},
   "outputs": [
    {
     "data": {
      "text/plain": [
       "8"
      ]
     },
     "execution_count": 32,
     "metadata": {},
     "output_type": "execute_result"
    }
   ],
   "source": [
    "find_len(s)"
   ]
  },
  {
   "cell_type": "code",
   "execution_count": null,
   "id": "9542920a-38dc-41f4-b468-a0f8bc2ce709",
   "metadata": {},
   "outputs": [],
   "source": []
  }
 ],
 "metadata": {
  "kernelspec": {
   "display_name": "Python 3 (ipykernel)",
   "language": "python",
   "name": "python3"
  },
  "language_info": {
   "codemirror_mode": {
    "name": "ipython",
    "version": 3
   },
   "file_extension": ".py",
   "mimetype": "text/x-python",
   "name": "python",
   "nbconvert_exporter": "python",
   "pygments_lexer": "ipython3",
   "version": "3.10.8"
  }
 },
 "nbformat": 4,
 "nbformat_minor": 5
}
