{
 "cells": [
  {
   "cell_type": "code",
   "execution_count": 2,
   "id": "11b98c76-c5bd-4f3a-b9d3-6398b98ef96a",
   "metadata": {},
   "outputs": [],
   "source": [
    "import logging"
   ]
  },
  {
   "cell_type": "code",
   "execution_count": 3,
   "id": "db373ea5-5188-4c9c-90a1-1fd73154c1ca",
   "metadata": {},
   "outputs": [],
   "source": [
    "logging.basicConfig(filename = \"test5.log\" , level = logging.DEBUG, format = '%(asctime)s %(message)s')"
   ]
  },
  {
   "cell_type": "code",
   "execution_count": 10,
   "id": "08a86523-c963-4125-ace7-20b56a3fc4cf",
   "metadata": {},
   "outputs": [],
   "source": [
    "logging.info(\"this is my info message\")\n",
    "logging.error(\"this is my error message\")\n",
    "logging.critical(\"this is my critical message\")"
   ]
  },
  {
   "cell_type": "code",
   "execution_count": 11,
   "id": "831509a2-4b9e-4039-9b86-e1df79c7eda4",
   "metadata": {},
   "outputs": [],
   "source": [
    "logging.shutdown()"
   ]
  },
  {
   "cell_type": "code",
   "execution_count": 1,
   "id": "2ef20ed0-1652-46fe-bf93-37dbcfe04860",
   "metadata": {},
   "outputs": [],
   "source": [
    "import logging"
   ]
  },
  {
   "cell_type": "code",
   "execution_count": 2,
   "id": "55314070-3d27-4a69-886a-a06963263ced",
   "metadata": {},
   "outputs": [],
   "source": [
    "logging.basicConfig(filename = \"test4.log\" , level = logging.DEBUG , format ='%(asctime)s %(name)s %(levelname)s %(message)s') "
   ]
  },
  {
   "cell_type": "code",
   "execution_count": 3,
   "id": "a5213d29-1f15-407a-a0ee-34b1335fd11a",
   "metadata": {},
   "outputs": [],
   "source": [
    "logging.info(\"this is my info message\")\n",
    "logging.error(\"this is my error message\")\n",
    "logging.critical(\"this is my critical message\")"
   ]
  },
  {
   "cell_type": "code",
   "execution_count": 4,
   "id": "ecf44aa3-372a-4245-8dba-3ded2d13a1eb",
   "metadata": {},
   "outputs": [],
   "source": [
    "l = [ 1,2,3,4,5, [5,4,6,7] , \"suraj\" , \"kumar\"]"
   ]
  },
  {
   "cell_type": "code",
   "execution_count": 22,
   "id": "23c9a8c4-8ce4-4075-893c-c0014ea0e6fa",
   "metadata": {},
   "outputs": [],
   "source": [
    "l1= [] \n",
    "l2 = []\n",
    "for i in l :\n",
    "    logging.info(\"we are iterating through our list our local var is i {}\".format( l) )\n",
    "    if type(i) == list :\n",
    "        logging.info(\"i am inside if statement and i am to trying to check list type\" + str(i))\n",
    "        for j in i :\n",
    "            logging.info(\"i am inside another for loop for list inside element\" + str(j))\n",
    "            if type(j) == int : \n",
    "                logging.info(\"i am inside if statement\")\n",
    "                l1.append(j)\n",
    "    elif type(i) == int : \n",
    "        l1.append(i)\n",
    "        \n",
    "    else : \n",
    "        if type(i) == str : \n",
    "            l2.append(i)\n",
    "logging.info(\"my final result for int is {l1} and str is {l2}\".format(l1 = l1,l2= l2)) "
   ]
  },
  {
   "cell_type": "code",
   "execution_count": 17,
   "id": "41abecdc-4d4d-4607-9dcd-0db171ab9084",
   "metadata": {},
   "outputs": [
    {
     "data": {
      "text/plain": [
       "[1, 2, 3, 4, 5, 5, 4, 6, 7]"
      ]
     },
     "execution_count": 17,
     "metadata": {},
     "output_type": "execute_result"
    }
   ],
   "source": [
    "l1"
   ]
  },
  {
   "cell_type": "code",
   "execution_count": 14,
   "id": "0b9f7485-d819-40eb-ba0f-538feecaa951",
   "metadata": {},
   "outputs": [
    {
     "data": {
      "text/plain": [
       "['suraj', 'kumar']"
      ]
     },
     "execution_count": 14,
     "metadata": {},
     "output_type": "execute_result"
    }
   ],
   "source": [
    "l2"
   ]
  },
  {
   "cell_type": "code",
   "execution_count": null,
   "id": "9e499af7-3252-490e-ac6c-5677dfa589cd",
   "metadata": {},
   "outputs": [],
   "source": []
  }
 ],
 "metadata": {
  "kernelspec": {
   "display_name": "Python 3 (ipykernel)",
   "language": "python",
   "name": "python3"
  },
  "language_info": {
   "codemirror_mode": {
    "name": "ipython",
    "version": 3
   },
   "file_extension": ".py",
   "mimetype": "text/x-python",
   "name": "python",
   "nbconvert_exporter": "python",
   "pygments_lexer": "ipython3",
   "version": "3.10.8"
  }
 },
 "nbformat": 4,
 "nbformat_minor": 5
}
