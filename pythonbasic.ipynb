{
 "cells": [
  {
   "cell_type": "code",
   "execution_count": 1,
   "id": "6f46b2cf-1625-4c1b-b427-43fceb50d47b",
   "metadata": {},
   "outputs": [
    {
     "data": {
      "text/plain": [
       "2"
      ]
     },
     "execution_count": 1,
     "metadata": {},
     "output_type": "execute_result"
    }
   ],
   "source": [
    "1+1 "
   ]
  },
  {
   "cell_type": "code",
   "execution_count": 2,
   "id": "b649d8a3-caa7-409f-b36c-4e0362c8324d",
   "metadata": {},
   "outputs": [
    {
     "data": {
      "text/plain": [
       "25"
      ]
     },
     "execution_count": 2,
     "metadata": {},
     "output_type": "execute_result"
    }
   ],
   "source": [
    "5*5"
   ]
  },
  {
   "cell_type": "code",
   "execution_count": 3,
   "id": "80e4f69c-8cb8-4528-aaa2-17f4a87a4e18",
   "metadata": {},
   "outputs": [
    {
     "data": {
      "text/plain": [
       "28"
      ]
     },
     "execution_count": 3,
     "metadata": {},
     "output_type": "execute_result"
    }
   ],
   "source": [
    "4*7"
   ]
  },
  {
   "cell_type": "code",
   "execution_count": 1,
   "id": "84c8dc1c-8bb7-4774-92ec-3b02efad1029",
   "metadata": {},
   "outputs": [
    {
     "data": {
      "text/plain": [
       "50"
      ]
     },
     "execution_count": 1,
     "metadata": {},
     "output_type": "execute_result"
    }
   ],
   "source": [
    "5*10"
   ]
  },
  {
   "cell_type": "code",
   "execution_count": 8,
   "id": "dc75dec2-73a4-49e7-b6cf-19a1cd59f4f5",
   "metadata": {},
   "outputs": [],
   "source": [
    "a=4"
   ]
  },
  {
   "cell_type": "code",
   "execution_count": 9,
   "id": "b8153255-acc4-417f-9f49-bd3a3aed75ba",
   "metadata": {},
   "outputs": [],
   "source": [
    "c = 5"
   ]
  },
  {
   "cell_type": "code",
   "execution_count": 10,
   "id": "928b00fd-5891-4bf8-a87f-ffdadc4af070",
   "metadata": {},
   "outputs": [
    {
     "data": {
      "text/plain": [
       "9"
      ]
     },
     "execution_count": 10,
     "metadata": {},
     "output_type": "execute_result"
    }
   ],
   "source": [
    "a+c"
   ]
  },
  {
   "cell_type": "code",
   "execution_count": 11,
   "id": "9947ea11-7a2a-44c9-a753-53705fe851fb",
   "metadata": {},
   "outputs": [
    {
     "data": {
      "text/plain": [
       "int"
      ]
     },
     "execution_count": 11,
     "metadata": {},
     "output_type": "execute_result"
    }
   ],
   "source": [
    "type(a)"
   ]
  },
  {
   "cell_type": "code",
   "execution_count": 14,
   "id": "71f92298-c135-43fc-9b36-acd3f57b4470",
   "metadata": {},
   "outputs": [
    {
     "data": {
      "text/plain": [
       "int"
      ]
     },
     "execution_count": 14,
     "metadata": {},
     "output_type": "execute_result"
    }
   ],
   "source": [
    "type(c)"
   ]
  },
  {
   "cell_type": "code",
   "execution_count": 15,
   "id": "0a750430-27a6-442f-9aa5-b638078df9e6",
   "metadata": {},
   "outputs": [],
   "source": [
    "b =4.34"
   ]
  },
  {
   "cell_type": "code",
   "execution_count": 16,
   "id": "185114fb-9cef-4703-a104-47efd8e2efa5",
   "metadata": {},
   "outputs": [
    {
     "data": {
      "text/plain": [
       "float"
      ]
     },
     "execution_count": 16,
     "metadata": {},
     "output_type": "execute_result"
    }
   ],
   "source": [
    "type(b)"
   ]
  },
  {
   "cell_type": "code",
   "execution_count": 21,
   "id": "8ac5d3da-4a58-488e-a7e3-00c302d251a2",
   "metadata": {},
   "outputs": [],
   "source": [
    "d = 'this is my first class'"
   ]
  },
  {
   "cell_type": "code",
   "execution_count": 22,
   "id": "df56d2aa-9e92-49e5-966e-516df4c4f316",
   "metadata": {},
   "outputs": [
    {
     "data": {
      "text/plain": [
       "str"
      ]
     },
     "execution_count": 22,
     "metadata": {},
     "output_type": "execute_result"
    }
   ],
   "source": [
    "type (d)"
   ]
  },
  {
   "cell_type": "code",
   "execution_count": 24,
   "id": "9e27412b-d326-400c-a673-e894333bcac9",
   "metadata": {},
   "outputs": [],
   "source": [
    "n = True"
   ]
  },
  {
   "cell_type": "code",
   "execution_count": 25,
   "id": "d464452e-4852-49dc-ab0c-a073c0d6e928",
   "metadata": {},
   "outputs": [
    {
     "data": {
      "text/plain": [
       "bool"
      ]
     },
     "execution_count": 25,
     "metadata": {},
     "output_type": "execute_result"
    }
   ],
   "source": [
    "type(n)"
   ]
  },
  {
   "cell_type": "code",
   "execution_count": 28,
   "id": "ef8e8bb7-c70f-43df-be8a-761365ff2990",
   "metadata": {},
   "outputs": [],
   "source": [
    "m = False"
   ]
  },
  {
   "cell_type": "code",
   "execution_count": 29,
   "id": "95e89cf9-2334-4423-8fb9-1a422b125ee3",
   "metadata": {},
   "outputs": [
    {
     "data": {
      "text/plain": [
       "bool"
      ]
     },
     "execution_count": 29,
     "metadata": {},
     "output_type": "execute_result"
    }
   ],
   "source": [
    "type(m)"
   ]
  },
  {
   "cell_type": "code",
   "execution_count": 30,
   "id": "eb7093ff-fba8-486f-98ad-494f12645ec6",
   "metadata": {},
   "outputs": [
    {
     "data": {
      "text/plain": [
       "1"
      ]
     },
     "execution_count": 30,
     "metadata": {},
     "output_type": "execute_result"
    }
   ],
   "source": [
    "n+m"
   ]
  },
  {
   "cell_type": "code",
   "execution_count": 31,
   "id": "d1ba7691-8a10-4f44-9b0d-964e4c5115f0",
   "metadata": {},
   "outputs": [
    {
     "data": {
      "text/plain": [
       "1"
      ]
     },
     "execution_count": 31,
     "metadata": {},
     "output_type": "execute_result"
    }
   ],
   "source": [
    "True * True"
   ]
  },
  {
   "cell_type": "code",
   "execution_count": 32,
   "id": "a39c9e73-7719-486f-92ec-a67f9b7c5282",
   "metadata": {},
   "outputs": [
    {
     "data": {
      "text/plain": [
       "2"
      ]
     },
     "execution_count": 32,
     "metadata": {},
     "output_type": "execute_result"
    }
   ],
   "source": [
    "True +True"
   ]
  },
  {
   "cell_type": "code",
   "execution_count": 35,
   "id": "489c89c3-8203-4a19-9e1e-a60cb59779f2",
   "metadata": {},
   "outputs": [
    {
     "data": {
      "text/plain": [
       "0"
      ]
     },
     "execution_count": 35,
     "metadata": {},
     "output_type": "execute_result"
    }
   ],
   "source": [
    "True *False"
   ]
  },
  {
   "cell_type": "code",
   "execution_count": 37,
   "id": "c808db7c-0b5d-4c3c-9cbd-ca275065b228",
   "metadata": {},
   "outputs": [],
   "source": [
    "v = 5 +8j"
   ]
  },
  {
   "cell_type": "code",
   "execution_count": 38,
   "id": "a0acbecd-4956-4ab3-bb04-97ab457df689",
   "metadata": {},
   "outputs": [
    {
     "data": {
      "text/plain": [
       "complex"
      ]
     },
     "execution_count": 38,
     "metadata": {},
     "output_type": "execute_result"
    }
   ],
   "source": [
    "type(v)"
   ]
  },
  {
   "cell_type": "code",
   "execution_count": 39,
   "id": "23991341-5840-483f-9310-e3811bd23376",
   "metadata": {},
   "outputs": [
    {
     "data": {
      "text/plain": [
       "5.0"
      ]
     },
     "execution_count": 39,
     "metadata": {},
     "output_type": "execute_result"
    }
   ],
   "source": [
    "v.real"
   ]
  },
  {
   "cell_type": "code",
   "execution_count": 41,
   "id": "401fac05-a1b7-44a1-b00c-b3d7cf5ab237",
   "metadata": {},
   "outputs": [
    {
     "data": {
      "text/plain": [
       "8.0"
      ]
     },
     "execution_count": 41,
     "metadata": {},
     "output_type": "execute_result"
    }
   ],
   "source": [
    "v.imag"
   ]
  },
  {
   "cell_type": "code",
   "execution_count": 43,
   "id": "80eaaa6a-f4d2-4074-b34c-dffb4c54d372",
   "metadata": {},
   "outputs": [
    {
     "name": "stdout",
     "output_type": "stream",
     "text": [
      "the poeple of india\n"
     ]
    }
   ],
   "source": [
    "print('the poeple of india')"
   ]
  },
  {
   "cell_type": "code",
   "execution_count": 44,
   "id": "02738d7b-1fdc-47f4-a243-d823ae7e16f1",
   "metadata": {},
   "outputs": [
    {
     "name": "stdout",
     "output_type": "stream",
     "text": [
      "a\n"
     ]
    }
   ],
   "source": [
    "print('a')"
   ]
  },
  {
   "cell_type": "code",
   "execution_count": 45,
   "id": "03b82816-0ddb-4b82-8a1c-8b968b2fc7e6",
   "metadata": {},
   "outputs": [
    {
     "name": "stdout",
     "output_type": "stream",
     "text": [
      "4\n"
     ]
    }
   ],
   "source": [
    "print(a)"
   ]
  },
  {
   "cell_type": "code",
   "execution_count": 46,
   "id": "b42e0a5c-47f3-4e7b-a8c8-9ebe6e21be2d",
   "metadata": {},
   "outputs": [
    {
     "name": "stdout",
     "output_type": "stream",
     "text": [
      "(5+8j)\n"
     ]
    }
   ],
   "source": [
    "print(v)"
   ]
  },
  {
   "cell_type": "code",
   "execution_count": 49,
   "id": "c65247d3-c5f1-47ea-ae47-3c9233db8436",
   "metadata": {},
   "outputs": [],
   "source": [
    "f = 5"
   ]
  },
  {
   "cell_type": "code",
   "execution_count": 51,
   "id": "3abf3af6-311d-4d8d-a25d-a176c2d597f7",
   "metadata": {},
   "outputs": [
    {
     "name": "stdout",
     "output_type": "stream",
     "text": [
      "5\n"
     ]
    }
   ],
   "source": [
    "print(f)"
   ]
  },
  {
   "cell_type": "code",
   "execution_count": 6,
   "id": "9af82f61-dbfe-4973-8c9f-bf0d0133edc0",
   "metadata": {},
   "outputs": [],
   "source": [
    "s = \"this is my office\""
   ]
  },
  {
   "cell_type": "code",
   "execution_count": 7,
   "id": "22690e77-a065-4a48-a9b5-989c7c0b7f60",
   "metadata": {},
   "outputs": [
    {
     "data": {
      "text/plain": [
       "str"
      ]
     },
     "execution_count": 7,
     "metadata": {},
     "output_type": "execute_result"
    }
   ],
   "source": [
    "type (s)"
   ]
  },
  {
   "cell_type": "code",
   "execution_count": 8,
   "id": "d3cf8bd7-0f0f-4869-995e-22cf4b5a2ae8",
   "metadata": {},
   "outputs": [],
   "source": [
    "s = \"pwskills\""
   ]
  },
  {
   "cell_type": "code",
   "execution_count": 9,
   "id": "62bf4270-2bdc-454a-ba5b-74520a2fe85d",
   "metadata": {},
   "outputs": [
    {
     "data": {
      "text/plain": [
       "str"
      ]
     },
     "execution_count": 9,
     "metadata": {},
     "output_type": "execute_result"
    }
   ],
   "source": [
    "type(s)"
   ]
  },
  {
   "cell_type": "code",
   "execution_count": 10,
   "id": "98d42c27-ffcd-403e-94ff-10cbb6c0f148",
   "metadata": {},
   "outputs": [
    {
     "data": {
      "text/plain": [
       "'p'"
      ]
     },
     "execution_count": 10,
     "metadata": {},
     "output_type": "execute_result"
    }
   ],
   "source": [
    "s[0]"
   ]
  },
  {
   "cell_type": "code",
   "execution_count": 11,
   "id": "d95cb900-d317-43f7-8f29-ccf62374711a",
   "metadata": {},
   "outputs": [
    {
     "data": {
      "text/plain": [
       "'l'"
      ]
     },
     "execution_count": 11,
     "metadata": {},
     "output_type": "execute_result"
    }
   ],
   "source": [
    "s[5]"
   ]
  },
  {
   "cell_type": "code",
   "execution_count": 12,
   "id": "78179868-f2cb-47d3-843d-443ab4a1b836",
   "metadata": {},
   "outputs": [
    {
     "data": {
      "text/plain": [
       "'s'"
      ]
     },
     "execution_count": 12,
     "metadata": {},
     "output_type": "execute_result"
    }
   ],
   "source": [
    "s[7]"
   ]
  },
  {
   "cell_type": "code",
   "execution_count": 13,
   "id": "e63099b9-0e94-42c8-a350-748223c44882",
   "metadata": {},
   "outputs": [
    {
     "data": {
      "text/plain": [
       "'s'"
      ]
     },
     "execution_count": 13,
     "metadata": {},
     "output_type": "execute_result"
    }
   ],
   "source": [
    "s[-1]"
   ]
  },
  {
   "cell_type": "code",
   "execution_count": 14,
   "id": "1bd7e0ab-3ce4-42ed-ac86-c6892819a6a3",
   "metadata": {},
   "outputs": [
    {
     "data": {
      "text/plain": [
       "'p'"
      ]
     },
     "execution_count": 14,
     "metadata": {},
     "output_type": "execute_result"
    }
   ],
   "source": [
    "s[-8]"
   ]
  },
  {
   "cell_type": "code",
   "execution_count": 15,
   "id": "78030126-bd9b-4b56-a95b-922675b2b580",
   "metadata": {},
   "outputs": [
    {
     "data": {
      "text/plain": [
       "'pwsk'"
      ]
     },
     "execution_count": 15,
     "metadata": {},
     "output_type": "execute_result"
    }
   ],
   "source": [
    "s[0:4]"
   ]
  },
  {
   "cell_type": "code",
   "execution_count": 16,
   "id": "005ad37a-242e-4fe2-855c-a44234cd3b54",
   "metadata": {},
   "outputs": [
    {
     "data": {
      "text/plain": [
       "'pw'"
      ]
     },
     "execution_count": 16,
     "metadata": {},
     "output_type": "execute_result"
    }
   ],
   "source": [
    "s[0:2]"
   ]
  },
  {
   "cell_type": "code",
   "execution_count": 17,
   "id": "4f31f6a0-ce76-44b1-892d-58e247579767",
   "metadata": {},
   "outputs": [
    {
     "data": {
      "text/plain": [
       "'pwski'"
      ]
     },
     "execution_count": 17,
     "metadata": {},
     "output_type": "execute_result"
    }
   ],
   "source": [
    "s[0:5]"
   ]
  },
  {
   "cell_type": "code",
   "execution_count": 18,
   "id": "7d802a88-0009-4869-884c-09f689b4eeda",
   "metadata": {},
   "outputs": [
    {
     "data": {
      "text/plain": [
       "'pwskills'"
      ]
     },
     "execution_count": 18,
     "metadata": {},
     "output_type": "execute_result"
    }
   ],
   "source": [
    "s[0:8]"
   ]
  },
  {
   "cell_type": "code",
   "execution_count": 19,
   "id": "52bc735f-69e1-43b6-b070-f7b7f1e68568",
   "metadata": {},
   "outputs": [
    {
     "data": {
      "text/plain": [
       "'psil'"
      ]
     },
     "execution_count": 19,
     "metadata": {},
     "output_type": "execute_result"
    }
   ],
   "source": [
    "s[0:8:2]"
   ]
  },
  {
   "cell_type": "code",
   "execution_count": 20,
   "id": "2f7aba88-c873-47ab-a853-ed093ea16820",
   "metadata": {},
   "outputs": [
    {
     "data": {
      "text/plain": [
       "'pwskills'"
      ]
     },
     "execution_count": 20,
     "metadata": {},
     "output_type": "execute_result"
    }
   ],
   "source": [
    "s[0:8:1]"
   ]
  },
  {
   "cell_type": "code",
   "execution_count": 21,
   "id": "e7ef9559-49f8-4fca-a42a-6fe84f04f703",
   "metadata": {},
   "outputs": [
    {
     "data": {
      "text/plain": [
       "'psil'"
      ]
     },
     "execution_count": 21,
     "metadata": {},
     "output_type": "execute_result"
    }
   ],
   "source": [
    "s[0::2]"
   ]
  },
  {
   "cell_type": "code",
   "execution_count": 23,
   "id": "35804b3d-0d20-4008-98b9-e782a9929b96",
   "metadata": {},
   "outputs": [
    {
     "data": {
      "text/plain": [
       "'skills'"
      ]
     },
     "execution_count": 23,
     "metadata": {},
     "output_type": "execute_result"
    }
   ],
   "source": [
    "s[2::1]"
   ]
  },
  {
   "cell_type": "code",
   "execution_count": 38,
   "id": "e9b69202-f5fa-4cee-bf18-0a75e3a901bd",
   "metadata": {},
   "outputs": [
    {
     "data": {
      "text/plain": [
       "'sllikswp'"
      ]
     },
     "execution_count": 38,
     "metadata": {},
     "output_type": "execute_result"
    }
   ],
   "source": [
    "s[::-1]"
   ]
  },
  {
   "cell_type": "code",
   "execution_count": 39,
   "id": "306f682f-8cd8-48b8-aa42-765bcfeae38f",
   "metadata": {},
   "outputs": [
    {
     "data": {
      "text/plain": [
       "''"
      ]
     },
     "execution_count": 39,
     "metadata": {},
     "output_type": "execute_result"
    }
   ],
   "source": [
    "s[2:8:-1]"
   ]
  },
  {
   "cell_type": "code",
   "execution_count": 40,
   "id": "387396a0-2e57-4db6-89b5-4ff46121504a",
   "metadata": {},
   "outputs": [
    {
     "data": {
      "text/plain": [
       "''"
      ]
     },
     "execution_count": 40,
     "metadata": {},
     "output_type": "execute_result"
    }
   ],
   "source": [
    "s[8:0:1]"
   ]
  },
  {
   "cell_type": "code",
   "execution_count": 43,
   "id": "9439e6d5-4726-456a-ae5b-8e12c7000e64",
   "metadata": {},
   "outputs": [
    {
     "data": {
      "text/plain": [
       "'slliksw'"
      ]
     },
     "execution_count": 43,
     "metadata": {},
     "output_type": "execute_result"
    }
   ],
   "source": [
    "s[10:0:-1]"
   ]
  },
  {
   "cell_type": "code",
   "execution_count": 44,
   "id": "2b4b2db7-95a9-428e-9dfc-d1f52155dc61",
   "metadata": {},
   "outputs": [
    {
     "data": {
      "text/plain": [
       "''"
      ]
     },
     "execution_count": 44,
     "metadata": {},
     "output_type": "execute_result"
    }
   ],
   "source": [
    "s[-2:-8:1]"
   ]
  },
  {
   "cell_type": "code",
   "execution_count": 46,
   "id": "5b4779bf-bf2f-41ec-a2fd-040602ff6a86",
   "metadata": {},
   "outputs": [
    {
     "data": {
      "text/plain": [
       "'llikswp'"
      ]
     },
     "execution_count": 46,
     "metadata": {},
     "output_type": "execute_result"
    }
   ],
   "source": [
    "s[-2::-1]"
   ]
  },
  {
   "cell_type": "code",
   "execution_count": 47,
   "id": "de97f4e8-32e0-4e6a-95c3-7ba8cb0875d2",
   "metadata": {},
   "outputs": [
    {
     "data": {
      "text/plain": [
       "'sllikswp'"
      ]
     },
     "execution_count": 47,
     "metadata": {},
     "output_type": "execute_result"
    }
   ],
   "source": [
    "s[::-1]"
   ]
  },
  {
   "cell_type": "code",
   "execution_count": 49,
   "id": "baec3bcf-6544-4267-9957-e65115391c26",
   "metadata": {},
   "outputs": [
    {
     "data": {
      "text/plain": [
       "'p'"
      ]
     },
     "execution_count": 49,
     "metadata": {},
     "output_type": "execute_result"
    }
   ],
   "source": [
    "s[0::9]"
   ]
  },
  {
   "cell_type": "code",
   "execution_count": 50,
   "id": "7f6f5068-f3c2-4a8c-a5be-690e4c6e59cd",
   "metadata": {},
   "outputs": [
    {
     "data": {
      "text/plain": [
       "'pwskills'"
      ]
     },
     "execution_count": 50,
     "metadata": {},
     "output_type": "execute_result"
    }
   ],
   "source": [
    "s[0:9]"
   ]
  },
  {
   "cell_type": "code",
   "execution_count": 51,
   "id": "ac7dcafb-6854-4e5b-b292-1d7ac4a90e74",
   "metadata": {},
   "outputs": [
    {
     "data": {
      "text/plain": [
       "'pwskills'"
      ]
     },
     "execution_count": 51,
     "metadata": {},
     "output_type": "execute_result"
    }
   ],
   "source": [
    "s[::1]"
   ]
  },
  {
   "cell_type": "code",
   "execution_count": 52,
   "id": "eb911357-be3b-4a55-8508-f984110db1d2",
   "metadata": {},
   "outputs": [
    {
     "data": {
      "text/plain": [
       "''"
      ]
     },
     "execution_count": 52,
     "metadata": {},
     "output_type": "execute_result"
    }
   ],
   "source": [
    "s[:-90:]"
   ]
  },
  {
   "cell_type": "code",
   "execution_count": 54,
   "id": "5517efae-ac2e-4ebe-aa66-ea1d3fb87f5b",
   "metadata": {},
   "outputs": [
    {
     "data": {
      "text/plain": [
       "'pwskills'"
      ]
     },
     "execution_count": 54,
     "metadata": {},
     "output_type": "execute_result"
    }
   ],
   "source": [
    "s[0:14]"
   ]
  },
  {
   "cell_type": "code",
   "execution_count": 55,
   "id": "2301744a-3daa-4d7f-9708-6080401a3bd8",
   "metadata": {},
   "outputs": [],
   "source": [
    "c =200"
   ]
  },
  {
   "cell_type": "code",
   "execution_count": 56,
   "id": "d4c660bb-490b-4a87-b9b6-c3b4894a08e1",
   "metadata": {},
   "outputs": [
    {
     "data": {
      "text/plain": [
       "200.0"
      ]
     },
     "execution_count": 56,
     "metadata": {},
     "output_type": "execute_result"
    }
   ],
   "source": [
    "float(c)"
   ]
  },
  {
   "cell_type": "code",
   "execution_count": 57,
   "id": "bb195466-6267-4c4f-9286-0421c21c3efb",
   "metadata": {},
   "outputs": [],
   "source": [
    "c=\"200\""
   ]
  },
  {
   "cell_type": "code",
   "execution_count": 58,
   "id": "76ea3359-33d0-4fc9-a5d1-cc2c49f1a777",
   "metadata": {},
   "outputs": [
    {
     "data": {
      "text/plain": [
       "str"
      ]
     },
     "execution_count": 58,
     "metadata": {},
     "output_type": "execute_result"
    }
   ],
   "source": [
    "type (c)"
   ]
  },
  {
   "cell_type": "code",
   "execution_count": 59,
   "id": "7df30e8d-8caa-470a-9f19-1c29124d1333",
   "metadata": {},
   "outputs": [
    {
     "data": {
      "text/plain": [
       "'s'"
      ]
     },
     "execution_count": 59,
     "metadata": {},
     "output_type": "execute_result"
    }
   ],
   "source": [
    "s[2]"
   ]
  },
  {
   "cell_type": "code",
   "execution_count": 60,
   "id": "d01dd5a5-e8ac-408a-af92-446ceb39bb56",
   "metadata": {},
   "outputs": [
    {
     "data": {
      "text/plain": [
       "'0'"
      ]
     },
     "execution_count": 60,
     "metadata": {},
     "output_type": "execute_result"
    }
   ],
   "source": [
    "c[2]"
   ]
  },
  {
   "cell_type": "code",
   "execution_count": 61,
   "id": "bcbe7057-dd40-423d-becd-dd18c05330c9",
   "metadata": {},
   "outputs": [],
   "source": [
    "s1 = \"this is my book\""
   ]
  },
  {
   "cell_type": "code",
   "execution_count": 63,
   "id": "4ca25d42-4ac7-4694-b669-bf04fdca32c9",
   "metadata": {},
   "outputs": [
    {
     "data": {
      "text/plain": [
       "15"
      ]
     },
     "execution_count": 63,
     "metadata": {},
     "output_type": "execute_result"
    }
   ],
   "source": [
    "len(s1)##space between strings"
   ]
  },
  {
   "cell_type": "code",
   "execution_count": 1,
   "id": "afd4f47f-b026-4f48-b585-4fc187dcae1e",
   "metadata": {},
   "outputs": [
    {
     "ename": "NameError",
     "evalue": "name 's1' is not defined",
     "output_type": "error",
     "traceback": [
      "\u001b[0;31m---------------------------------------------------------------------------\u001b[0m",
      "\u001b[0;31mNameError\u001b[0m                                 Traceback (most recent call last)",
      "Cell \u001b[0;32mIn[1], line 1\u001b[0m\n\u001b[0;32m----> 1\u001b[0m \u001b[43ms1\u001b[49m\u001b[38;5;241m.\u001b[39mindex(\u001b[38;5;124m'\u001b[39m\u001b[38;5;124ms\u001b[39m\u001b[38;5;124m'\u001b[39m)\n",
      "\u001b[0;31mNameError\u001b[0m: name 's1' is not defined"
     ]
    }
   ],
   "source": [
    "s1.index('s')"
   ]
  },
  {
   "cell_type": "code",
   "execution_count": 66,
   "id": "ea3b602f-836f-4cbe-b1bd-aea8c5a5e60a",
   "metadata": {},
   "outputs": [
    {
     "data": {
      "text/plain": [
       "2"
      ]
     },
     "execution_count": 66,
     "metadata": {},
     "output_type": "execute_result"
    }
   ],
   "source": [
    "s1.find('i') "
   ]
  },
  {
   "cell_type": "code",
   "execution_count": 67,
   "id": "ebf1a660-20c9-478c-b0d7-75bd678ee8a8",
   "metadata": {},
   "outputs": [
    {
     "data": {
      "text/plain": [
       "2"
      ]
     },
     "execution_count": 67,
     "metadata": {},
     "output_type": "execute_result"
    }
   ],
   "source": [
    "s1.find(\"is\")"
   ]
  },
  {
   "cell_type": "code",
   "execution_count": 68,
   "id": "ad8cae36-0fbf-4037-a5f3-7fccaeba2d0b",
   "metadata": {},
   "outputs": [
    {
     "data": {
      "text/plain": [
       "-1"
      ]
     },
     "execution_count": 68,
     "metadata": {},
     "output_type": "execute_result"
    }
   ],
   "source": [
    "s1.find(\"iS\")"
   ]
  },
  {
   "cell_type": "code",
   "execution_count": 69,
   "id": "bffdfa10-639f-4993-b851-ff3f08bd6106",
   "metadata": {},
   "outputs": [
    {
     "data": {
      "text/plain": [
       "2"
      ]
     },
     "execution_count": 69,
     "metadata": {},
     "output_type": "execute_result"
    }
   ],
   "source": [
    "s1.count(\"is\")"
   ]
  },
  {
   "cell_type": "code",
   "execution_count": 71,
   "id": "6ea77247-41ae-4ffb-9a2d-374e5eda73b7",
   "metadata": {},
   "outputs": [
    {
     "data": {
      "text/plain": [
       "0"
      ]
     },
     "execution_count": 71,
     "metadata": {},
     "output_type": "execute_result"
    }
   ],
   "source": [
    "s1.count(\"z\")"
   ]
  },
  {
   "cell_type": "code",
   "execution_count": 72,
   "id": "9a0c41df-6d4f-4a26-ba8f-f9230400d220",
   "metadata": {},
   "outputs": [
    {
     "data": {
      "text/plain": [
       "'THIS IS MY BOOK'"
      ]
     },
     "execution_count": 72,
     "metadata": {},
     "output_type": "execute_result"
    }
   ],
   "source": [
    "s1.upper()"
   ]
  },
  {
   "cell_type": "code",
   "execution_count": 73,
   "id": "15364753-3333-44ae-8ca1-669836038cf8",
   "metadata": {},
   "outputs": [],
   "source": [
    "s2 = \"this is oyour book\""
   ]
  },
  {
   "cell_type": "code",
   "execution_count": 74,
   "id": "d017c28f-067b-4bdd-888e-a6b4adbccb32",
   "metadata": {},
   "outputs": [
    {
     "data": {
      "text/plain": [
       "'this is oyour book'"
      ]
     },
     "execution_count": 74,
     "metadata": {},
     "output_type": "execute_result"
    }
   ],
   "source": [
    "s2.lower()"
   ]
  },
  {
   "cell_type": "code",
   "execution_count": 75,
   "id": "9f2a639d-8399-44f1-8fe1-2cc9b12c9480",
   "metadata": {},
   "outputs": [
    {
     "data": {
      "text/plain": [
       "'THIS IS OYOUR BOOK'"
      ]
     },
     "execution_count": 75,
     "metadata": {},
     "output_type": "execute_result"
    }
   ],
   "source": [
    "s2.upper()"
   ]
  },
  {
   "cell_type": "code",
   "execution_count": 76,
   "id": "65c6b7d5-2e8c-4352-877d-5a9f7a19f7e9",
   "metadata": {},
   "outputs": [
    {
     "data": {
      "text/plain": [
       "'This Is My Book'"
      ]
     },
     "execution_count": 76,
     "metadata": {},
     "output_type": "execute_result"
    }
   ],
   "source": [
    "s1.title()"
   ]
  },
  {
   "cell_type": "code",
   "execution_count": 77,
   "id": "8713ab99-0ef5-4071-813b-750ebea04d19",
   "metadata": {},
   "outputs": [
    {
     "data": {
      "text/plain": [
       "'This is my book'"
      ]
     },
     "execution_count": 77,
     "metadata": {},
     "output_type": "execute_result"
    }
   ],
   "source": [
    "s1.capitalize()"
   ]
  },
  {
   "cell_type": "code",
   "execution_count": 83,
   "id": "71305272-af73-483a-996d-9f93df4d3dac",
   "metadata": {},
   "outputs": [
    {
     "data": {
      "text/plain": [
       "'pwskills'"
      ]
     },
     "execution_count": 83,
     "metadata": {},
     "output_type": "execute_result"
    }
   ],
   "source": [
    "s"
   ]
  },
  {
   "cell_type": "code",
   "execution_count": 84,
   "id": "5ed6d405-5efc-4232-8438-6dbc0c67288b",
   "metadata": {},
   "outputs": [
    {
     "data": {
      "text/plain": [
       "'pwskillsthis is my book'"
      ]
     },
     "execution_count": 84,
     "metadata": {},
     "output_type": "execute_result"
    }
   ],
   "source": [
    "s + s1"
   ]
  },
  {
   "cell_type": "code",
   "execution_count": 90,
   "id": "9761af75-cad6-45b6-a579-afa95cfaab91",
   "metadata": {},
   "outputs": [],
   "source": [
    "d = \"suraj\""
   ]
  },
  {
   "cell_type": "code",
   "execution_count": 91,
   "id": "80a03c3f-ed2f-419c-8cbf-ccc656f8fdb9",
   "metadata": {},
   "outputs": [
    {
     "data": {
      "text/plain": [
       "'suraj'"
      ]
     },
     "execution_count": 91,
     "metadata": {},
     "output_type": "execute_result"
    }
   ],
   "source": [
    "d"
   ]
  },
  {
   "cell_type": "code",
   "execution_count": 96,
   "id": "e890adf5-4236-4440-9dce-f3461534440c",
   "metadata": {},
   "outputs": [
    {
     "data": {
      "text/plain": [
       "'pwskillssuraj'"
      ]
     },
     "execution_count": 96,
     "metadata": {},
     "output_type": "execute_result"
    }
   ],
   "source": [
    "s + d"
   ]
  },
  {
   "cell_type": "code",
   "execution_count": 99,
   "id": "b471b698-1bb7-460e-a365-51ad08edb618",
   "metadata": {},
   "outputs": [
    {
     "data": {
      "text/plain": [
       "'pwskillspwskillspwskillspwskillspwskillspwskillspwskills'"
      ]
     },
     "execution_count": 99,
     "metadata": {},
     "output_type": "execute_result"
    }
   ],
   "source": [
    "s * 7"
   ]
  },
  {
   "cell_type": "code",
   "execution_count": 101,
   "id": "0a4cc5b2-df04-4889-8b4f-93596c84aaf3",
   "metadata": {},
   "outputs": [
    {
     "data": {
      "text/plain": [
       "' dont do copy and paste in my class'"
      ]
     },
     "execution_count": 101,
     "metadata": {},
     "output_type": "execute_result"
    }
   ],
   "source": [
    "' dont do copy and paste in my class'"
   ]
  },
  {
   "cell_type": "code",
   "execution_count": 102,
   "id": "4190655a-628d-40bb-84cc-30e10a662ec7",
   "metadata": {},
   "outputs": [
    {
     "data": {
      "text/plain": [
       "\"don't go here and there\""
      ]
     },
     "execution_count": 102,
     "metadata": {},
     "output_type": "execute_result"
    }
   ],
   "source": [
    "\"don't go here and there\""
   ]
  },
  {
   "cell_type": "code",
   "execution_count": 109,
   "id": "dbc0039c-1f0f-44c3-bc8e-7b897751d71d",
   "metadata": {},
   "outputs": [
    {
     "data": {
      "text/plain": [
       "'This is my first class where you have to do this work\\n\\ni have learnt varibale declaration, data type,string,int,boolean,complex number,i have seen some exapmle\\n of string slicing and indexing \\n    i have gone through which is bad'"
      ]
     },
     "execution_count": 109,
     "metadata": {},
     "output_type": "execute_result"
    }
   ],
   "source": [
    "\"\"\"This is my first class where you have to do this work\\n\n",
    "i have learnt varibale declaration, data type,string,int,boolean,complex number,i have seen some exapmle\n",
    " of string slicing and indexing \n",
    "    i have gone through which is bad\"\"\""
   ]
  },
  {
   "cell_type": "code",
   "execution_count": 5,
   "id": "2c0c9cee-8d13-4ced-b6ec-af47d510a8c7",
   "metadata": {},
   "outputs": [],
   "source": [
    "sl = \"this is your book in this wordld\""
   ]
  },
  {
   "cell_type": "code",
   "execution_count": 6,
   "id": "6e4ca5db-833d-4a45-85c1-364254aab194",
   "metadata": {},
   "outputs": [
    {
     "data": {
      "text/plain": [
       "'this is your book in this wordld'"
      ]
     },
     "execution_count": 6,
     "metadata": {},
     "output_type": "execute_result"
    }
   ],
   "source": [
    "sl"
   ]
  },
  {
   "cell_type": "code",
   "execution_count": 9,
   "id": "e3c38cb4-ca73-4f02-83b3-656a660b1212",
   "metadata": {},
   "outputs": [
    {
     "data": {
      "text/plain": [
       "13"
      ]
     },
     "execution_count": 9,
     "metadata": {},
     "output_type": "execute_result"
    }
   ],
   "source": [
    "sl.index(\"book\")"
   ]
  },
  {
   "cell_type": "code",
   "execution_count": null,
   "id": "35b4850f-fa9f-4f47-93de-bef14ffac1ed",
   "metadata": {},
   "outputs": [],
   "source": []
  }
 ],
 "metadata": {
  "kernelspec": {
   "display_name": "Python 3 (ipykernel)",
   "language": "python",
   "name": "python3"
  },
  "language_info": {
   "codemirror_mode": {
    "name": "ipython",
    "version": 3
   },
   "file_extension": ".py",
   "mimetype": "text/x-python",
   "name": "python",
   "nbconvert_exporter": "python",
   "pygments_lexer": "ipython3",
   "version": "3.10.8"
  }
 },
 "nbformat": 4,
 "nbformat_minor": 5
}
