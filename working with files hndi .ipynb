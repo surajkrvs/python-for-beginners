{
 "cells": [
  {
   "cell_type": "code",
   "execution_count": 10,
   "id": "f138891d-b32e-49c8-a46a-ac2c58e47b26",
   "metadata": {},
   "outputs": [],
   "source": [
    "f = open(\"test.txt\" , \"w\")"
   ]
  },
  {
   "cell_type": "code",
   "execution_count": 11,
   "id": "cab5ba75-9de6-40c7-beaf-cbc1bc619df9",
   "metadata": {},
   "outputs": [
    {
     "data": {
      "text/plain": [
       "'/home/jovyan/work'"
      ]
     },
     "execution_count": 11,
     "metadata": {},
     "output_type": "execute_result"
    }
   ],
   "source": [
    "pwd"
   ]
  },
  {
   "cell_type": "code",
   "execution_count": 12,
   "id": "5a863e9a-2a1f-4aae-9238-f8012ffda263",
   "metadata": {},
   "outputs": [
    {
     "name": "stdout",
     "output_type": "stream",
     "text": [
      "\u001b[0m\u001b[01;34m'4th class python'\u001b[0m/                  python3rrdclass.ipynb\n",
      "'6th pythonclass.ipynb'             \u001b[01;34m'python 5th class'\u001b[0m/\n",
      " \u001b[01;34massigment\u001b[0m/                          pythonbasic.ipynb\n",
      " classmethod.ipynb                  \u001b[01;34m'python second class'\u001b[0m/\n",
      " decorator.ipynb                     staticmethod.ipynb\n",
      " encapsulation.ipynb                 test.txt\n",
      " inheritance.ipynb                   Untitled1.ipynb\n",
      " lambdafunction.ipynb                Untitled2.ipynb\n",
      "'magic or dunder method.ipynb'       Untitled4.ipynb\n",
      "'map,reduce,filter function.ipynb'   Untitled5.ipynb\n",
      "'oops part 1.ipynb'                 \u001b[01;34m'Untitled Folder'\u001b[0m/\n",
      " polymorphism.ipynb                 \u001b[01;34m'Untitled Folder 1'\u001b[0m/\n",
      "'property decorators getter.ipynb'   Untitled.ipynb\n",
      " python2ndclass.ipynb               'working with files hndi .ipynb'\n",
      " python3rdclasspart2.ipynb\n"
     ]
    }
   ],
   "source": [
    "ls"
   ]
  },
  {
   "cell_type": "code",
   "execution_count": 13,
   "id": "c3194e18-1e04-4fad-a393-04030e87e066",
   "metadata": {},
   "outputs": [
    {
     "name": "stdout",
     "output_type": "stream",
     "text": [
      "[Errno 2] No such file or directory: 'working with files hndi'\n",
      "/home/jovyan/work\n"
     ]
    }
   ],
   "source": [
    "cd working with files hndi"
   ]
  },
  {
   "cell_type": "code",
   "execution_count": 14,
   "id": "c01e6e5f-9af6-47b1-8ec1-da0d9ead51b6",
   "metadata": {},
   "outputs": [
    {
     "data": {
      "text/plain": [
       "30"
      ]
     },
     "execution_count": 14,
     "metadata": {},
     "output_type": "execute_result"
    }
   ],
   "source": [
    " f.write(\"this is my first file to write\")"
   ]
  },
  {
   "cell_type": "code",
   "execution_count": 15,
   "id": "2ee9ac7e-d9e2-422d-91f6-bdc0701d9a00",
   "metadata": {},
   "outputs": [],
   "source": [
    "f.close()"
   ]
  },
  {
   "cell_type": "code",
   "execution_count": 19,
   "id": "6d00cc90-dbec-4c9d-bcd4-90cfc3e23895",
   "metadata": {},
   "outputs": [],
   "source": [
    "f = (\"suraj.txt\" , \"w\")"
   ]
  },
  {
   "cell_type": "code",
   "execution_count": 20,
   "id": "ec58cbe0-adff-4990-a929-18b3755ca497",
   "metadata": {},
   "outputs": [
    {
     "data": {
      "text/plain": [
       "'/home/jovyan/work'"
      ]
     },
     "execution_count": 20,
     "metadata": {},
     "output_type": "execute_result"
    }
   ],
   "source": [
    "pwd"
   ]
  },
  {
   "cell_type": "code",
   "execution_count": 21,
   "id": "17779304-6421-4f08-83aa-8c6a24cc289e",
   "metadata": {},
   "outputs": [
    {
     "name": "stdout",
     "output_type": "stream",
     "text": [
      "\u001b[0m\u001b[01;34m'4th class python'\u001b[0m/                  python3rrdclass.ipynb\n",
      "'6th pythonclass.ipynb'             \u001b[01;34m'python 5th class'\u001b[0m/\n",
      " \u001b[01;34massigment\u001b[0m/                          pythonbasic.ipynb\n",
      " classmethod.ipynb                  \u001b[01;34m'python second class'\u001b[0m/\n",
      " decorator.ipynb                     staticmethod.ipynb\n",
      " encapsulation.ipynb                 test.txt\n",
      " inheritance.ipynb                   Untitled1.ipynb\n",
      " lambdafunction.ipynb                Untitled2.ipynb\n",
      "'magic or dunder method.ipynb'       Untitled4.ipynb\n",
      "'map,reduce,filter function.ipynb'   Untitled5.ipynb\n",
      "'oops part 1.ipynb'                 \u001b[01;34m'Untitled Folder'\u001b[0m/\n",
      " polymorphism.ipynb                 \u001b[01;34m'Untitled Folder 1'\u001b[0m/\n",
      "'property decorators getter.ipynb'   Untitled.ipynb\n",
      " python2ndclass.ipynb               'working with files hndi .ipynb'\n",
      " python3rdclasspart2.ipynb\n"
     ]
    }
   ],
   "source": [
    "ls"
   ]
  },
  {
   "cell_type": "code",
   "execution_count": null,
   "id": "d1e52c50-78e5-45a0-9b6b-3a51a9c45c87",
   "metadata": {},
   "outputs": [],
   "source": [
    "f."
   ]
  }
 ],
 "metadata": {
  "kernelspec": {
   "display_name": "Python 3 (ipykernel)",
   "language": "python",
   "name": "python3"
  },
  "language_info": {
   "codemirror_mode": {
    "name": "ipython",
    "version": 3
   },
   "file_extension": ".py",
   "mimetype": "text/x-python",
   "name": "python",
   "nbconvert_exporter": "python",
   "pygments_lexer": "ipython3",
   "version": "3.10.8"
  }
 },
 "nbformat": 4,
 "nbformat_minor": 5
}
