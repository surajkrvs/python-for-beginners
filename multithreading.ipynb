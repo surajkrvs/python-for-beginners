{
 "cells": [
  {
   "cell_type": "code",
   "execution_count": 94,
   "id": "8f6d8330-4217-47cc-a8f4-61a34a42b3d9",
   "metadata": {},
   "outputs": [],
   "source": [
    "import threading"
   ]
  },
  {
   "cell_type": "code",
   "execution_count": 95,
   "id": "400fb096-72f9-4c91-b5b2-549c05c5bdc6",
   "metadata": {},
   "outputs": [],
   "source": [
    "def test(id):\n",
    "    print(\"prog start %d \"% id)"
   ]
  },
  {
   "cell_type": "code",
   "execution_count": 96,
   "id": "d5e1803b-b47f-40fe-ace9-f49f76c13fb1",
   "metadata": {},
   "outputs": [
    {
     "name": "stdout",
     "output_type": "stream",
     "text": [
      "prog start 45 \n"
     ]
    }
   ],
   "source": [
    "test(45)"
   ]
  },
  {
   "cell_type": "code",
   "execution_count": 97,
   "id": "80fc3e95-25bb-40e1-9da7-45eccdc0e90b",
   "metadata": {},
   "outputs": [],
   "source": [
    "thread = [threading.Thread(target = test , args =(i,) )for i in range(10)]"
   ]
  },
  {
   "cell_type": "code",
   "execution_count": 98,
   "id": "bde46c0a-2466-42d1-8273-5467d165474d",
   "metadata": {},
   "outputs": [
    {
     "name": "stdout",
     "output_type": "stream",
     "text": [
      "prog start 0 \n",
      "prog start 1 \n",
      "prog start 2 \n",
      "prog start 3 \n",
      "prog start 4 \n",
      "prog start 5 \n",
      "prog start 6 \n",
      "prog start 7 \n",
      "prog start 8 \n",
      "prog start 9 \n"
     ]
    }
   ],
   "source": [
    "for t in thread:\n",
    "    t.start()"
   ]
  },
  {
   "cell_type": "code",
   "execution_count": 99,
   "id": "cc07bb88-7357-4ff8-be75-0f21e3c5fb9e",
   "metadata": {},
   "outputs": [
    {
     "data": {
      "text/plain": [
       "[0, 1, 2, 3, 4, 5, 6, 7, 8, 9]"
      ]
     },
     "execution_count": 99,
     "metadata": {},
     "output_type": "execute_result"
    }
   ],
   "source": [
    "list(range(10))"
   ]
  },
  {
   "cell_type": "code",
   "execution_count": 100,
   "id": "f29dc984-fdf7-4582-8732-d1a02f40b881",
   "metadata": {},
   "outputs": [
    {
     "data": {
      "text/plain": [
       "[<Thread(Thread-67 (test), stopped 140285329778240)>,\n",
       " <Thread(Thread-68 (test), stopped 140285329778240)>,\n",
       " <Thread(Thread-69 (test), stopped 140285329778240)>,\n",
       " <Thread(Thread-70 (test), stopped 140285329778240)>,\n",
       " <Thread(Thread-71 (test), stopped 140285329778240)>,\n",
       " <Thread(Thread-72 (test), stopped 140285329778240)>,\n",
       " <Thread(Thread-73 (test), stopped 140285329778240)>,\n",
       " <Thread(Thread-74 (test), stopped 140285329778240)>,\n",
       " <Thread(Thread-75 (test), stopped 140285329778240)>,\n",
       " <Thread(Thread-76 (test), stopped 140285329778240)>]"
      ]
     },
     "execution_count": 100,
     "metadata": {},
     "output_type": "execute_result"
    }
   ],
   "source": [
    "thread"
   ]
  },
  {
   "cell_type": "code",
   "execution_count": 101,
   "id": "3afd2258-4d64-4f27-aa3b-62442f1e2cab",
   "metadata": {},
   "outputs": [
    {
     "data": {
      "text/plain": [
       "140285718188288"
      ]
     },
     "execution_count": 101,
     "metadata": {},
     "output_type": "execute_result"
    }
   ],
   "source": [
    "id(thread)"
   ]
  },
  {
   "cell_type": "code",
   "execution_count": 102,
   "id": "e3d15422-726e-4fc3-9a1a-58db235fee75",
   "metadata": {},
   "outputs": [],
   "source": [
    "import threading\n",
    "import urllib.request\n",
    "\n",
    "def file_download(url,filename):\n",
    "    urllib.request.urlretrieve(url,filename)"
   ]
  },
  {
   "cell_type": "code",
   "execution_count": 103,
   "id": "f43479ac-7dec-4c2d-8abb-73c52ac7c9e8",
   "metadata": {},
   "outputs": [],
   "source": [
    "file_download(\"https://raw.githubusercontent.com/itsfoss/text-files/master/agatha.txt\" , \"text.txt\")"
   ]
  },
  {
   "cell_type": "code",
   "execution_count": 104,
   "id": "08691086-ca8f-48ef-ac44-bc37e327375e",
   "metadata": {},
   "outputs": [],
   "source": [
    "url_list = [\"https://raw.githubusercontent.com/itsfoss/text-files/master/agatha.txt\", \"https://raw.githubusercontent.com/itsfoss/text-files/master/sherlock.txt\", \"https://raw.githubusercontent.com/itsfoss/text-files/master/sample_log_file.txt\"]"
   ]
  },
  {
   "cell_type": "code",
   "execution_count": 105,
   "id": "6d4f670f-2fc4-4664-b403-e28f9db9525f",
   "metadata": {},
   "outputs": [
    {
     "data": {
      "text/plain": [
       "['https://raw.githubusercontent.com/itsfoss/text-files/master/agatha.txt',\n",
       " 'https://raw.githubusercontent.com/itsfoss/text-files/master/sherlock.txt',\n",
       " 'https://raw.githubusercontent.com/itsfoss/text-files/master/sample_log_file.txt']"
      ]
     },
     "execution_count": 105,
     "metadata": {},
     "output_type": "execute_result"
    }
   ],
   "source": [
    "url_list"
   ]
  },
  {
   "cell_type": "code",
   "execution_count": 106,
   "id": "596b9c74-dc06-41d0-b9f9-6e83428f19db",
   "metadata": {},
   "outputs": [],
   "source": [
    "file_name_list = ['data1.txt', 'data2.txt' , 'data3.txt']"
   ]
  },
  {
   "cell_type": "code",
   "execution_count": 107,
   "id": "4bf2cfa8-6284-40d6-8c21-85c6b2818387",
   "metadata": {},
   "outputs": [],
   "source": [
    "ther = [threading.Thread(target = file_download, args =(url_list[i], file_name_list[i]))for i in range(len(url_list))]"
   ]
  },
  {
   "cell_type": "code",
   "execution_count": 108,
   "id": "afd3f593-2166-4b11-a0e1-17a737a62c9f",
   "metadata": {},
   "outputs": [
    {
     "data": {
      "text/plain": [
       "[<Thread(Thread-77 (file_download), initial)>,\n",
       " <Thread(Thread-78 (file_download), initial)>,\n",
       " <Thread(Thread-79 (file_download), initial)>]"
      ]
     },
     "execution_count": 108,
     "metadata": {},
     "output_type": "execute_result"
    }
   ],
   "source": [
    "ther"
   ]
  },
  {
   "cell_type": "code",
   "execution_count": 109,
   "id": "147eb0b5-d84e-42cf-bab3-32960dfa7bc3",
   "metadata": {},
   "outputs": [],
   "source": [
    "for t in ther:\n",
    "    t.start()"
   ]
  },
  {
   "cell_type": "code",
   "execution_count": 110,
   "id": "82d98672-29d9-40f0-b228-7ed9603038c4",
   "metadata": {},
   "outputs": [
    {
     "data": {
      "text/plain": [
       "[<Thread(Thread-77 (file_download), stopped 140285329778240)>,\n",
       " <Thread(Thread-78 (file_download), stopped 140285338170944)>,\n",
       " <Thread(Thread-79 (file_download), stopped 140285359150656)>]"
      ]
     },
     "execution_count": 110,
     "metadata": {},
     "output_type": "execute_result"
    }
   ],
   "source": [
    "ther"
   ]
  },
  {
   "cell_type": "code",
   "execution_count": 111,
   "id": "23eaf81d-47da-4d56-8b38-1ba1dadecbc5",
   "metadata": {},
   "outputs": [],
   "source": [
    "import time\n"
   ]
  },
  {
   "cell_type": "code",
   "execution_count": 112,
   "id": "2d4907ed-5828-4669-9613-a288c51a48ac",
   "metadata": {},
   "outputs": [],
   "source": [
    "def test1(id):\n",
    "    for i in range(10):\n",
    "        print(\"test1 %d printing %d %s\" %(id,i,time.ctime()))\n",
    "        time.sleep(1)"
   ]
  },
  {
   "cell_type": "code",
   "execution_count": 113,
   "id": "cd21e537-9699-4284-a063-592176d73d73",
   "metadata": {},
   "outputs": [
    {
     "name": "stdout",
     "output_type": "stream",
     "text": [
      "test1 0 printing 0 Sat Feb 18 09:34:37 2023\n",
      "test1 0 printing 1 Sat Feb 18 09:34:38 2023\n",
      "test1 0 printing 2 Sat Feb 18 09:34:39 2023\n",
      "test1 0 printing 3 Sat Feb 18 09:34:40 2023\n",
      "test1 0 printing 4 Sat Feb 18 09:34:41 2023\n",
      "test1 0 printing 5 Sat Feb 18 09:34:42 2023\n",
      "test1 0 printing 6 Sat Feb 18 09:34:43 2023\n",
      "test1 0 printing 7 Sat Feb 18 09:34:44 2023\n",
      "test1 0 printing 8 Sat Feb 18 09:34:45 2023\n",
      "test1 0 printing 9 Sat Feb 18 09:34:46 2023\n"
     ]
    }
   ],
   "source": [
    "test1(0)"
   ]
  },
  {
   "cell_type": "code",
   "execution_count": 114,
   "id": "4fca7458-5c07-40f2-b172-7570a3db4f2f",
   "metadata": {},
   "outputs": [],
   "source": [
    "thread1 = [threading.Thread(target = test1 , args = (i,)) for i  in range(3)]"
   ]
  },
  {
   "cell_type": "code",
   "execution_count": 115,
   "id": "36533862-4b72-468f-830f-38ced41e5c61",
   "metadata": {},
   "outputs": [
    {
     "name": "stdout",
     "output_type": "stream",
     "text": [
      "test1 0 printing 0 Sat Feb 18 09:35:05 2023\n",
      "test1 1 printing 0 Sat Feb 18 09:35:05 2023\n",
      "test1 2 printing 0 Sat Feb 18 09:35:05 2023\n",
      "test1 0 printing 1 Sat Feb 18 09:35:06 2023\n",
      "test1 1 printing 1 Sat Feb 18 09:35:06 2023\n",
      "test1 2 printing 1 Sat Feb 18 09:35:06 2023\n",
      "test1 0 printing 2 Sat Feb 18 09:35:07 2023\n",
      "test1 1 printing 2 Sat Feb 18 09:35:07 2023\n",
      "test1 2 printing 2 Sat Feb 18 09:35:07 2023\n",
      "test1 0 printing 3 Sat Feb 18 09:35:08 2023\n",
      "test1 1 printing 3 Sat Feb 18 09:35:08 2023\n",
      "test1 2 printing 3 Sat Feb 18 09:35:08 2023\n",
      "test1 0 printing 4 Sat Feb 18 09:35:09 2023\n",
      "test1 1 printing 4 Sat Feb 18 09:35:09 2023\n",
      "test1 2 printing 4 Sat Feb 18 09:35:09 2023\n",
      "test1 2 printing 5 Sat Feb 18 09:35:10 2023\n",
      "test1 1 printing 5 Sat Feb 18 09:35:10 2023\n",
      "test1 0 printing 5 Sat Feb 18 09:35:10 2023\n",
      "test1 1 printing 6 Sat Feb 18 09:35:11 2023\n",
      "test1 2 printing 6 Sat Feb 18 09:35:11 2023\n",
      "test1 0 printing 6 Sat Feb 18 09:35:11 2023\n",
      "test1 1 printing 7 Sat Feb 18 09:35:12 2023test1 2 printing 7 Sat Feb 18 09:35:12 2023\n",
      "\n",
      "test1 0 printing 7 Sat Feb 18 09:35:12 2023\n",
      "test1 2 printing 8 Sat Feb 18 09:35:13 2023\n",
      "test1 1 printing 8 Sat Feb 18 09:35:13 2023\n",
      "test1 0 printing 8 Sat Feb 18 09:35:13 2023\n",
      "test1 2 printing 9 Sat Feb 18 09:35:14 2023test1 1 printing 9 Sat Feb 18 09:35:14 2023\n",
      "\n",
      "test1 0 printing 9 Sat Feb 18 09:35:14 2023\n"
     ]
    }
   ],
   "source": [
    "for t in thread1:\n",
    "    t.start()"
   ]
  },
  {
   "cell_type": "code",
   "execution_count": 116,
   "id": "6f55ded5-80da-43db-a9f5-e680d6118023",
   "metadata": {},
   "outputs": [],
   "source": [
    "shared_var = 0 \n",
    "lock_var = threading.Lock()"
   ]
  },
  {
   "cell_type": "code",
   "execution_count": 117,
   "id": "c44312fb-98a8-4504-86a2-fa3751ccdf2b",
   "metadata": {},
   "outputs": [],
   "source": [
    "def test2(id):\n",
    "    global shared_var\n",
    "    with lock_var:\n",
    "        shared_var =shared_var + 1\n",
    "        print(\"test2 id is %d has increased the shared variable by %d\" %(id , shared_var))\n"
   ]
  },
  {
   "cell_type": "code",
   "execution_count": 118,
   "id": "38646822-12d2-42fa-99ee-98b419de6366",
   "metadata": {},
   "outputs": [],
   "source": [
    "ther3 = [threading.Thread(target = test2, args = (i,) ) for i in range(3)]"
   ]
  },
  {
   "cell_type": "code",
   "execution_count": 119,
   "id": "c1f7526e-7815-409d-9558-1b01931dd720",
   "metadata": {},
   "outputs": [
    {
     "data": {
      "text/plain": [
       "[<Thread(Thread-83 (test2), initial)>,\n",
       " <Thread(Thread-84 (test2), initial)>,\n",
       " <Thread(Thread-85 (test2), initial)>]"
      ]
     },
     "execution_count": 119,
     "metadata": {},
     "output_type": "execute_result"
    }
   ],
   "source": [
    "ther3"
   ]
  },
  {
   "cell_type": "code",
   "execution_count": 120,
   "id": "ad9346bd-84a7-44f0-a0b7-cfc73d971873",
   "metadata": {},
   "outputs": [
    {
     "name": "stdout",
     "output_type": "stream",
     "text": [
      "test2 id is 0 has increased the shared variable by 1\n",
      "test2 id is 1 has increased the shared variable by 2\n",
      "test2 id is 2 has increased the shared variable by 3\n"
     ]
    }
   ],
   "source": [
    "for t in ther3:\n",
    "    t.start()"
   ]
  },
  {
   "cell_type": "code",
   "execution_count": null,
   "id": "90bc06f9-0a05-424c-9abb-69e713f0feea",
   "metadata": {},
   "outputs": [],
   "source": []
  }
 ],
 "metadata": {
  "kernelspec": {
   "display_name": "Python 3 (ipykernel)",
   "language": "python",
   "name": "python3"
  },
  "language_info": {
   "codemirror_mode": {
    "name": "ipython",
    "version": 3
   },
   "file_extension": ".py",
   "mimetype": "text/x-python",
   "name": "python",
   "nbconvert_exporter": "python",
   "pygments_lexer": "ipython3",
   "version": "3.10.8"
  }
 },
 "nbformat": 4,
 "nbformat_minor": 5
}
