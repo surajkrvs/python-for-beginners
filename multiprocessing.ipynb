{
 "cells": [
  {
   "cell_type": "code",
   "execution_count": 1,
   "id": "83a62b88-0227-4a87-8439-58afe3590a21",
   "metadata": {},
   "outputs": [
    {
     "name": "stdout",
     "output_type": "stream",
     "text": [
      "this is my main prg\n",
      "this is my multiprocessing prog\n"
     ]
    }
   ],
   "source": [
    "import multiprocessing\n",
    "def test():\n",
    "    print(\"this is my multiprocessing prog\")\n",
    "if __name__== '__main__':\n",
    "    m = multiprocessing.Process(target = test)\n",
    "    print(\"this is my main prg\")\n",
    "    m.start()\n",
    "    m.join()"
   ]
  },
  {
   "cell_type": "code",
   "execution_count": 2,
   "id": "2ff64343-b4c7-4d6c-ae4a-00ccfb7f2789",
   "metadata": {},
   "outputs": [
    {
     "name": "stdout",
     "output_type": "stream",
     "text": [
      "this is my multiprocessing prog\n"
     ]
    }
   ],
   "source": [
    "test()"
   ]
  },
  {
   "cell_type": "code",
   "execution_count": null,
   "id": "79691262-db3b-4fc1-b35e-4000608f8f72",
   "metadata": {},
   "outputs": [],
   "source": [
    "def square(n):\n",
    "    return n**2\n",
    "if __name__=='__main__':\n",
    "    with multiprocessing.Pool(processes = 1) as pool :\n",
    "        out = pool.map(square,[1,2,3,4,5,6,7,8,9])\n",
    "        print(out)\n",
    "    "
   ]
  },
  {
   "cell_type": "code",
   "execution_count": null,
   "id": "4269d2c1-5a1b-454a-a1cd-26123a25072b",
   "metadata": {},
   "outputs": [],
   "source": [
    "import multiprocessing\n",
    "\n",
    "def producer(q):\n",
    "    for i  in ['suraj' , 'krish' , 'sudh']:\n",
    "        q.put(i)\n",
    "        \n",
    "def consume(q):\n",
    "    while True:\n",
    "        item = q.get()\n",
    "        if item is None :\n",
    "            break\n",
    "        print(item)\n",
    "    \n",
    "if __name__=='__main__':\n",
    "    queue = multiprocessing.Queue()\n",
    "    m1 = multiprocessing.Process(target= producer , args = (queue,))\n",
    "    m2 = multiprocessing.Process(target = consume, args = (queue,)) \n",
    "    m1.start()\n",
    "    m2.start()\n",
    "    queue.put(\"suraj\")\n",
    "    m1.join()\n",
    "    m2.join()"
   ]
  },
  {
   "cell_type": "code",
   "execution_count": null,
   "id": "3c76804f-4444-417e-84e7-82a6aa6b44d6",
   "metadata": {},
   "outputs": [],
   "source": [
    "import multiprocessing\n",
    "\n",
    "def square(index,value):\n",
    "    \n",
    "    value[index] = value[index]**2\n",
    "    \n",
    "if __name__=='__main__':\n",
    "    arr = multiprocessing.Array('i' , [1,2,3,4,5,6,7,8])\n",
    "    process = []\n",
    "    for i in range (8):\n",
    "        m =multiprocessing.Process(target = square ,args = (i,arr))\n",
    "        process.append(m)\n",
    "        m.start()\n",
    "    for p in process:\n",
    "        m.join()\n",
    "    print(list(arr))"
   ]
  },
  {
   "cell_type": "code",
   "execution_count": null,
   "id": "bc286411-b7c9-4e4e-aed3-d489e15b0748",
   "metadata": {},
   "outputs": [],
   "source": [
    "import multiprocessing\n",
    "def sender(conn , msg):\n",
    "    for i in msg:\n",
    "        conn.send(i)\n",
    "        conn.close()\n",
    "        \n",
    "def receive(conn):\n",
    "    while True:\n",
    "        try : \n",
    "            msg = conn.recv()\n",
    "        except Exception as e :\n",
    "            print(e)\n",
    "            break\n",
    "            print(msg)\n",
    "            \n",
    "if __name__=='__main__':\n",
    "    msg =  [\"my name is suraj\"]\n",
    "    parent_con , child_con = multiprocessing.Pipe()\n",
    "    m1 = multiprocessing.Process(target = sender , args = (child_con, msg))\n",
    "    m2 = multiprocessing.Process(target =receive , args = (parent_con ,))\n",
    "    m1.start()\n",
    "    m2.start()\n",
    "    m1.join()\n",
    "    child_con.close()\n",
    "    m2.join()       \n",
    "    parent_con.close()       "
   ]
  },
  {
   "cell_type": "code",
   "execution_count": null,
   "id": "2d021bd7-24f3-4156-aa95-ce0e8ba2cb3b",
   "metadata": {},
   "outputs": [],
   "source": []
  },
  {
   "cell_type": "code",
   "execution_count": null,
   "id": "2e580b43-95b0-4d8b-b5ad-19be5814e274",
   "metadata": {},
   "outputs": [],
   "source": []
  },
  {
   "cell_type": "code",
   "execution_count": null,
   "id": "1ba034ac-17cc-4873-bcc4-1d707b6cd669",
   "metadata": {},
   "outputs": [],
   "source": []
  },
  {
   "cell_type": "code",
   "execution_count": null,
   "id": "a846dfd7-81a3-44bf-a17a-1201f93c8f1a",
   "metadata": {},
   "outputs": [],
   "source": []
  }
 ],
 "metadata": {
  "kernelspec": {
   "display_name": "Python 3 (ipykernel)",
   "language": "python",
   "name": "python3"
  },
  "language_info": {
   "codemirror_mode": {
    "name": "ipython",
    "version": 3
   },
   "file_extension": ".py",
   "mimetype": "text/x-python",
   "name": "python",
   "nbconvert_exporter": "python",
   "pygments_lexer": "ipython3",
   "version": "3.10.8"
  }
 },
 "nbformat": 4,
 "nbformat_minor": 5
}
