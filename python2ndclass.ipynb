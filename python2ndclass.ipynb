{
 "cells": [
  {
   "cell_type": "code",
   "execution_count": 4,
   "id": "db18d85f-7857-4761-bd64-807d1e61a9eb",
   "metadata": {},
   "outputs": [],
   "source": [
    "l = [1,345,45,\"suraj\" , True , 5+7j , 345.456]"
   ]
  },
  {
   "cell_type": "code",
   "execution_count": 5,
   "id": "c6e49767-9131-4a96-9bc1-bd9bd74f7330",
   "metadata": {},
   "outputs": [
    {
     "data": {
      "text/plain": [
       "int"
      ]
     },
     "execution_count": 5,
     "metadata": {},
     "output_type": "execute_result"
    }
   ],
   "source": [
    "type(1)\n",
    "     "
   ]
  },
  {
   "cell_type": "code",
   "execution_count": 6,
   "id": "e8f1187a-cd6a-4c92-bbc1-7eb9e03b66bb",
   "metadata": {},
   "outputs": [
    {
     "data": {
      "text/plain": [
       "list"
      ]
     },
     "execution_count": 6,
     "metadata": {},
     "output_type": "execute_result"
    }
   ],
   "source": [
    "type(l)"
   ]
  },
  {
   "cell_type": "code",
   "execution_count": 7,
   "id": "e48d7392-7c17-442a-b9f5-b0b40347598d",
   "metadata": {},
   "outputs": [
    {
     "data": {
      "text/plain": [
       "1"
      ]
     },
     "execution_count": 7,
     "metadata": {},
     "output_type": "execute_result"
    }
   ],
   "source": [
    "l[0]"
   ]
  },
  {
   "cell_type": "code",
   "execution_count": 8,
   "id": "6b38a525-3c5e-4e6e-b6d6-071df7702ebb",
   "metadata": {},
   "outputs": [
    {
     "data": {
      "text/plain": [
       "345.456"
      ]
     },
     "execution_count": 8,
     "metadata": {},
     "output_type": "execute_result"
    }
   ],
   "source": [
    "l[6]"
   ]
  },
  {
   "cell_type": "code",
   "execution_count": 9,
   "id": "f401fe17-f732-4cc5-9d54-f7a051ec05fa",
   "metadata": {},
   "outputs": [
    {
     "ename": "IndexError",
     "evalue": "list index out of range",
     "output_type": "error",
     "traceback": [
      "\u001b[0;31m---------------------------------------------------------------------------\u001b[0m",
      "\u001b[0;31mIndexError\u001b[0m                                Traceback (most recent call last)",
      "Cell \u001b[0;32mIn[9], line 1\u001b[0m\n\u001b[0;32m----> 1\u001b[0m \u001b[43ml\u001b[49m\u001b[43m[\u001b[49m\u001b[38;5;241;43m90\u001b[39;49m\u001b[43m]\u001b[49m\n",
      "\u001b[0;31mIndexError\u001b[0m: list index out of range"
     ]
    }
   ],
   "source": [
    "l[90]"
   ]
  },
  {
   "cell_type": "code",
   "execution_count": 10,
   "id": "bc40a54a-ee1a-42d1-8c8a-f4741905e887",
   "metadata": {},
   "outputs": [
    {
     "data": {
      "text/plain": [
       "['suraj', True, (5+7j), 345.456]"
      ]
     },
     "execution_count": 10,
     "metadata": {},
     "output_type": "execute_result"
    }
   ],
   "source": [
    "l[3:7]"
   ]
  },
  {
   "cell_type": "code",
   "execution_count": 11,
   "id": "c540cb6b-9a12-4339-98c8-fd084dbc5332",
   "metadata": {},
   "outputs": [
    {
     "data": {
      "text/plain": [
       "['suraj', True, (5+7j)]"
      ]
     },
     "execution_count": 11,
     "metadata": {},
     "output_type": "execute_result"
    }
   ],
   "source": [
    "l[3:6]"
   ]
  },
  {
   "cell_type": "code",
   "execution_count": 12,
   "id": "1e35f90b-50db-4fca-aeb4-17ede24a4f9c",
   "metadata": {},
   "outputs": [
    {
     "data": {
      "text/plain": [
       "[]"
      ]
     },
     "execution_count": 12,
     "metadata": {},
     "output_type": "execute_result"
    }
   ],
   "source": [
    "l[-1:-5]"
   ]
  },
  {
   "cell_type": "code",
   "execution_count": 13,
   "id": "c6ccede1-13ab-42ed-bdb6-057829c28100",
   "metadata": {},
   "outputs": [
    {
     "data": {
      "text/plain": [
       "[45, 'suraj', True, (5+7j)]"
      ]
     },
     "execution_count": 13,
     "metadata": {},
     "output_type": "execute_result"
    }
   ],
   "source": [
    "l[-5:-1]"
   ]
  },
  {
   "cell_type": "code",
   "execution_count": 14,
   "id": "95085e2b-d406-407b-ae8b-b309f5869e73",
   "metadata": {},
   "outputs": [
    {
     "data": {
      "text/plain": [
       "True"
      ]
     },
     "execution_count": 14,
     "metadata": {},
     "output_type": "execute_result"
    }
   ],
   "source": [
    "l[4]"
   ]
  },
  {
   "cell_type": "code",
   "execution_count": 15,
   "id": "2bc75a67-a86c-4e5e-8258-532f0bf871e1",
   "metadata": {},
   "outputs": [
    {
     "data": {
      "text/plain": [
       "[1, 345.456]"
      ]
     },
     "execution_count": 15,
     "metadata": {},
     "output_type": "execute_result"
    }
   ],
   "source": [
    "l[::6]"
   ]
  },
  {
   "cell_type": "code",
   "execution_count": 16,
   "id": "fe591141-c588-4435-9e7a-bab933e2268f",
   "metadata": {},
   "outputs": [
    {
     "data": {
      "text/plain": [
       "[345.456, (5+7j), True, 'suraj', 45, 345, 1]"
      ]
     },
     "execution_count": 16,
     "metadata": {},
     "output_type": "execute_result"
    }
   ],
   "source": [
    "l[::-1]"
   ]
  },
  {
   "cell_type": "code",
   "execution_count": 17,
   "id": "c38d9f93-8418-47b9-8c8a-7eeb6a193fd8",
   "metadata": {},
   "outputs": [
    {
     "data": {
      "text/plain": [
       "[1, 45, True, 345.456]"
      ]
     },
     "execution_count": 17,
     "metadata": {},
     "output_type": "execute_result"
    }
   ],
   "source": [
    "l[0:7:2]"
   ]
  },
  {
   "cell_type": "code",
   "execution_count": 18,
   "id": "97fc5e98-496b-4a65-80af-8ac0ba9cbbe2",
   "metadata": {},
   "outputs": [
    {
     "data": {
      "text/plain": [
       "[1, 45, True, 345.456]"
      ]
     },
     "execution_count": 18,
     "metadata": {},
     "output_type": "execute_result"
    }
   ],
   "source": [
    "l[::2]"
   ]
  },
  {
   "cell_type": "code",
   "execution_count": 19,
   "id": "0c9bf327-6d23-436b-95cb-6840811d049b",
   "metadata": {},
   "outputs": [],
   "source": [
    "s = \"pwskills\""
   ]
  },
  {
   "cell_type": "code",
   "execution_count": 20,
   "id": "18cca96b-e01c-48d2-92cb-dce667174081",
   "metadata": {},
   "outputs": [
    {
     "data": {
      "text/plain": [
       "'pwskills'"
      ]
     },
     "execution_count": 20,
     "metadata": {},
     "output_type": "execute_result"
    }
   ],
   "source": [
    "s"
   ]
  },
  {
   "cell_type": "code",
   "execution_count": 21,
   "id": "f03e91f3-7152-4ae9-b38a-ff1394c29dc8",
   "metadata": {},
   "outputs": [
    {
     "ename": "TypeError",
     "evalue": "can only concatenate list (not \"str\") to list",
     "output_type": "error",
     "traceback": [
      "\u001b[0;31m---------------------------------------------------------------------------\u001b[0m",
      "\u001b[0;31mTypeError\u001b[0m                                 Traceback (most recent call last)",
      "Cell \u001b[0;32mIn[21], line 1\u001b[0m\n\u001b[0;32m----> 1\u001b[0m \u001b[43ml\u001b[49m\u001b[43m \u001b[49m\u001b[38;5;241;43m+\u001b[39;49m\u001b[43m \u001b[49m\u001b[43ms\u001b[49m\n",
      "\u001b[0;31mTypeError\u001b[0m: can only concatenate list (not \"str\") to list"
     ]
    }
   ],
   "source": [
    "l + s"
   ]
  },
  {
   "cell_type": "code",
   "execution_count": 22,
   "id": "1db70938-5d15-415f-ac51-4fff7d77a8d9",
   "metadata": {},
   "outputs": [],
   "source": [
    "d = 'raviji'"
   ]
  },
  {
   "cell_type": "code",
   "execution_count": 23,
   "id": "63b5a981-d5a5-426c-9999-13ce50cd51c5",
   "metadata": {},
   "outputs": [
    {
     "data": {
      "text/plain": [
       "'raviji'"
      ]
     },
     "execution_count": 23,
     "metadata": {},
     "output_type": "execute_result"
    }
   ],
   "source": [
    "d"
   ]
  },
  {
   "cell_type": "code",
   "execution_count": 24,
   "id": "623bc50e-4593-49d3-82a2-ad44f70fbdbb",
   "metadata": {},
   "outputs": [
    {
     "data": {
      "text/plain": [
       "'pwskillsraviji'"
      ]
     },
     "execution_count": 24,
     "metadata": {},
     "output_type": "execute_result"
    }
   ],
   "source": [
    "s + d "
   ]
  },
  {
   "cell_type": "code",
   "execution_count": 25,
   "id": "0e5077ce-d8f7-45f2-beae-b3706cc0cc96",
   "metadata": {},
   "outputs": [
    {
     "data": {
      "text/plain": [
       "['p', 'w', 's', 'k', 'i', 'l', 'l', 's']"
      ]
     },
     "execution_count": 25,
     "metadata": {},
     "output_type": "execute_result"
    }
   ],
   "source": [
    "list(s)"
   ]
  },
  {
   "cell_type": "code",
   "execution_count": 26,
   "id": "e8acec7a-8b82-4a73-913f-da296915d65c",
   "metadata": {},
   "outputs": [
    {
     "data": {
      "text/plain": [
       "[1,\n",
       " 345,\n",
       " 45,\n",
       " 'suraj',\n",
       " True,\n",
       " (5+7j),\n",
       " 345.456,\n",
       " 'p',\n",
       " 'w',\n",
       " 's',\n",
       " 'k',\n",
       " 'i',\n",
       " 'l',\n",
       " 'l',\n",
       " 's']"
      ]
     },
     "execution_count": 26,
     "metadata": {},
     "output_type": "execute_result"
    }
   ],
   "source": [
    "l + list(s)"
   ]
  },
  {
   "cell_type": "code",
   "execution_count": 27,
   "id": "5bfdd035-9785-4d47-95ca-e97cc554e0de",
   "metadata": {},
   "outputs": [
    {
     "data": {
      "text/plain": [
       "[1, 345, 45, 'suraj', True, (5+7j), 345.456]"
      ]
     },
     "execution_count": 27,
     "metadata": {},
     "output_type": "execute_result"
    }
   ],
   "source": [
    "l"
   ]
  },
  {
   "cell_type": "code",
   "execution_count": 30,
   "id": "8fef8566-ccd9-40cc-a020-d69b65ed96ac",
   "metadata": {},
   "outputs": [
    {
     "data": {
      "text/plain": [
       "'suraj'"
      ]
     },
     "execution_count": 30,
     "metadata": {},
     "output_type": "execute_result"
    }
   ],
   "source": [
    "l[3]"
   ]
  },
  {
   "cell_type": "code",
   "execution_count": 31,
   "id": "25d970b3-541b-48cc-b40c-4ed59f6d9bb2",
   "metadata": {},
   "outputs": [
    {
     "data": {
      "text/plain": [
       "str"
      ]
     },
     "execution_count": 31,
     "metadata": {},
     "output_type": "execute_result"
    }
   ],
   "source": [
    "type(l[3])"
   ]
  },
  {
   "cell_type": "code",
   "execution_count": 32,
   "id": "25401b9d-38c8-4577-8ba5-a0c6be1b7bb8",
   "metadata": {},
   "outputs": [
    {
     "data": {
      "text/plain": [
       "'su'"
      ]
     },
     "execution_count": 32,
     "metadata": {},
     "output_type": "execute_result"
    }
   ],
   "source": [
    "l[3][0:2]"
   ]
  },
  {
   "cell_type": "code",
   "execution_count": 33,
   "id": "2feed9b4-5d26-41de-996c-6452f90fcd14",
   "metadata": {},
   "outputs": [
    {
     "data": {
      "text/plain": [
       "True"
      ]
     },
     "execution_count": 33,
     "metadata": {},
     "output_type": "execute_result"
    }
   ],
   "source": [
    "l[4]"
   ]
  },
  {
   "cell_type": "code",
   "execution_count": 39,
   "id": "6c8615e3-a031-4077-8bfe-77803f241da5",
   "metadata": {},
   "outputs": [
    {
     "data": {
      "text/plain": [
       "'Tr'"
      ]
     },
     "execution_count": 39,
     "metadata": {},
     "output_type": "execute_result"
    }
   ],
   "source": [
    "str(l[4])[0:2]"
   ]
  },
  {
   "cell_type": "code",
   "execution_count": 40,
   "id": "7b40417f-6d49-4f3b-b74e-fb07d8288fec",
   "metadata": {},
   "outputs": [
    {
     "data": {
      "text/plain": [
       "[1, 345, 45, 'suraj', True, (5+7j), 345.456]"
      ]
     },
     "execution_count": 40,
     "metadata": {},
     "output_type": "execute_result"
    }
   ],
   "source": [
    "l"
   ]
  },
  {
   "cell_type": "code",
   "execution_count": 41,
   "id": "63634ba4-cf0c-43a5-8a15-dd555dc624fb",
   "metadata": {},
   "outputs": [
    {
     "ename": "TypeError",
     "evalue": "can only concatenate list (not \"int\") to list",
     "output_type": "error",
     "traceback": [
      "\u001b[0;31m---------------------------------------------------------------------------\u001b[0m",
      "\u001b[0;31mTypeError\u001b[0m                                 Traceback (most recent call last)",
      "Cell \u001b[0;32mIn[41], line 1\u001b[0m\n\u001b[0;32m----> 1\u001b[0m \u001b[43ml\u001b[49m\u001b[43m \u001b[49m\u001b[38;5;241;43m+\u001b[39;49m\u001b[43m \u001b[49m\u001b[38;5;241;43m5\u001b[39;49m\n",
      "\u001b[0;31mTypeError\u001b[0m: can only concatenate list (not \"int\") to list"
     ]
    }
   ],
   "source": [
    "l + 5"
   ]
  },
  {
   "cell_type": "code",
   "execution_count": 42,
   "id": "b2818a70-705b-4cf5-bec6-678d0e59d5bf",
   "metadata": {},
   "outputs": [],
   "source": [
    "ll = [3,4,5]"
   ]
  },
  {
   "cell_type": "code",
   "execution_count": 43,
   "id": "80e18ebb-a7d3-40b1-814c-6caa29e5a637",
   "metadata": {},
   "outputs": [
    {
     "data": {
      "text/plain": [
       "[3, 4, 5]"
      ]
     },
     "execution_count": 43,
     "metadata": {},
     "output_type": "execute_result"
    }
   ],
   "source": [
    "ll"
   ]
  },
  {
   "cell_type": "code",
   "execution_count": 48,
   "id": "66aa1510-191b-4a96-985f-53af1e7e8645",
   "metadata": {},
   "outputs": [
    {
     "ename": "TypeError",
     "evalue": "can only concatenate list (not \"int\") to list",
     "output_type": "error",
     "traceback": [
      "\u001b[0;31m---------------------------------------------------------------------------\u001b[0m",
      "\u001b[0;31mTypeError\u001b[0m                                 Traceback (most recent call last)",
      "Cell \u001b[0;32mIn[48], line 1\u001b[0m\n\u001b[0;32m----> 1\u001b[0m \u001b[43ml\u001b[49m\u001b[43m \u001b[49m\u001b[38;5;241;43m+\u001b[39;49m\u001b[43m \u001b[49m\u001b[38;5;241;43m5\u001b[39;49m\n",
      "\u001b[0;31mTypeError\u001b[0m: can only concatenate list (not \"int\") to list"
     ]
    }
   ],
   "source": [
    "l + 5"
   ]
  },
  {
   "cell_type": "code",
   "execution_count": 49,
   "id": "afe1782d-8aa6-49fa-8fbe-45c656ca03b8",
   "metadata": {},
   "outputs": [
    {
     "data": {
      "text/plain": [
       "[1, 345, 45, 'suraj', True, (5+7j), 345.456, 3, 4, 5]"
      ]
     },
     "execution_count": 49,
     "metadata": {},
     "output_type": "execute_result"
    }
   ],
   "source": [
    "l + ll"
   ]
  },
  {
   "cell_type": "code",
   "execution_count": 50,
   "id": "634fb5e8-2bb2-402a-a6f6-8e2c122c848f",
   "metadata": {},
   "outputs": [
    {
     "data": {
      "text/plain": [
       "[3, 4, 5, 3, 4, 5, 3, 4, 5]"
      ]
     },
     "execution_count": 50,
     "metadata": {},
     "output_type": "execute_result"
    }
   ],
   "source": [
    "ll *3"
   ]
  },
  {
   "cell_type": "code",
   "execution_count": 51,
   "id": "93645113-ca93-4f58-8d0b-e636f889db37",
   "metadata": {},
   "outputs": [
    {
     "data": {
      "text/plain": [
       "[1,\n",
       " 345,\n",
       " 45,\n",
       " 'suraj',\n",
       " True,\n",
       " (5+7j),\n",
       " 345.456,\n",
       " 1,\n",
       " 345,\n",
       " 45,\n",
       " 'suraj',\n",
       " True,\n",
       " (5+7j),\n",
       " 345.456,\n",
       " 1,\n",
       " 345,\n",
       " 45,\n",
       " 'suraj',\n",
       " True,\n",
       " (5+7j),\n",
       " 345.456]"
      ]
     },
     "execution_count": 51,
     "metadata": {},
     "output_type": "execute_result"
    }
   ],
   "source": [
    "l *3"
   ]
  },
  {
   "cell_type": "code",
   "execution_count": 52,
   "id": "f7f3cef8-4d95-4163-8f01-a42868b98a0e",
   "metadata": {},
   "outputs": [
    {
     "data": {
      "text/plain": [
       "[1, 345, 45, 'suraj', True, (5+7j), 345.456]"
      ]
     },
     "execution_count": 52,
     "metadata": {},
     "output_type": "execute_result"
    }
   ],
   "source": [
    "l"
   ]
  },
  {
   "cell_type": "code",
   "execution_count": 54,
   "id": "268a9054-d178-420b-bb2e-84e12ee7a90e",
   "metadata": {},
   "outputs": [
    {
     "data": {
      "text/plain": [
       "7"
      ]
     },
     "execution_count": 54,
     "metadata": {},
     "output_type": "execute_result"
    }
   ],
   "source": [
    "len(l)"
   ]
  },
  {
   "cell_type": "code",
   "execution_count": 55,
   "id": "a3a979bd-78a6-4a90-90ad-bdb0177e30cc",
   "metadata": {},
   "outputs": [
    {
     "data": {
      "text/plain": [
       "3"
      ]
     },
     "execution_count": 55,
     "metadata": {},
     "output_type": "execute_result"
    }
   ],
   "source": [
    "len(ll)"
   ]
  },
  {
   "cell_type": "code",
   "execution_count": 56,
   "id": "608ac827-3fab-4055-8551-ee81396b4e67",
   "metadata": {},
   "outputs": [
    {
     "data": {
      "text/plain": [
       "[1, 345, 45, 'suraj', True, (5+7j), 345.456]"
      ]
     },
     "execution_count": 56,
     "metadata": {},
     "output_type": "execute_result"
    }
   ],
   "source": [
    "l"
   ]
  },
  {
   "cell_type": "code",
   "execution_count": 57,
   "id": "cf15d3ab-21ba-4d57-9bb2-e8f047cbca85",
   "metadata": {},
   "outputs": [],
   "source": [
    "l.append(5)"
   ]
  },
  {
   "cell_type": "code",
   "execution_count": 58,
   "id": "ad5a88cc-ca18-41fc-a149-ce9792b210da",
   "metadata": {},
   "outputs": [
    {
     "data": {
      "text/plain": [
       "[1, 345, 45, 'suraj', True, (5+7j), 345.456, 5]"
      ]
     },
     "execution_count": 58,
     "metadata": {},
     "output_type": "execute_result"
    }
   ],
   "source": [
    "l"
   ]
  },
  {
   "cell_type": "code",
   "execution_count": 60,
   "id": "2475cdad-1730-4ce1-aff2-04f2e0e98cbb",
   "metadata": {},
   "outputs": [
    {
     "data": {
      "text/plain": [
       "'pwskills'"
      ]
     },
     "execution_count": 60,
     "metadata": {},
     "output_type": "execute_result"
    }
   ],
   "source": [
    "s"
   ]
  },
  {
   "cell_type": "code",
   "execution_count": 61,
   "id": "15cf095a-d942-4915-856e-f7e81714dde2",
   "metadata": {},
   "outputs": [],
   "source": [
    "l.append(s)"
   ]
  },
  {
   "cell_type": "code",
   "execution_count": 62,
   "id": "7f4918df-77e5-488f-bc82-3cc184bd87f2",
   "metadata": {},
   "outputs": [
    {
     "data": {
      "text/plain": [
       "[1, 345, 45, 'suraj', True, (5+7j), 345.456, 5, 'pwskills']"
      ]
     },
     "execution_count": 62,
     "metadata": {},
     "output_type": "execute_result"
    }
   ],
   "source": [
    "l"
   ]
  },
  {
   "cell_type": "code",
   "execution_count": 65,
   "id": "59cd64e7-5b36-45b2-97d2-53963ebd0ae5",
   "metadata": {},
   "outputs": [],
   "source": [
    "l.append(ll)"
   ]
  },
  {
   "cell_type": "code",
   "execution_count": 66,
   "id": "3b9742e6-7844-4784-9b41-aefc3755e8b9",
   "metadata": {},
   "outputs": [
    {
     "data": {
      "text/plain": [
       "[1, 345, 45, 'suraj', True, (5+7j), 345.456, 5, 'pwskills', [3, 4, 5]]"
      ]
     },
     "execution_count": 66,
     "metadata": {},
     "output_type": "execute_result"
    }
   ],
   "source": [
    "l"
   ]
  },
  {
   "cell_type": "code",
   "execution_count": 67,
   "id": "7734d594-dded-41ce-87d1-20a27465327f",
   "metadata": {},
   "outputs": [
    {
     "data": {
      "text/plain": [
       "[1, 345, 45, 'suraj', True, (5+7j), 345.456, 5, 'pwskills']"
      ]
     },
     "execution_count": 67,
     "metadata": {},
     "output_type": "execute_result"
    }
   ],
   "source": [
    "l[:-1]"
   ]
  },
  {
   "cell_type": "code",
   "execution_count": 68,
   "id": "95b8d8a1-d6fb-40ef-b23c-3a76aee7ced2",
   "metadata": {},
   "outputs": [
    {
     "data": {
      "text/plain": [
       "[3, 4, 5]"
      ]
     },
     "execution_count": 68,
     "metadata": {},
     "output_type": "execute_result"
    }
   ],
   "source": [
    "l[-1]"
   ]
  },
  {
   "cell_type": "code",
   "execution_count": 70,
   "id": "f4ac3525-b374-49e8-bc54-cbc1c4a5c3e7",
   "metadata": {},
   "outputs": [
    {
     "data": {
      "text/plain": [
       "5"
      ]
     },
     "execution_count": 70,
     "metadata": {},
     "output_type": "execute_result"
    }
   ],
   "source": [
    "l[-1][-1]"
   ]
  },
  {
   "cell_type": "code",
   "execution_count": 71,
   "id": "99fbf0ae-8a22-4d43-a026-cfaadb69ffde",
   "metadata": {},
   "outputs": [
    {
     "data": {
      "text/plain": [
       "4"
      ]
     },
     "execution_count": 71,
     "metadata": {},
     "output_type": "execute_result"
    }
   ],
   "source": [
    "l[-1][-2]"
   ]
  },
  {
   "cell_type": "code",
   "execution_count": 72,
   "id": "305b8f87-66e3-4b9e-bc77-d14b07a1e074",
   "metadata": {},
   "outputs": [
    {
     "data": {
      "text/plain": [
       "[1, 345, 45, 'suraj', True, (5+7j), 345.456, 5, 'pwskills', [3, 4, 5]]"
      ]
     },
     "execution_count": 72,
     "metadata": {},
     "output_type": "execute_result"
    }
   ],
   "source": [
    "l"
   ]
  },
  {
   "cell_type": "code",
   "execution_count": 73,
   "id": "d3331278-2a1d-4c39-92dd-c01f84a9c6f4",
   "metadata": {},
   "outputs": [
    {
     "ename": "TypeError",
     "evalue": "'int' object is not iterable",
     "output_type": "error",
     "traceback": [
      "\u001b[0;31m---------------------------------------------------------------------------\u001b[0m",
      "\u001b[0;31mTypeError\u001b[0m                                 Traceback (most recent call last)",
      "Cell \u001b[0;32mIn[73], line 1\u001b[0m\n\u001b[0;32m----> 1\u001b[0m \u001b[43ml\u001b[49m\u001b[38;5;241;43m.\u001b[39;49m\u001b[43mextend\u001b[49m\u001b[43m(\u001b[49m\u001b[38;5;241;43m4\u001b[39;49m\u001b[43m)\u001b[49m\n",
      "\u001b[0;31mTypeError\u001b[0m: 'int' object is not iterable"
     ]
    }
   ],
   "source": [
    "l.extend(4)"
   ]
  },
  {
   "cell_type": "code",
   "execution_count": 74,
   "id": "a92e20e5-4528-4767-9031-b25cda5d8072",
   "metadata": {},
   "outputs": [],
   "source": [
    "l.extend(\"suraj\")"
   ]
  },
  {
   "cell_type": "code",
   "execution_count": 75,
   "id": "2c30958f-b083-4175-887a-37ef11bfb7ed",
   "metadata": {},
   "outputs": [
    {
     "data": {
      "text/plain": [
       "[1,\n",
       " 345,\n",
       " 45,\n",
       " 'suraj',\n",
       " True,\n",
       " (5+7j),\n",
       " 345.456,\n",
       " 5,\n",
       " 'pwskills',\n",
       " [3, 4, 5],\n",
       " 's',\n",
       " 'u',\n",
       " 'r',\n",
       " 'a',\n",
       " 'j']"
      ]
     },
     "execution_count": 75,
     "metadata": {},
     "output_type": "execute_result"
    }
   ],
   "source": [
    "l"
   ]
  },
  {
   "cell_type": "code",
   "execution_count": 77,
   "id": "f6f733db-b9aa-46c8-b255-d79f7cd3f039",
   "metadata": {},
   "outputs": [],
   "source": [
    "l.extend([3,4,5])"
   ]
  },
  {
   "cell_type": "code",
   "execution_count": 78,
   "id": "9ccff0a5-8e93-436d-9384-d2c6f1787272",
   "metadata": {},
   "outputs": [
    {
     "data": {
      "text/plain": [
       "[1,\n",
       " 345,\n",
       " 45,\n",
       " 'suraj',\n",
       " True,\n",
       " (5+7j),\n",
       " 345.456,\n",
       " 5,\n",
       " 'pwskills',\n",
       " [3, 4, 5],\n",
       " 's',\n",
       " 'u',\n",
       " 'r',\n",
       " 'a',\n",
       " 'j',\n",
       " 3,\n",
       " 4,\n",
       " 5]"
      ]
     },
     "execution_count": 78,
     "metadata": {},
     "output_type": "execute_result"
    }
   ],
   "source": [
    "l"
   ]
  },
  {
   "cell_type": "code",
   "execution_count": 93,
   "id": "00221c7a-1aec-4ee8-b4cf-e7fd8c70b546",
   "metadata": {},
   "outputs": [
    {
     "data": {
      "text/plain": [
       "[3, 'suraj', 'suraj', [2, 3, 5], 4, 5]"
      ]
     },
     "execution_count": 93,
     "metadata": {},
     "output_type": "execute_result"
    }
   ],
   "source": [
    "ll"
   ]
  },
  {
   "cell_type": "code",
   "execution_count": 95,
   "id": "7cce3311-fc6f-4437-8d01-a1878140e120",
   "metadata": {},
   "outputs": [],
   "source": [
    "ll.insert(2,\"ravisingh\")"
   ]
  },
  {
   "cell_type": "code",
   "execution_count": 97,
   "id": "389839f7-da13-4de0-9f5c-4a86978cb30c",
   "metadata": {},
   "outputs": [
    {
     "data": {
      "text/plain": [
       "[3, 'suraj', 'ravisingh', 'suraj', [2, 3, 5], 4, 5]"
      ]
     },
     "execution_count": 97,
     "metadata": {},
     "output_type": "execute_result"
    }
   ],
   "source": [
    "ll"
   ]
  },
  {
   "cell_type": "code",
   "execution_count": 98,
   "id": "0d7bfa23-0403-4825-83a2-c34ef874c086",
   "metadata": {},
   "outputs": [],
   "source": [
    "ll.insert(-1,45)"
   ]
  },
  {
   "cell_type": "code",
   "execution_count": 99,
   "id": "38d5e1df-2978-4024-8d1b-89a6971fe262",
   "metadata": {},
   "outputs": [
    {
     "data": {
      "text/plain": [
       "[3, 'suraj', 'ravisingh', 'suraj', [2, 3, 5], 4, 45, 5]"
      ]
     },
     "execution_count": 99,
     "metadata": {},
     "output_type": "execute_result"
    }
   ],
   "source": [
    "ll"
   ]
  },
  {
   "cell_type": "code",
   "execution_count": 100,
   "id": "9abafd63-64c4-449f-af95-d9cde7137bf6",
   "metadata": {},
   "outputs": [
    {
     "data": {
      "text/plain": [
       "5"
      ]
     },
     "execution_count": 100,
     "metadata": {},
     "output_type": "execute_result"
    }
   ],
   "source": [
    "ll.pop()"
   ]
  },
  {
   "cell_type": "code",
   "execution_count": 101,
   "id": "103936d6-ba0e-47e4-8bee-8c906c941d84",
   "metadata": {},
   "outputs": [
    {
     "data": {
      "text/plain": [
       "[3, 'suraj', 'ravisingh', 'suraj', [2, 3, 5], 4, 45]"
      ]
     },
     "execution_count": 101,
     "metadata": {},
     "output_type": "execute_result"
    }
   ],
   "source": [
    "ll"
   ]
  },
  {
   "cell_type": "code",
   "execution_count": 104,
   "id": "fc95259b-a330-418f-bba1-5d22fa182359",
   "metadata": {},
   "outputs": [
    {
     "data": {
      "text/plain": [
       "45"
      ]
     },
     "execution_count": 104,
     "metadata": {},
     "output_type": "execute_result"
    }
   ],
   "source": [
    "ll.pop()"
   ]
  },
  {
   "cell_type": "code",
   "execution_count": 105,
   "id": "01aeed70-efeb-4df0-8644-546e7211b610",
   "metadata": {},
   "outputs": [
    {
     "data": {
      "text/plain": [
       "[3, 'suraj', 'ravisingh', 'suraj', [2, 3, 5], 4]"
      ]
     },
     "execution_count": 105,
     "metadata": {},
     "output_type": "execute_result"
    }
   ],
   "source": [
    "ll"
   ]
  },
  {
   "cell_type": "code",
   "execution_count": 106,
   "id": "c88496c3-a730-42af-a4eb-0c568db24023",
   "metadata": {},
   "outputs": [
    {
     "data": {
      "text/plain": [
       "'ravisingh'"
      ]
     },
     "execution_count": 106,
     "metadata": {},
     "output_type": "execute_result"
    }
   ],
   "source": [
    "ll.pop(2)"
   ]
  },
  {
   "cell_type": "code",
   "execution_count": 107,
   "id": "6984f263-4aec-49c8-8b67-53cab6de3661",
   "metadata": {},
   "outputs": [
    {
     "data": {
      "text/plain": [
       "[3, 'suraj', 'suraj', [2, 3, 5], 4]"
      ]
     },
     "execution_count": 107,
     "metadata": {},
     "output_type": "execute_result"
    }
   ],
   "source": [
    "ll"
   ]
  },
  {
   "cell_type": "code",
   "execution_count": 108,
   "id": "081f692d-92b5-4c0c-85bb-920194848dd4",
   "metadata": {},
   "outputs": [
    {
     "data": {
      "text/plain": [
       "'suraj'"
      ]
     },
     "execution_count": 108,
     "metadata": {},
     "output_type": "execute_result"
    }
   ],
   "source": [
    "ll.pop(1)"
   ]
  },
  {
   "cell_type": "code",
   "execution_count": 109,
   "id": "2c66c9f0-9f8d-43da-9671-40bff5b3eda0",
   "metadata": {},
   "outputs": [
    {
     "data": {
      "text/plain": [
       "[3, 'suraj', [2, 3, 5], 4]"
      ]
     },
     "execution_count": 109,
     "metadata": {},
     "output_type": "execute_result"
    }
   ],
   "source": [
    "ll"
   ]
  },
  {
   "cell_type": "code",
   "execution_count": 110,
   "id": "f7987a71-1b2c-4b77-bec0-dc2393562c4f",
   "metadata": {},
   "outputs": [],
   "source": [
    "ll.append(5)"
   ]
  },
  {
   "cell_type": "code",
   "execution_count": 111,
   "id": "5e40069c-9efd-429f-9f3e-c878a97aa140",
   "metadata": {},
   "outputs": [
    {
     "data": {
      "text/plain": [
       "[3, 'suraj', [2, 3, 5], 4, 5]"
      ]
     },
     "execution_count": 111,
     "metadata": {},
     "output_type": "execute_result"
    }
   ],
   "source": [
    "ll"
   ]
  },
  {
   "cell_type": "code",
   "execution_count": 113,
   "id": "1447bd5c-6527-4a9e-836e-9a1dd7235349",
   "metadata": {},
   "outputs": [
    {
     "data": {
      "text/plain": [
       "[2, 3, 5]"
      ]
     },
     "execution_count": 113,
     "metadata": {},
     "output_type": "execute_result"
    }
   ],
   "source": [
    "ll.pop(2)"
   ]
  },
  {
   "cell_type": "code",
   "execution_count": 114,
   "id": "e2cfbeba-e2ba-44e8-bfad-41f225f5487b",
   "metadata": {},
   "outputs": [
    {
     "data": {
      "text/plain": [
       "[3, 'suraj', 5]"
      ]
     },
     "execution_count": 114,
     "metadata": {},
     "output_type": "execute_result"
    }
   ],
   "source": [
    "ll"
   ]
  },
  {
   "cell_type": "code",
   "execution_count": 117,
   "id": "3813f470-3bdf-49b5-b280-8432c261dece",
   "metadata": {},
   "outputs": [],
   "source": [
    "ll.insert(2,4)"
   ]
  },
  {
   "cell_type": "code",
   "execution_count": 118,
   "id": "eae5426e-200b-4c95-aabc-f1bddefa8efe",
   "metadata": {},
   "outputs": [
    {
     "data": {
      "text/plain": [
       "[3, 'suraj', 4, 5, 4]"
      ]
     },
     "execution_count": 118,
     "metadata": {},
     "output_type": "execute_result"
    }
   ],
   "source": [
    "ll"
   ]
  },
  {
   "cell_type": "code",
   "execution_count": 6,
   "id": "64da43af-bf99-4874-bf40-7f4eb3de442d",
   "metadata": {},
   "outputs": [
    {
     "ename": "NameError",
     "evalue": "name 'll' is not defined",
     "output_type": "error",
     "traceback": [
      "\u001b[0;31m---------------------------------------------------------------------------\u001b[0m",
      "\u001b[0;31mNameError\u001b[0m                                 Traceback (most recent call last)",
      "Cell \u001b[0;32mIn[6], line 1\u001b[0m\n\u001b[0;32m----> 1\u001b[0m \u001b[43mll\u001b[49m\u001b[38;5;241m.\u001b[39mpop()\n",
      "\u001b[0;31mNameError\u001b[0m: name 'll' is not defined"
     ]
    }
   ],
   "source": [
    "ll.pop()"
   ]
  },
  {
   "cell_type": "code",
   "execution_count": 7,
   "id": "45f13ac7-9da5-4e13-adb4-c59427f15512",
   "metadata": {},
   "outputs": [
    {
     "name": "stdout",
     "output_type": "stream",
     "text": [
      "total 72\n",
      "-rw-r--r-- 1 jovyan 30705 Feb  4 07:35  python2ndclass.ipynb\n",
      "-rw-r--r-- 1 jovyan 29676 Feb  3 16:27  pythonbasic.ipynb\n",
      "drwxr-xr-x 4 jovyan  4096 Feb  3 16:49 \u001b[0m\u001b[01;34m'python second class'\u001b[0m/\n",
      "-rw-r--r-- 1 jovyan    72 Feb  4 08:09  Untitled.ipynb\n"
     ]
    }
   ],
   "source": [
    "ll"
   ]
  },
  {
   "cell_type": "code",
   "execution_count": 8,
   "id": "bdadd0b1-981d-4320-9020-684d2f70d0e2",
   "metadata": {},
   "outputs": [
    {
     "ename": "NameError",
     "evalue": "name 'l' is not defined",
     "output_type": "error",
     "traceback": [
      "\u001b[0;31m---------------------------------------------------------------------------\u001b[0m",
      "\u001b[0;31mNameError\u001b[0m                                 Traceback (most recent call last)",
      "Cell \u001b[0;32mIn[8], line 1\u001b[0m\n\u001b[0;32m----> 1\u001b[0m \u001b[43ml\u001b[49m\n",
      "\u001b[0;31mNameError\u001b[0m: name 'l' is not defined"
     ]
    }
   ],
   "source": [
    "l"
   ]
  },
  {
   "cell_type": "code",
   "execution_count": 9,
   "id": "4eda2ea0-a49d-48ac-8a78-24365fd9cc90",
   "metadata": {},
   "outputs": [],
   "source": [
    "ll = [3,4,5]"
   ]
  },
  {
   "cell_type": "code",
   "execution_count": 10,
   "id": "39a318b0-c878-4958-a549-278cfc8808e5",
   "metadata": {},
   "outputs": [
    {
     "data": {
      "text/plain": [
       "[3, 4, 5]"
      ]
     },
     "execution_count": 10,
     "metadata": {},
     "output_type": "execute_result"
    }
   ],
   "source": [
    "ll"
   ]
  },
  {
   "cell_type": "code",
   "execution_count": 11,
   "id": "ed8ae2cc-4929-4026-8b13-fd443c167a69",
   "metadata": {},
   "outputs": [],
   "source": [
    "ll.insert(2,\"suraj\")"
   ]
  },
  {
   "cell_type": "code",
   "execution_count": 12,
   "id": "f99f2470-1cda-4e7c-994a-7ba470620101",
   "metadata": {},
   "outputs": [
    {
     "data": {
      "text/plain": [
       "[3, 4, 'suraj', 5]"
      ]
     },
     "execution_count": 12,
     "metadata": {},
     "output_type": "execute_result"
    }
   ],
   "source": [
    "ll"
   ]
  },
  {
   "cell_type": "code",
   "execution_count": 14,
   "id": "3ed8350e-24e3-4963-a943-45009ac54f30",
   "metadata": {},
   "outputs": [
    {
     "data": {
      "text/plain": [
       "'suraj'"
      ]
     },
     "execution_count": 14,
     "metadata": {},
     "output_type": "execute_result"
    }
   ],
   "source": [
    "ll.pop(2)"
   ]
  },
  {
   "cell_type": "code",
   "execution_count": 15,
   "id": "98b60485-1f23-4e39-9efb-a84bbcee1104",
   "metadata": {},
   "outputs": [
    {
     "data": {
      "text/plain": [
       "[3, 4, 5]"
      ]
     },
     "execution_count": 15,
     "metadata": {},
     "output_type": "execute_result"
    }
   ],
   "source": [
    "ll"
   ]
  },
  {
   "cell_type": "code",
   "execution_count": 16,
   "id": "e8ebebdf-049e-40c3-bfe6-4dd7cb45d905",
   "metadata": {},
   "outputs": [],
   "source": [
    "ll.insert(2,\"this is my universe\")"
   ]
  },
  {
   "cell_type": "code",
   "execution_count": 17,
   "id": "b6622803-2e7b-4c17-a939-2c35e1a5234f",
   "metadata": {},
   "outputs": [
    {
     "data": {
      "text/plain": [
       "[3, 4, 'this is my universe', 5]"
      ]
     },
     "execution_count": 17,
     "metadata": {},
     "output_type": "execute_result"
    }
   ],
   "source": [
    "ll"
   ]
  },
  {
   "cell_type": "code",
   "execution_count": 19,
   "id": "0a37d36b-d55b-4ec2-8371-1cc5ffa92445",
   "metadata": {},
   "outputs": [
    {
     "ename": "ValueError",
     "evalue": "list.remove(x): x not in list",
     "output_type": "error",
     "traceback": [
      "\u001b[0;31m---------------------------------------------------------------------------\u001b[0m",
      "\u001b[0;31mValueError\u001b[0m                                Traceback (most recent call last)",
      "Cell \u001b[0;32mIn[19], line 1\u001b[0m\n\u001b[0;32m----> 1\u001b[0m \u001b[43mll\u001b[49m\u001b[38;5;241;43m.\u001b[39;49m\u001b[43mremove\u001b[49m\u001b[43m(\u001b[49m\u001b[38;5;241;43m2\u001b[39;49m\u001b[43m)\u001b[49m\n",
      "\u001b[0;31mValueError\u001b[0m: list.remove(x): x not in list"
     ]
    }
   ],
   "source": [
    "ll.remove(2)"
   ]
  },
  {
   "cell_type": "code",
   "execution_count": 20,
   "id": "89da156a-cb6c-46a5-aa4f-3589a200ce43",
   "metadata": {},
   "outputs": [],
   "source": [
    "ll.remove(4)"
   ]
  },
  {
   "cell_type": "code",
   "execution_count": 21,
   "id": "7e819704-c751-4457-8448-3e44c8397d05",
   "metadata": {},
   "outputs": [
    {
     "data": {
      "text/plain": [
       "[3, 'this is my universe', 5]"
      ]
     },
     "execution_count": 21,
     "metadata": {},
     "output_type": "execute_result"
    }
   ],
   "source": [
    "ll"
   ]
  },
  {
   "cell_type": "code",
   "execution_count": 23,
   "id": "fd93e824-d1a3-49e2-b82c-47b22f0bd152",
   "metadata": {},
   "outputs": [],
   "source": [
    "ll.remove(\"this is my universe\")"
   ]
  },
  {
   "cell_type": "code",
   "execution_count": 24,
   "id": "1e22f576-6ea3-413b-94bb-31d6666084c5",
   "metadata": {},
   "outputs": [
    {
     "data": {
      "text/plain": [
       "[3, 5]"
      ]
     },
     "execution_count": 24,
     "metadata": {},
     "output_type": "execute_result"
    }
   ],
   "source": [
    "ll"
   ]
  },
  {
   "cell_type": "code",
   "execution_count": 25,
   "id": "906059db-a754-498e-9c71-50f497048cad",
   "metadata": {},
   "outputs": [],
   "source": [
    "ll.insert(1,4)"
   ]
  },
  {
   "cell_type": "code",
   "execution_count": 26,
   "id": "46b95a45-1c97-4e56-b3af-b64ab64ee434",
   "metadata": {},
   "outputs": [
    {
     "data": {
      "text/plain": [
       "[3, 4, 5]"
      ]
     },
     "execution_count": 26,
     "metadata": {},
     "output_type": "execute_result"
    }
   ],
   "source": [
    "ll"
   ]
  },
  {
   "cell_type": "code",
   "execution_count": 27,
   "id": "476b38c7-bc74-4e08-985e-079bf5aed4ec",
   "metadata": {},
   "outputs": [
    {
     "ename": "ValueError",
     "evalue": "list.remove(x): x not in list",
     "output_type": "error",
     "traceback": [
      "\u001b[0;31m---------------------------------------------------------------------------\u001b[0m",
      "\u001b[0;31mValueError\u001b[0m                                Traceback (most recent call last)",
      "Cell \u001b[0;32mIn[27], line 1\u001b[0m\n\u001b[0;32m----> 1\u001b[0m \u001b[43mll\u001b[49m\u001b[38;5;241;43m.\u001b[39;49m\u001b[43mremove\u001b[49m\u001b[43m(\u001b[49m\u001b[38;5;241;43m234\u001b[39;49m\u001b[43m)\u001b[49m\n",
      "\u001b[0;31mValueError\u001b[0m: list.remove(x): x not in list"
     ]
    }
   ],
   "source": [
    "ll.remove(234)"
   ]
  },
  {
   "cell_type": "code",
   "execution_count": 28,
   "id": "91387eff-1ab2-4aee-93a4-afb35d066324",
   "metadata": {},
   "outputs": [],
   "source": [
    "ll.append([3,4,5])"
   ]
  },
  {
   "cell_type": "code",
   "execution_count": 29,
   "id": "a8ebb044-2687-4b8a-8b05-236fe8e3f99b",
   "metadata": {},
   "outputs": [
    {
     "data": {
      "text/plain": [
       "[3, 4, 5, [3, 4, 5]]"
      ]
     },
     "execution_count": 29,
     "metadata": {},
     "output_type": "execute_result"
    }
   ],
   "source": [
    "ll"
   ]
  },
  {
   "cell_type": "code",
   "execution_count": 31,
   "id": "200e43b2-66bd-4d72-97ab-11408fe6d3dd",
   "metadata": {},
   "outputs": [],
   "source": [
    "ll.insert(1,[3,4,5])"
   ]
  },
  {
   "cell_type": "code",
   "execution_count": 32,
   "id": "0d4da8ee-7aa5-4294-bd68-5b1f847e6cf8",
   "metadata": {},
   "outputs": [
    {
     "data": {
      "text/plain": [
       "[3, [3, 4, 5], 4, 5, [3, 4, 5]]"
      ]
     },
     "execution_count": 32,
     "metadata": {},
     "output_type": "execute_result"
    }
   ],
   "source": [
    "ll"
   ]
  },
  {
   "cell_type": "code",
   "execution_count": 33,
   "id": "84e460cb-43bb-4ba3-b5e8-0c06069e7677",
   "metadata": {},
   "outputs": [
    {
     "data": {
      "text/plain": [
       "[3, 4, 5]"
      ]
     },
     "execution_count": 33,
     "metadata": {},
     "output_type": "execute_result"
    }
   ],
   "source": [
    "ll.pop()"
   ]
  },
  {
   "cell_type": "code",
   "execution_count": 34,
   "id": "899fcc78-8af9-42f6-b5c6-eb97713e9d24",
   "metadata": {},
   "outputs": [],
   "source": [
    "ll.insert(2,[3,4,5])"
   ]
  },
  {
   "cell_type": "code",
   "execution_count": 35,
   "id": "2cac7643-af30-49b1-a8b6-7c80aaa15649",
   "metadata": {},
   "outputs": [
    {
     "data": {
      "text/plain": [
       "[3, [3, 4, 5], [3, 4, 5], 4, 5]"
      ]
     },
     "execution_count": 35,
     "metadata": {},
     "output_type": "execute_result"
    }
   ],
   "source": [
    "ll"
   ]
  },
  {
   "cell_type": "code",
   "execution_count": 36,
   "id": "a3b84079-3231-463c-a778-fe6b4ff2c466",
   "metadata": {},
   "outputs": [
    {
     "data": {
      "text/plain": [
       "[3, 4, 5]"
      ]
     },
     "execution_count": 36,
     "metadata": {},
     "output_type": "execute_result"
    }
   ],
   "source": [
    "ll.pop(1)"
   ]
  },
  {
   "cell_type": "code",
   "execution_count": 37,
   "id": "2c940dbb-278c-4d6c-be04-04a2642ff7c2",
   "metadata": {},
   "outputs": [
    {
     "data": {
      "text/plain": [
       "[3, [3, 4, 5], 4, 5]"
      ]
     },
     "execution_count": 37,
     "metadata": {},
     "output_type": "execute_result"
    }
   ],
   "source": [
    "ll"
   ]
  },
  {
   "cell_type": "code",
   "execution_count": 38,
   "id": "b7ff036b-cc21-4d18-9a56-eafa6b196032",
   "metadata": {},
   "outputs": [],
   "source": [
    "ll.insert(2,[3,4,5])"
   ]
  },
  {
   "cell_type": "code",
   "execution_count": 39,
   "id": "38e64e49-4b54-4fe4-a1ea-ed2f27eef912",
   "metadata": {},
   "outputs": [
    {
     "data": {
      "text/plain": [
       "[3, [3, 4, 5], [3, 4, 5], 4, 5]"
      ]
     },
     "execution_count": 39,
     "metadata": {},
     "output_type": "execute_result"
    }
   ],
   "source": [
    "ll"
   ]
  },
  {
   "cell_type": "code",
   "execution_count": 40,
   "id": "c0ff0c1a-6a72-4a30-9c08-0f2b67a854d3",
   "metadata": {},
   "outputs": [],
   "source": [
    "ll.remove([3,4,5])"
   ]
  },
  {
   "cell_type": "code",
   "execution_count": 41,
   "id": "e49e1e08-e46e-45be-90c4-551f2b29e0c4",
   "metadata": {},
   "outputs": [
    {
     "data": {
      "text/plain": [
       "[3, [3, 4, 5], 4, 5]"
      ]
     },
     "execution_count": 41,
     "metadata": {},
     "output_type": "execute_result"
    }
   ],
   "source": [
    "ll"
   ]
  },
  {
   "cell_type": "code",
   "execution_count": 44,
   "id": "bb83df7b-73dc-4f1f-a64d-ecd2eec6e749",
   "metadata": {},
   "outputs": [],
   "source": [
    "ll.insert(1,[3,4,5])"
   ]
  },
  {
   "cell_type": "code",
   "execution_count": 45,
   "id": "c562858c-764c-4262-ab17-86b1fa4e2dbc",
   "metadata": {},
   "outputs": [
    {
     "data": {
      "text/plain": [
       "[3, [3, 4, 5], [3, 4, 5], [3, 4, 5], 4, 5]"
      ]
     },
     "execution_count": 45,
     "metadata": {},
     "output_type": "execute_result"
    }
   ],
   "source": [
    "ll"
   ]
  },
  {
   "cell_type": "code",
   "execution_count": 46,
   "id": "a439e9ed-1730-46aa-a7d5-8002bfe68d8a",
   "metadata": {},
   "outputs": [],
   "source": [
    "ll[2].remove(3)"
   ]
  },
  {
   "cell_type": "code",
   "execution_count": 47,
   "id": "852c8715-8dfe-432a-8c18-cf0c149f3645",
   "metadata": {},
   "outputs": [
    {
     "data": {
      "text/plain": [
       "[3, [3, 4, 5], [4, 5], [3, 4, 5], 4, 5]"
      ]
     },
     "execution_count": 47,
     "metadata": {},
     "output_type": "execute_result"
    }
   ],
   "source": [
    "ll"
   ]
  },
  {
   "cell_type": "code",
   "execution_count": 51,
   "id": "c616bb7f-e3ed-4974-9b7f-38af5679a474",
   "metadata": {},
   "outputs": [
    {
     "data": {
      "text/plain": [
       "[3, 4, 5]"
      ]
     },
     "execution_count": 51,
     "metadata": {},
     "output_type": "execute_result"
    }
   ],
   "source": [
    "ll.pop(1)"
   ]
  },
  {
   "cell_type": "code",
   "execution_count": 52,
   "id": "6c8e74fe-5b69-4e44-a391-d907b88c4d3f",
   "metadata": {},
   "outputs": [
    {
     "data": {
      "text/plain": [
       "[3, [4, 5], [3, 4, 5], 4]"
      ]
     },
     "execution_count": 52,
     "metadata": {},
     "output_type": "execute_result"
    }
   ],
   "source": [
    "ll"
   ]
  },
  {
   "cell_type": "code",
   "execution_count": 54,
   "id": "290e0fd9-b308-4ff4-b9a5-9173a201faf6",
   "metadata": {},
   "outputs": [
    {
     "data": {
      "text/plain": [
       "[3, 4, 5]"
      ]
     },
     "execution_count": 54,
     "metadata": {},
     "output_type": "execute_result"
    }
   ],
   "source": [
    "ll.pop(2)"
   ]
  },
  {
   "cell_type": "code",
   "execution_count": 55,
   "id": "df998de2-e2c0-4026-a16c-9f14ea51f72e",
   "metadata": {},
   "outputs": [
    {
     "data": {
      "text/plain": [
       "[3, [4, 5], 4]"
      ]
     },
     "execution_count": 55,
     "metadata": {},
     "output_type": "execute_result"
    }
   ],
   "source": [
    "ll"
   ]
  },
  {
   "cell_type": "code",
   "execution_count": 56,
   "id": "b0aeb11c-5b8c-4e30-b7be-f2e3eef8d3da",
   "metadata": {},
   "outputs": [
    {
     "data": {
      "text/plain": [
       "[4, 5]"
      ]
     },
     "execution_count": 56,
     "metadata": {},
     "output_type": "execute_result"
    }
   ],
   "source": [
    "ll.pop(1)"
   ]
  },
  {
   "cell_type": "code",
   "execution_count": 57,
   "id": "ee0c0f10-1ced-4ec5-94fc-bf311f533a22",
   "metadata": {},
   "outputs": [
    {
     "data": {
      "text/plain": [
       "[3, 4]"
      ]
     },
     "execution_count": 57,
     "metadata": {},
     "output_type": "execute_result"
    }
   ],
   "source": [
    "ll"
   ]
  },
  {
   "cell_type": "code",
   "execution_count": 62,
   "id": "9c716080-a069-4981-a075-a3609eb265de",
   "metadata": {},
   "outputs": [],
   "source": [
    "ll.insert(2,5)"
   ]
  },
  {
   "cell_type": "code",
   "execution_count": 63,
   "id": "befbc2cf-84d7-4378-ad15-c7be02203d32",
   "metadata": {},
   "outputs": [
    {
     "data": {
      "text/plain": [
       "[3, 4, 5]"
      ]
     },
     "execution_count": 63,
     "metadata": {},
     "output_type": "execute_result"
    }
   ],
   "source": [
    "ll"
   ]
  },
  {
   "cell_type": "code",
   "execution_count": 9,
   "id": "18c738ef-02fe-44eb-b4cc-b3bbc8170b7a",
   "metadata": {},
   "outputs": [],
   "source": [
    "ll = [3,4,5]"
   ]
  },
  {
   "cell_type": "code",
   "execution_count": 10,
   "id": "779a469d-33f8-42f8-a1e3-50d1271aa9ec",
   "metadata": {},
   "outputs": [
    {
     "data": {
      "text/plain": [
       "[3, 4, 5]"
      ]
     },
     "execution_count": 10,
     "metadata": {},
     "output_type": "execute_result"
    }
   ],
   "source": [
    "ll"
   ]
  },
  {
   "cell_type": "code",
   "execution_count": 11,
   "id": "5af67d01-0acc-46c5-9dc0-a875475a535c",
   "metadata": {},
   "outputs": [],
   "source": [
    "ll.remove(4)"
   ]
  },
  {
   "cell_type": "code",
   "execution_count": 12,
   "id": "d115e932-4c2f-440d-bd59-f31b63c7e969",
   "metadata": {},
   "outputs": [
    {
     "data": {
      "text/plain": [
       "[3, 5]"
      ]
     },
     "execution_count": 12,
     "metadata": {},
     "output_type": "execute_result"
    }
   ],
   "source": [
    "ll"
   ]
  },
  {
   "cell_type": "code",
   "execution_count": 13,
   "id": "fa4df8fd-903d-45a3-b0f9-3003123f80de",
   "metadata": {},
   "outputs": [],
   "source": [
    "ll.insert(1,4)"
   ]
  },
  {
   "cell_type": "code",
   "execution_count": 14,
   "id": "47b24092-75b7-4a43-bf30-1dd6eff83999",
   "metadata": {},
   "outputs": [
    {
     "data": {
      "text/plain": [
       "[3, 4, 5]"
      ]
     },
     "execution_count": 14,
     "metadata": {},
     "output_type": "execute_result"
    }
   ],
   "source": [
    "ll"
   ]
  },
  {
   "cell_type": "code",
   "execution_count": 15,
   "id": "ce0a7c36-dd5c-4d89-a3a9-1076415439c2",
   "metadata": {},
   "outputs": [],
   "source": [
    "ll.append(4)"
   ]
  },
  {
   "cell_type": "code",
   "execution_count": 16,
   "id": "0adf09a1-8677-4c78-bd4b-5c05fdd7845d",
   "metadata": {},
   "outputs": [
    {
     "data": {
      "text/plain": [
       "[3, 4, 5, 4]"
      ]
     },
     "execution_count": 16,
     "metadata": {},
     "output_type": "execute_result"
    }
   ],
   "source": [
    "ll"
   ]
  },
  {
   "cell_type": "code",
   "execution_count": 18,
   "id": "bfc9357d-f506-4470-8201-e81fadb38354",
   "metadata": {},
   "outputs": [
    {
     "data": {
      "text/plain": [
       "4"
      ]
     },
     "execution_count": 18,
     "metadata": {},
     "output_type": "execute_result"
    }
   ],
   "source": [
    "ll.pop(1)"
   ]
  },
  {
   "cell_type": "code",
   "execution_count": 19,
   "id": "38681cc1-08eb-41c0-a18e-516cae011fe8",
   "metadata": {},
   "outputs": [
    {
     "data": {
      "text/plain": [
       "[3, 5, 4]"
      ]
     },
     "execution_count": 19,
     "metadata": {},
     "output_type": "execute_result"
    }
   ],
   "source": [
    "ll"
   ]
  },
  {
   "cell_type": "code",
   "execution_count": 20,
   "id": "0bc98d1e-f4b8-4ee7-aa99-6b66641bf9aa",
   "metadata": {},
   "outputs": [],
   "source": [
    "ll.insert(1,4)"
   ]
  },
  {
   "cell_type": "code",
   "execution_count": 21,
   "id": "a8894d8d-a5bd-4c81-9452-e04cab71e2b9",
   "metadata": {},
   "outputs": [
    {
     "data": {
      "text/plain": [
       "[3, 4, 5, 4]"
      ]
     },
     "execution_count": 21,
     "metadata": {},
     "output_type": "execute_result"
    }
   ],
   "source": [
    "ll"
   ]
  },
  {
   "cell_type": "code",
   "execution_count": 22,
   "id": "10efd19f-fba8-4abb-9188-611cb9a3b0f8",
   "metadata": {},
   "outputs": [
    {
     "data": {
      "text/plain": [
       "4"
      ]
     },
     "execution_count": 22,
     "metadata": {},
     "output_type": "execute_result"
    }
   ],
   "source": [
    "ll.pop()"
   ]
  },
  {
   "cell_type": "code",
   "execution_count": 23,
   "id": "6d4e561d-b61c-4969-9043-824762c7fa8b",
   "metadata": {},
   "outputs": [
    {
     "data": {
      "text/plain": [
       "[3, 4, 5]"
      ]
     },
     "execution_count": 23,
     "metadata": {},
     "output_type": "execute_result"
    }
   ],
   "source": [
    "ll"
   ]
  },
  {
   "cell_type": "code",
   "execution_count": 24,
   "id": "88c34d36-d2e1-40b4-b1a8-a07ef3fef689",
   "metadata": {},
   "outputs": [],
   "source": [
    "ll.reverse()"
   ]
  },
  {
   "cell_type": "code",
   "execution_count": 25,
   "id": "e974e11f-2de2-4fd7-ae0b-2df51e5eed77",
   "metadata": {},
   "outputs": [
    {
     "data": {
      "text/plain": [
       "[5, 4, 3]"
      ]
     },
     "execution_count": 25,
     "metadata": {},
     "output_type": "execute_result"
    }
   ],
   "source": [
    "ll"
   ]
  },
  {
   "cell_type": "code",
   "execution_count": 29,
   "id": "735256c8-9187-44f5-9e19-b1676f4e13de",
   "metadata": {},
   "outputs": [],
   "source": [
    "ll = (ll[::-1])"
   ]
  },
  {
   "cell_type": "code",
   "execution_count": 30,
   "id": "45fda80b-1937-4924-8a16-8ef46eb808f8",
   "metadata": {},
   "outputs": [
    {
     "data": {
      "text/plain": [
       "[3, 4, 5]"
      ]
     },
     "execution_count": 30,
     "metadata": {},
     "output_type": "execute_result"
    }
   ],
   "source": [
    "ll"
   ]
  },
  {
   "cell_type": "code",
   "execution_count": 31,
   "id": "097894c0-24f2-45b5-aa2d-b4649bb2da12",
   "metadata": {},
   "outputs": [
    {
     "data": {
      "text/plain": [
       "[3, 4, 5]"
      ]
     },
     "execution_count": 31,
     "metadata": {},
     "output_type": "execute_result"
    }
   ],
   "source": [
    "ll"
   ]
  },
  {
   "cell_type": "code",
   "execution_count": 32,
   "id": "29c777a2-ed8f-42f1-a1a4-21d656915029",
   "metadata": {},
   "outputs": [],
   "source": [
    "ll.sort()"
   ]
  },
  {
   "cell_type": "code",
   "execution_count": 33,
   "id": "72b0b61d-2532-46ad-9bdb-2c3dda8d148b",
   "metadata": {},
   "outputs": [
    {
     "data": {
      "text/plain": [
       "[3, 4, 5]"
      ]
     },
     "execution_count": 33,
     "metadata": {},
     "output_type": "execute_result"
    }
   ],
   "source": [
    "ll"
   ]
  },
  {
   "cell_type": "code",
   "execution_count": 34,
   "id": "a8a57ae4-dfd8-4412-8d3d-ab8363e403a6",
   "metadata": {},
   "outputs": [],
   "source": [
    "l2 = [3,5,4,6,7]"
   ]
  },
  {
   "cell_type": "code",
   "execution_count": 35,
   "id": "56fad5ea-f1c7-4bf5-908e-cd0d5345bce8",
   "metadata": {},
   "outputs": [],
   "source": [
    "l2.sort()"
   ]
  },
  {
   "cell_type": "code",
   "execution_count": 36,
   "id": "c7e41b93-1d06-45e4-a790-770e3de3084c",
   "metadata": {},
   "outputs": [
    {
     "data": {
      "text/plain": [
       "[3, 4, 5, 6, 7]"
      ]
     },
     "execution_count": 36,
     "metadata": {},
     "output_type": "execute_result"
    }
   ],
   "source": [
    "l2"
   ]
  },
  {
   "cell_type": "code",
   "execution_count": 37,
   "id": "c47025fc-5346-45fe-83d8-4c0cb31708df",
   "metadata": {},
   "outputs": [],
   "source": [
    "ll.reverse()"
   ]
  },
  {
   "cell_type": "code",
   "execution_count": 38,
   "id": "b168f70c-cc37-463a-b6e4-40d60ed746e5",
   "metadata": {},
   "outputs": [
    {
     "data": {
      "text/plain": [
       "[5, 4, 3]"
      ]
     },
     "execution_count": 38,
     "metadata": {},
     "output_type": "execute_result"
    }
   ],
   "source": [
    "ll"
   ]
  },
  {
   "cell_type": "code",
   "execution_count": 39,
   "id": "b95e66fe-cd7a-4534-98b2-a8796e6d26d7",
   "metadata": {},
   "outputs": [],
   "source": [
    "ll.sort()"
   ]
  },
  {
   "cell_type": "code",
   "execution_count": 40,
   "id": "00e882f2-9891-45b1-b484-b7120e3c0a2d",
   "metadata": {},
   "outputs": [
    {
     "data": {
      "text/plain": [
       "[3, 4, 5]"
      ]
     },
     "execution_count": 40,
     "metadata": {},
     "output_type": "execute_result"
    }
   ],
   "source": [
    "ll"
   ]
  },
  {
   "cell_type": "code",
   "execution_count": 41,
   "id": "21e2563d-adce-4f4b-bd86-3cdb3231cc4a",
   "metadata": {},
   "outputs": [],
   "source": [
    "ll = ll[::-1]"
   ]
  },
  {
   "cell_type": "code",
   "execution_count": 42,
   "id": "b0c31bd8-bb14-4aa5-84b1-dfe8ec150d2f",
   "metadata": {},
   "outputs": [
    {
     "data": {
      "text/plain": [
       "[5, 4, 3]"
      ]
     },
     "execution_count": 42,
     "metadata": {},
     "output_type": "execute_result"
    }
   ],
   "source": [
    "ll"
   ]
  },
  {
   "cell_type": "code",
   "execution_count": 43,
   "id": "8ad16012-9d72-4c53-82a2-c458be2a89cf",
   "metadata": {},
   "outputs": [],
   "source": [
    "ll.reverse()"
   ]
  },
  {
   "cell_type": "code",
   "execution_count": 44,
   "id": "cf5e5ad7-6444-4c9a-b0cf-d10e74bf8973",
   "metadata": {},
   "outputs": [
    {
     "data": {
      "text/plain": [
       "[3, 4, 5]"
      ]
     },
     "execution_count": 44,
     "metadata": {},
     "output_type": "execute_result"
    }
   ],
   "source": [
    "ll"
   ]
  },
  {
   "cell_type": "code",
   "execution_count": 45,
   "id": "ebb192da-571a-40ee-8979-73d4cbbaefa3",
   "metadata": {},
   "outputs": [],
   "source": [
    "k = [3,4,2,\"suraj\"]"
   ]
  },
  {
   "cell_type": "code",
   "execution_count": 46,
   "id": "4aca1c0b-d3dc-4a3f-b07b-bcf93383ea2b",
   "metadata": {},
   "outputs": [
    {
     "ename": "TypeError",
     "evalue": "'<' not supported between instances of 'str' and 'int'",
     "output_type": "error",
     "traceback": [
      "\u001b[0;31m---------------------------------------------------------------------------\u001b[0m",
      "\u001b[0;31mTypeError\u001b[0m                                 Traceback (most recent call last)",
      "Cell \u001b[0;32mIn[46], line 1\u001b[0m\n\u001b[0;32m----> 1\u001b[0m \u001b[43mk\u001b[49m\u001b[38;5;241;43m.\u001b[39;49m\u001b[43msort\u001b[49m\u001b[43m(\u001b[49m\u001b[43m)\u001b[49m\n",
      "\u001b[0;31mTypeError\u001b[0m: '<' not supported between instances of 'str' and 'int'"
     ]
    }
   ],
   "source": [
    "k.sort()"
   ]
  },
  {
   "cell_type": "code",
   "execution_count": 47,
   "id": "8c95dd45-b75f-4481-9e8f-90e4d0f4dea9",
   "metadata": {},
   "outputs": [],
   "source": [
    "l3 = [\"suraj\" ,\"ravi\",\"sunny\",\"pwskills\"]"
   ]
  },
  {
   "cell_type": "code",
   "execution_count": 50,
   "id": "fcd7b9c1-bef5-44ef-af30-6e78b99afa0a",
   "metadata": {},
   "outputs": [],
   "source": [
    "l3.sort(reverse = True)"
   ]
  },
  {
   "cell_type": "code",
   "execution_count": 51,
   "id": "a957e5f3-f159-48dd-8b42-81e747185599",
   "metadata": {},
   "outputs": [
    {
     "data": {
      "text/plain": [
       "['suraj', 'sunny', 'ravi', 'pwskills']"
      ]
     },
     "execution_count": 51,
     "metadata": {},
     "output_type": "execute_result"
    }
   ],
   "source": [
    "l3"
   ]
  },
  {
   "cell_type": "code",
   "execution_count": 55,
   "id": "21e53da8-a819-47cf-ae7b-f710acb67b95",
   "metadata": {},
   "outputs": [
    {
     "data": {
      "text/plain": [
       "2"
      ]
     },
     "execution_count": 55,
     "metadata": {},
     "output_type": "execute_result"
    }
   ],
   "source": [
    "l3.index(\"ravi\")"
   ]
  },
  {
   "cell_type": "code",
   "execution_count": 53,
   "id": "32619a0d-8324-4156-871c-46f79a7c0bbe",
   "metadata": {},
   "outputs": [
    {
     "data": {
      "text/plain": [
       "1"
      ]
     },
     "execution_count": 53,
     "metadata": {},
     "output_type": "execute_result"
    }
   ],
   "source": [
    "l3.count(\"suraj\")"
   ]
  },
  {
   "cell_type": "code",
   "execution_count": 56,
   "id": "7dfffe76-48d3-45b4-9e59-267e1d5835d1",
   "metadata": {},
   "outputs": [],
   "source": [
    "s = \"pwskills\""
   ]
  },
  {
   "cell_type": "code",
   "execution_count": 57,
   "id": "cfbb83ad-df15-483a-85f4-81d92dc33ebb",
   "metadata": {},
   "outputs": [
    {
     "data": {
      "text/plain": [
       "'pwskills'"
      ]
     },
     "execution_count": 57,
     "metadata": {},
     "output_type": "execute_result"
    }
   ],
   "source": [
    "s"
   ]
  },
  {
   "cell_type": "code",
   "execution_count": 58,
   "id": "2a45b2f2-0954-4a4d-a4a7-3a5ea157e98e",
   "metadata": {},
   "outputs": [],
   "source": [
    "l5 = [3,4,5,6]"
   ]
  },
  {
   "cell_type": "code",
   "execution_count": 60,
   "id": "cacbe1df-1c39-4847-88b2-091c8f7ba90d",
   "metadata": {},
   "outputs": [
    {
     "ename": "TypeError",
     "evalue": "'str' object does not support item assignment",
     "output_type": "error",
     "traceback": [
      "\u001b[0;31m---------------------------------------------------------------------------\u001b[0m",
      "\u001b[0;31mTypeError\u001b[0m                                 Traceback (most recent call last)",
      "Cell \u001b[0;32mIn[60], line 1\u001b[0m\n\u001b[0;32m----> 1\u001b[0m \u001b[43ms\u001b[49m\u001b[43m[\u001b[49m\u001b[38;5;241;43m0\u001b[39;49m\u001b[43m]\u001b[49m \u001b[38;5;241m=\u001b[39m \u001b[38;5;124m\"\u001b[39m\u001b[38;5;124ma\u001b[39m\u001b[38;5;124m\"\u001b[39m\n",
      "\u001b[0;31mTypeError\u001b[0m: 'str' object does not support item assignment"
     ]
    }
   ],
   "source": [
    "s[0] = \"a\""
   ]
  },
  {
   "cell_type": "code",
   "execution_count": 61,
   "id": "fad3a7e8-46e4-4de0-96b0-3d0c639fba7c",
   "metadata": {},
   "outputs": [],
   "source": [
    "l5[0]= 30"
   ]
  },
  {
   "cell_type": "code",
   "execution_count": 62,
   "id": "9f917228-6062-4a4a-bb18-0c4900f5d898",
   "metadata": {},
   "outputs": [
    {
     "data": {
      "text/plain": [
       "[30, 4, 5, 6]"
      ]
     },
     "execution_count": 62,
     "metadata": {},
     "output_type": "execute_result"
    }
   ],
   "source": [
    "l5"
   ]
  },
  {
   "cell_type": "code",
   "execution_count": 64,
   "id": "f5fd1329-d543-403c-a77e-bfc7b1665a68",
   "metadata": {},
   "outputs": [
    {
     "data": {
      "text/plain": [
       "'awskills'"
      ]
     },
     "execution_count": 64,
     "metadata": {},
     "output_type": "execute_result"
    }
   ],
   "source": [
    "s.replace(\"p\",\"a\")"
   ]
  },
  {
   "cell_type": "code",
   "execution_count": 65,
   "id": "f987a4ef-d462-419d-a031-685e06e6b50e",
   "metadata": {},
   "outputs": [
    {
     "data": {
      "text/plain": [
       "'pwskills'"
      ]
     },
     "execution_count": 65,
     "metadata": {},
     "output_type": "execute_result"
    }
   ],
   "source": [
    "s"
   ]
  },
  {
   "cell_type": "code",
   "execution_count": 67,
   "id": "35016904-3536-43f3-a20d-5dfec5f9d5ea",
   "metadata": {},
   "outputs": [],
   "source": [
    "t =(2,3,4,5,\"suraj\",45,56,False, 45+56j)"
   ]
  },
  {
   "cell_type": "code",
   "execution_count": 68,
   "id": "42ef9148-f670-49b3-8a65-035905012f68",
   "metadata": {},
   "outputs": [
    {
     "data": {
      "text/plain": [
       "(2, 3, 4, 5, 'suraj', 45, 56, False, (45+56j))"
      ]
     },
     "execution_count": 68,
     "metadata": {},
     "output_type": "execute_result"
    }
   ],
   "source": [
    "t"
   ]
  },
  {
   "cell_type": "code",
   "execution_count": 69,
   "id": "4f83d504-0acc-4db1-99f1-ae4fe2b0f1af",
   "metadata": {},
   "outputs": [
    {
     "data": {
      "text/plain": [
       "tuple"
      ]
     },
     "execution_count": 69,
     "metadata": {},
     "output_type": "execute_result"
    }
   ],
   "source": [
    "type(t)"
   ]
  },
  {
   "cell_type": "code",
   "execution_count": 70,
   "id": "739ef052-2914-4ecc-86f8-2687476152ea",
   "metadata": {},
   "outputs": [
    {
     "data": {
      "text/plain": [
       "9"
      ]
     },
     "execution_count": 70,
     "metadata": {},
     "output_type": "execute_result"
    }
   ],
   "source": [
    "len(t)"
   ]
  },
  {
   "cell_type": "code",
   "execution_count": 71,
   "id": "181c6a4d-6e84-4be0-ad2b-66ed8e9049de",
   "metadata": {},
   "outputs": [
    {
     "data": {
      "text/plain": [
       "2"
      ]
     },
     "execution_count": 71,
     "metadata": {},
     "output_type": "execute_result"
    }
   ],
   "source": [
    "t[0]"
   ]
  },
  {
   "cell_type": "code",
   "execution_count": 77,
   "id": "cfcf2d14-0adf-4653-886b-496dc708e0bc",
   "metadata": {},
   "outputs": [
    {
     "data": {
      "text/plain": [
       "((45+56j), False, 56, 45, 'suraj', 5, 4, 3, 2)"
      ]
     },
     "execution_count": 77,
     "metadata": {},
     "output_type": "execute_result"
    }
   ],
   "source": [
    "t[::-1]"
   ]
  },
  {
   "cell_type": "code",
   "execution_count": 73,
   "id": "86aee8ad-c97e-4deb-81a5-96cc36dba1af",
   "metadata": {},
   "outputs": [
    {
     "data": {
      "text/plain": [
       "(2, 3, 4, 5, 'suraj', 45, 56, False, (45+56j))"
      ]
     },
     "execution_count": 73,
     "metadata": {},
     "output_type": "execute_result"
    }
   ],
   "source": [
    "t"
   ]
  },
  {
   "cell_type": "code",
   "execution_count": 79,
   "id": "f4194c4b-600c-4d5c-b28f-a27f5a058f36",
   "metadata": {},
   "outputs": [
    {
     "data": {
      "text/plain": [
       "[30, 4, 5, 6]"
      ]
     },
     "execution_count": 79,
     "metadata": {},
     "output_type": "execute_result"
    }
   ],
   "source": [
    "l5"
   ]
  },
  {
   "cell_type": "code",
   "execution_count": 82,
   "id": "168bff8d-4ccc-4e2d-a2a1-da6ddf8eabe9",
   "metadata": {},
   "outputs": [],
   "source": [
    "l5[0] = 3"
   ]
  },
  {
   "cell_type": "code",
   "execution_count": 83,
   "id": "a23cab28-21e3-4928-8dee-37248bea1a58",
   "metadata": {},
   "outputs": [
    {
     "data": {
      "text/plain": [
       "[3, 4, 5, 6]"
      ]
     },
     "execution_count": 83,
     "metadata": {},
     "output_type": "execute_result"
    }
   ],
   "source": [
    "l5"
   ]
  },
  {
   "cell_type": "code",
   "execution_count": 85,
   "id": "08342483-0852-4d98-8053-2090826d0e8f",
   "metadata": {},
   "outputs": [
    {
     "ename": "TypeError",
     "evalue": "'tuple' object does not support item assignment",
     "output_type": "error",
     "traceback": [
      "\u001b[0;31m---------------------------------------------------------------------------\u001b[0m",
      "\u001b[0;31mTypeError\u001b[0m                                 Traceback (most recent call last)",
      "Cell \u001b[0;32mIn[85], line 1\u001b[0m\n\u001b[0;32m----> 1\u001b[0m \u001b[43mt\u001b[49m\u001b[43m[\u001b[49m\u001b[38;5;241;43m0\u001b[39;49m\u001b[43m]\u001b[49m \u001b[38;5;241m=\u001b[39m \u001b[38;5;241m8\u001b[39m\n",
      "\u001b[0;31mTypeError\u001b[0m: 'tuple' object does not support item assignment"
     ]
    }
   ],
   "source": [
    "t[0] = 8"
   ]
  },
  {
   "cell_type": "code",
   "execution_count": 87,
   "id": "5c4e3b5b-a93b-48f1-a2b8-ee323f708bc5",
   "metadata": {},
   "outputs": [],
   "source": [
    "s = [3,4,6]"
   ]
  },
  {
   "cell_type": "code",
   "execution_count": 88,
   "id": "c3053590-862c-4adc-85f8-9fdd14514689",
   "metadata": {},
   "outputs": [
    {
     "data": {
      "text/plain": [
       "[3, 4, 6]"
      ]
     },
     "execution_count": 88,
     "metadata": {},
     "output_type": "execute_result"
    }
   ],
   "source": [
    "s"
   ]
  },
  {
   "cell_type": "code",
   "execution_count": 89,
   "id": "1479dda5-bc3b-4d44-88d2-211a330b0e69",
   "metadata": {},
   "outputs": [],
   "source": [
    "s[0] = 7"
   ]
  },
  {
   "cell_type": "code",
   "execution_count": 90,
   "id": "7f34fbe7-98cd-42f0-8893-d8d779d109b8",
   "metadata": {},
   "outputs": [
    {
     "data": {
      "text/plain": [
       "[7, 4, 6]"
      ]
     },
     "execution_count": 90,
     "metadata": {},
     "output_type": "execute_result"
    }
   ],
   "source": [
    "s"
   ]
  },
  {
   "cell_type": "code",
   "execution_count": 91,
   "id": "e2dcf650-b555-4c11-940c-a073be4428b5",
   "metadata": {},
   "outputs": [
    {
     "data": {
      "text/plain": [
       "(2, 3, 4, 5, 'suraj', 45, 56, False, (45+56j))"
      ]
     },
     "execution_count": 91,
     "metadata": {},
     "output_type": "execute_result"
    }
   ],
   "source": [
    "t"
   ]
  },
  {
   "cell_type": "code",
   "execution_count": 92,
   "id": "327af590-dea4-4090-854b-e317a845dd7a",
   "metadata": {},
   "outputs": [
    {
     "ename": "TypeError",
     "evalue": "'tuple' object does not support item assignment",
     "output_type": "error",
     "traceback": [
      "\u001b[0;31m---------------------------------------------------------------------------\u001b[0m",
      "\u001b[0;31mTypeError\u001b[0m                                 Traceback (most recent call last)",
      "Cell \u001b[0;32mIn[92], line 1\u001b[0m\n\u001b[0;32m----> 1\u001b[0m \u001b[43mt\u001b[49m\u001b[43m[\u001b[49m\u001b[38;5;241;43m0\u001b[39;49m\u001b[43m]\u001b[49m \u001b[38;5;241m=\u001b[39m \u001b[38;5;124m\"\u001b[39m\u001b[38;5;124msuresh\u001b[39m\u001b[38;5;124m\"\u001b[39m\n",
      "\u001b[0;31mTypeError\u001b[0m: 'tuple' object does not support item assignment"
     ]
    }
   ],
   "source": [
    "t[0] = \"suresh\""
   ]
  },
  {
   "cell_type": "code",
   "execution_count": 93,
   "id": "84e6851a-f7ea-4f9a-b31b-44570c189374",
   "metadata": {},
   "outputs": [
    {
     "ename": "TypeError",
     "evalue": "'tuple' object does not support item assignment",
     "output_type": "error",
     "traceback": [
      "\u001b[0;31m---------------------------------------------------------------------------\u001b[0m",
      "\u001b[0;31mTypeError\u001b[0m                                 Traceback (most recent call last)",
      "Cell \u001b[0;32mIn[93], line 1\u001b[0m\n\u001b[0;32m----> 1\u001b[0m \u001b[43mt\u001b[49m\u001b[43m[\u001b[49m\u001b[38;5;241;43m0\u001b[39;49m\u001b[43m]\u001b[49m \u001b[38;5;241m=\u001b[39m \u001b[38;5;241m9\u001b[39m\n",
      "\u001b[0;31mTypeError\u001b[0m: 'tuple' object does not support item assignment"
     ]
    }
   ],
   "source": [
    "t[0] = 9"
   ]
  },
  {
   "cell_type": "code",
   "execution_count": 95,
   "id": "83b84c5e-45b4-4bfe-a138-076fd7d56677",
   "metadata": {},
   "outputs": [],
   "source": [
    "t= t [::-1]"
   ]
  },
  {
   "cell_type": "code",
   "execution_count": 96,
   "id": "6f613225-ea9a-48dc-b3aa-8bb729289775",
   "metadata": {},
   "outputs": [
    {
     "data": {
      "text/plain": [
       "((45+56j), False, 56, 45, 'suraj', 5, 4, 3, 2)"
      ]
     },
     "execution_count": 96,
     "metadata": {},
     "output_type": "execute_result"
    }
   ],
   "source": [
    "t"
   ]
  },
  {
   "cell_type": "code",
   "execution_count": 97,
   "id": "b5d167b7-e53d-4cd1-935e-663a2273a70f",
   "metadata": {},
   "outputs": [
    {
     "data": {
      "text/plain": [
       "1"
      ]
     },
     "execution_count": 97,
     "metadata": {},
     "output_type": "execute_result"
    }
   ],
   "source": [
    "t.count(5)"
   ]
  },
  {
   "cell_type": "code",
   "execution_count": 99,
   "id": "504b67e7-72d1-488d-98b9-5e7d60c853c9",
   "metadata": {},
   "outputs": [
    {
     "data": {
      "text/plain": [
       "1"
      ]
     },
     "execution_count": 99,
     "metadata": {},
     "output_type": "execute_result"
    }
   ],
   "source": [
    "t.index(False)"
   ]
  },
  {
   "cell_type": "code",
   "execution_count": 100,
   "id": "568269ab-0300-44a3-83f9-704ebfa9c0d9",
   "metadata": {},
   "outputs": [],
   "source": [
    "s1 ={}"
   ]
  },
  {
   "cell_type": "code",
   "execution_count": 101,
   "id": "5e187247-20bf-4587-8e21-498d99ee0b8a",
   "metadata": {},
   "outputs": [
    {
     "data": {
      "text/plain": [
       "{}"
      ]
     },
     "execution_count": 101,
     "metadata": {},
     "output_type": "execute_result"
    }
   ],
   "source": [
    "s1"
   ]
  },
  {
   "cell_type": "code",
   "execution_count": 102,
   "id": "91ff678a-427b-43c5-8ac1-a2655cac986a",
   "metadata": {},
   "outputs": [
    {
     "data": {
      "text/plain": [
       "dict"
      ]
     },
     "execution_count": 102,
     "metadata": {},
     "output_type": "execute_result"
    }
   ],
   "source": [
    "type(s1)"
   ]
  },
  {
   "cell_type": "code",
   "execution_count": 103,
   "id": "135a208c-1f23-488e-a9d7-31fdd3847b61",
   "metadata": {},
   "outputs": [],
   "source": [
    "s2 = {2,3,4,55,66,76}"
   ]
  },
  {
   "cell_type": "code",
   "execution_count": 104,
   "id": "18de68cf-9a5a-4d11-a7d9-18642a93c778",
   "metadata": {},
   "outputs": [
    {
     "data": {
      "text/plain": [
       "{2, 3, 4, 55, 66, 76}"
      ]
     },
     "execution_count": 104,
     "metadata": {},
     "output_type": "execute_result"
    }
   ],
   "source": [
    "s2"
   ]
  },
  {
   "cell_type": "code",
   "execution_count": 105,
   "id": "1b19c665-1632-4739-bd51-aecb2d614537",
   "metadata": {},
   "outputs": [
    {
     "data": {
      "text/plain": [
       "set"
      ]
     },
     "execution_count": 105,
     "metadata": {},
     "output_type": "execute_result"
    }
   ],
   "source": [
    "type(s2)"
   ]
  },
  {
   "cell_type": "code",
   "execution_count": 106,
   "id": "21470296-1352-4764-b434-b04b40912662",
   "metadata": {},
   "outputs": [
    {
     "ename": "TypeError",
     "evalue": "unhashable type: 'list'",
     "output_type": "error",
     "traceback": [
      "\u001b[0;31m---------------------------------------------------------------------------\u001b[0m",
      "\u001b[0;31mTypeError\u001b[0m                                 Traceback (most recent call last)",
      "Cell \u001b[0;32mIn[106], line 1\u001b[0m\n\u001b[0;32m----> 1\u001b[0m s3 \u001b[38;5;241m=\u001b[39m{\u001b[38;5;241m445\u001b[39m,\u001b[38;5;241m636\u001b[39m,\u001b[38;5;241m357\u001b[39m,[\u001b[38;5;241m5\u001b[39m,\u001b[38;5;241m6\u001b[39m,\u001b[38;5;241m7\u001b[39m]}\n",
      "\u001b[0;31mTypeError\u001b[0m: unhashable type: 'list'"
     ]
    }
   ],
   "source": [
    "s3 ={445,636,357,[5,6,7]}"
   ]
  },
  {
   "cell_type": "code",
   "execution_count": 107,
   "id": "c76bec7f-0405-4e47-8b44-16ba51a2bfd1",
   "metadata": {},
   "outputs": [],
   "source": [
    "s3={445,636,357,(5,6,7)}"
   ]
  },
  {
   "cell_type": "code",
   "execution_count": 108,
   "id": "8b82a464-edd3-4684-a0db-bee7a778dd32",
   "metadata": {},
   "outputs": [
    {
     "data": {
      "text/plain": [
       "{(5, 6, 7), 357, 445, 636}"
      ]
     },
     "execution_count": 108,
     "metadata": {},
     "output_type": "execute_result"
    }
   ],
   "source": [
    "s3"
   ]
  },
  {
   "cell_type": "code",
   "execution_count": 112,
   "id": "cc64a247-6081-4928-9a10-a206c6755e6b",
   "metadata": {},
   "outputs": [],
   "source": [
    "s4 = {2,3,4,5,5,6,7,7,5,4,3,5,8,\"suraj\",\"suraj\"}"
   ]
  },
  {
   "cell_type": "code",
   "execution_count": 113,
   "id": "2f82ab73-b8c2-4ea6-b219-be26a569accb",
   "metadata": {},
   "outputs": [
    {
     "data": {
      "text/plain": [
       "{2, 3, 4, 5, 6, 7, 8, 'suraj'}"
      ]
     },
     "execution_count": 113,
     "metadata": {},
     "output_type": "execute_result"
    }
   ],
   "source": [
    "s4"
   ]
  },
  {
   "cell_type": "code",
   "execution_count": 116,
   "id": "22992a99-1522-4e1e-a557-8c4cf9c73147",
   "metadata": {},
   "outputs": [],
   "source": [
    "l6 = [2,3,4,5,5,6,7,7,5,4,3,5,8,\"suraj\",\"suraj\"]"
   ]
  },
  {
   "cell_type": "code",
   "execution_count": 117,
   "id": "aa81f797-fad7-4665-a061-1b2472bfc432",
   "metadata": {},
   "outputs": [
    {
     "data": {
      "text/plain": [
       "[2, 3, 4, 5, 5, 6, 7, 7, 5, 4, 3, 5, 8, 'suraj', 'suraj']"
      ]
     },
     "execution_count": 117,
     "metadata": {},
     "output_type": "execute_result"
    }
   ],
   "source": [
    "l6"
   ]
  },
  {
   "cell_type": "code",
   "execution_count": 120,
   "id": "cca23754-46b1-460f-9548-63697e8362d1",
   "metadata": {},
   "outputs": [],
   "source": [
    "l6 = list(set(l6))"
   ]
  },
  {
   "cell_type": "code",
   "execution_count": 121,
   "id": "66bae477-d042-4a13-b46a-f42e0aa518c9",
   "metadata": {},
   "outputs": [
    {
     "data": {
      "text/plain": [
       "['suraj', 2, 3, 4, 5, 6, 7, 8]"
      ]
     },
     "execution_count": 121,
     "metadata": {},
     "output_type": "execute_result"
    }
   ],
   "source": [
    "l6"
   ]
  },
  {
   "cell_type": "code",
   "execution_count": 124,
   "id": "4b1e256f-5938-479f-9fdb-03e05ce8fa77",
   "metadata": {},
   "outputs": [],
   "source": [
    "s5 = {46,65,17,88,5,3,5,6,4,\"y\",6,5,3,\"avs\"}"
   ]
  },
  {
   "cell_type": "code",
   "execution_count": 125,
   "id": "268cb8fd-03f8-47fa-b5f3-82727e4cdb4c",
   "metadata": {},
   "outputs": [
    {
     "data": {
      "text/plain": [
       "{17, 3, 4, 46, 5, 6, 65, 88, 'avs', 'y'}"
      ]
     },
     "execution_count": 125,
     "metadata": {},
     "output_type": "execute_result"
    }
   ],
   "source": [
    "s5"
   ]
  },
  {
   "cell_type": "code",
   "execution_count": 126,
   "id": "657981be-9273-465a-b588-746f27fb2fc3",
   "metadata": {},
   "outputs": [
    {
     "ename": "TypeError",
     "evalue": "'set' object is not subscriptable",
     "output_type": "error",
     "traceback": [
      "\u001b[0;31m---------------------------------------------------------------------------\u001b[0m",
      "\u001b[0;31mTypeError\u001b[0m                                 Traceback (most recent call last)",
      "Cell \u001b[0;32mIn[126], line 1\u001b[0m\n\u001b[0;32m----> 1\u001b[0m \u001b[43ms5\u001b[49m\u001b[43m[\u001b[49m\u001b[38;5;241;43m0\u001b[39;49m\u001b[43m]\u001b[49m\n",
      "\u001b[0;31mTypeError\u001b[0m: 'set' object is not subscriptable"
     ]
    }
   ],
   "source": [
    "s5[0]"
   ]
  },
  {
   "cell_type": "code",
   "execution_count": 127,
   "id": "823ddc10-9d0f-4730-83f3-6f08e8695c85",
   "metadata": {},
   "outputs": [
    {
     "ename": "TypeError",
     "evalue": "'set' object is not subscriptable",
     "output_type": "error",
     "traceback": [
      "\u001b[0;31m---------------------------------------------------------------------------\u001b[0m",
      "\u001b[0;31mTypeError\u001b[0m                                 Traceback (most recent call last)",
      "Cell \u001b[0;32mIn[127], line 1\u001b[0m\n\u001b[0;32m----> 1\u001b[0m \u001b[43ms5\u001b[49m\u001b[43m[\u001b[49m\u001b[43m:\u001b[49m\u001b[43m:\u001b[49m\u001b[38;5;241;43m-\u001b[39;49m\u001b[38;5;241;43m1\u001b[39;49m\u001b[43m]\u001b[49m\n",
      "\u001b[0;31mTypeError\u001b[0m: 'set' object is not subscriptable"
     ]
    }
   ],
   "source": [
    "s5[::-1]"
   ]
  },
  {
   "cell_type": "code",
   "execution_count": 128,
   "id": "80da818c-4284-48eb-98d4-76d6eb94182c",
   "metadata": {},
   "outputs": [
    {
     "data": {
      "text/plain": [
       "{17, 3, 4, 46, 5, 6, 65, 88, 'avs', 'y'}"
      ]
     },
     "execution_count": 128,
     "metadata": {},
     "output_type": "execute_result"
    }
   ],
   "source": [
    "s5"
   ]
  },
  {
   "cell_type": "code",
   "execution_count": 129,
   "id": "855c2074-a723-4a1d-97bc-1d78addb97c5",
   "metadata": {},
   "outputs": [],
   "source": [
    "s5.add(4)"
   ]
  },
  {
   "cell_type": "code",
   "execution_count": 130,
   "id": "635c94df-2d99-4e65-9f57-f50cd3997285",
   "metadata": {},
   "outputs": [
    {
     "data": {
      "text/plain": [
       "{17, 3, 4, 46, 5, 6, 65, 88, 'avs', 'y'}"
      ]
     },
     "execution_count": 130,
     "metadata": {},
     "output_type": "execute_result"
    }
   ],
   "source": [
    "s5"
   ]
  },
  {
   "cell_type": "code",
   "execution_count": 131,
   "id": "11dd3a6e-e067-4072-af70-d0146774cd26",
   "metadata": {},
   "outputs": [],
   "source": [
    "s5.add(7684)"
   ]
  },
  {
   "cell_type": "code",
   "execution_count": 132,
   "id": "66335c51-f5ce-4d74-af24-f77637a65ebb",
   "metadata": {},
   "outputs": [
    {
     "data": {
      "text/plain": [
       "{17, 3, 4, 46, 5, 6, 65, 7684, 88, 'avs', 'y'}"
      ]
     },
     "execution_count": 132,
     "metadata": {},
     "output_type": "execute_result"
    }
   ],
   "source": [
    "s5"
   ]
  },
  {
   "cell_type": "code",
   "execution_count": 135,
   "id": "c8e3e023-0491-4a11-9f7d-c684dc45329d",
   "metadata": {},
   "outputs": [],
   "source": [
    "s5.remove(4)"
   ]
  },
  {
   "cell_type": "code",
   "execution_count": null,
   "id": "028be687-2137-4183-b3b7-03e83a514a72",
   "metadata": {},
   "outputs": [],
   "source": []
  }
 ],
 "metadata": {
  "kernelspec": {
   "display_name": "Python 3 (ipykernel)",
   "language": "python",
   "name": "python3"
  },
  "language_info": {
   "codemirror_mode": {
    "name": "ipython",
    "version": 3
   },
   "file_extension": ".py",
   "mimetype": "text/x-python",
   "name": "python",
   "nbconvert_exporter": "python",
   "pygments_lexer": "ipython3",
   "version": "3.10.8"
  }
 },
 "nbformat": 4,
 "nbformat_minor": 5
}
