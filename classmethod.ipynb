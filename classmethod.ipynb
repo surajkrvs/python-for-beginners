{
 "cells": [
  {
   "cell_type": "code",
   "execution_count": 1,
   "id": "e9c0bd0a-e121-40eb-b114-86f838f64e92",
   "metadata": {},
   "outputs": [],
   "source": [
    "class pwskills:\n",
    "    \n",
    "    def __init__(self,name,email):\n",
    "        self.name = name \n",
    "        self.email = email\n",
    "    \n",
    "    def student_details(self):\n",
    "        print(self.name , self.email)"
   ]
  },
  {
   "cell_type": "code",
   "execution_count": 4,
   "id": "a5fd32fc-ea0f-48eb-9399-7d886b056b05",
   "metadata": {},
   "outputs": [],
   "source": [
    "pw = pwskills(\"mohan\",\"mohan@gmail.com\")"
   ]
  },
  {
   "cell_type": "code",
   "execution_count": 5,
   "id": "bd0a7312-e418-4706-a826-876292aabd50",
   "metadata": {},
   "outputs": [
    {
     "data": {
      "text/plain": [
       "'mohan'"
      ]
     },
     "execution_count": 5,
     "metadata": {},
     "output_type": "execute_result"
    }
   ],
   "source": [
    "pw.name"
   ]
  },
  {
   "cell_type": "code",
   "execution_count": 6,
   "id": "b51f1746-47ce-4c5a-991c-9bf8dd5580a6",
   "metadata": {},
   "outputs": [
    {
     "data": {
      "text/plain": [
       "'mohan@gmail.com'"
      ]
     },
     "execution_count": 6,
     "metadata": {},
     "output_type": "execute_result"
    }
   ],
   "source": [
    "pw.email"
   ]
  },
  {
   "cell_type": "code",
   "execution_count": 7,
   "id": "04f0cba3-74ff-4da5-b509-510c8e3ad7c0",
   "metadata": {},
   "outputs": [
    {
     "name": "stdout",
     "output_type": "stream",
     "text": [
      "mohan mohan@gmail.com\n"
     ]
    }
   ],
   "source": [
    "pw.student_details()"
   ]
  },
  {
   "cell_type": "code",
   "execution_count": 8,
   "id": "2d7faf33-c1cc-4242-9acf-ff3da82a2267",
   "metadata": {},
   "outputs": [],
   "source": [
    "class pwskills1:\n",
    "    \n",
    "    def __init__(self,name,email):\n",
    "        self.name = name \n",
    "        self.email = email\n",
    "    @classmethod    \n",
    "    def details(cls,name,email):\n",
    "        return cls(name,email)\n",
    "    \n",
    "    def student_details(self):\n",
    "        print(self.name , self.email)"
   ]
  },
  {
   "cell_type": "code",
   "execution_count": 16,
   "id": "68ed0fd2-2cda-4c54-b9ff-a7d2d7ecbacc",
   "metadata": {},
   "outputs": [],
   "source": [
    "pw1 = pwskills1.details(\"suraj\",\"suraj@gmail.com\")"
   ]
  },
  {
   "cell_type": "code",
   "execution_count": 13,
   "id": "fcd63511-2cab-4bd2-b914-6be64fd006d9",
   "metadata": {},
   "outputs": [
    {
     "data": {
      "text/plain": [
       "'suraj'"
      ]
     },
     "execution_count": 13,
     "metadata": {},
     "output_type": "execute_result"
    }
   ],
   "source": [
    "pw1.name"
   ]
  },
  {
   "cell_type": "code",
   "execution_count": 14,
   "id": "23067051-b020-4335-8fe5-7c8438680d13",
   "metadata": {},
   "outputs": [
    {
     "data": {
      "text/plain": [
       "'suraj@gmail.com'"
      ]
     },
     "execution_count": 14,
     "metadata": {},
     "output_type": "execute_result"
    }
   ],
   "source": [
    "pw1.email"
   ]
  },
  {
   "cell_type": "code",
   "execution_count": 15,
   "id": "57c61bca-fc71-4bb0-8e05-99285e000e17",
   "metadata": {},
   "outputs": [
    {
     "name": "stdout",
     "output_type": "stream",
     "text": [
      "suraj suraj@gmail.com\n"
     ]
    }
   ],
   "source": [
    "pw1.student_details()"
   ]
  },
  {
   "cell_type": "code",
   "execution_count": 17,
   "id": "db5874d0-7fd2-4538-a501-56d15969588e",
   "metadata": {},
   "outputs": [
    {
     "name": "stdout",
     "output_type": "stream",
     "text": [
      "suraj suraj@gmail.com\n"
     ]
    }
   ],
   "source": [
    "pw1.student_details()"
   ]
  },
  {
   "cell_type": "code",
   "execution_count": 29,
   "id": "bdb7d3d0-5a93-4bd7-9005-45f8b7a4b4f5",
   "metadata": {},
   "outputs": [],
   "source": [
    "class pwskills2:\n",
    "    \n",
    "    mobile_num = 9145794375\n",
    "    \n",
    "    def __init__(self,name,email):\n",
    "        self.name = name \n",
    "        self.email = email\n",
    "        \n",
    "    @classmethod\n",
    "    def change_number(cls,mobile):\n",
    "        pwskills2.mobile_num= mobile\n",
    "    @classmethod    \n",
    "    def details(cls,name,email):\n",
    "        return cls(name,email)\n",
    "    \n",
    "    def student_details(self):\n",
    "        print(self.name , self.email,pwskills2.mobile_num)"
   ]
  },
  {
   "cell_type": "code",
   "execution_count": 40,
   "id": "577fdb6a-b701-4f66-84b9-56506b8b5f9d",
   "metadata": {},
   "outputs": [],
   "source": [
    "pw = pwskills2.details(\"rohan\",\"rohan@gmail.com\")"
   ]
  },
  {
   "cell_type": "code",
   "execution_count": 33,
   "id": "160c962a-799f-4868-9b9f-cd73d035daef",
   "metadata": {},
   "outputs": [],
   "source": [
    "pw_obj = pwskills2(\"suraj\",\"suraj@gmail.com\")"
   ]
  },
  {
   "cell_type": "code",
   "execution_count": 34,
   "id": "55a6b40f-aa7b-4692-8526-4be8bf0744bd",
   "metadata": {},
   "outputs": [
    {
     "data": {
      "text/plain": [
       "569794332"
      ]
     },
     "execution_count": 34,
     "metadata": {},
     "output_type": "execute_result"
    }
   ],
   "source": [
    "pwskills2.mobile_num"
   ]
  },
  {
   "cell_type": "code",
   "execution_count": 43,
   "id": "8ede9819-49e8-4595-8a01-9ebc75c2865b",
   "metadata": {},
   "outputs": [],
   "source": [
    "pwskills2.change_number(569794332)"
   ]
  },
  {
   "cell_type": "code",
   "execution_count": 44,
   "id": "dca67e52-6c85-40af-89f9-251a747e05da",
   "metadata": {},
   "outputs": [
    {
     "data": {
      "text/plain": [
       "569794332"
      ]
     },
     "execution_count": 44,
     "metadata": {},
     "output_type": "execute_result"
    }
   ],
   "source": [
    "pwskills2.mobile_num"
   ]
  },
  {
   "cell_type": "code",
   "execution_count": 47,
   "id": "0e05a23b-77e1-4cfc-a3e5-15790614b3d1",
   "metadata": {},
   "outputs": [
    {
     "name": "stdout",
     "output_type": "stream",
     "text": [
      "rohan rohan@gmail.com 569794332\n"
     ]
    }
   ],
   "source": [
    "pw.student_details()"
   ]
  },
  {
   "cell_type": "code",
   "execution_count": 48,
   "id": "5f328d96-b910-4060-8138-82385eaefb74",
   "metadata": {},
   "outputs": [],
   "source": [
    "class pwskills3:\n",
    "    \n",
    "    mobile_num = 9145794375\n",
    "    \n",
    "    def __init__(self,name,email):\n",
    "        self.name = name \n",
    "        self.email = email\n",
    "        \n",
    "    @classmethod\n",
    "    def change_number(cls,mobile):\n",
    "        pwskills2.mobile_num= mobile\n",
    "    @classmethod    \n",
    "    def details(cls,name,email):\n",
    "        return cls(name,email)\n",
    "    \n",
    "    def student_details(self):\n",
    "        print(self.name , self.email,pwskills2.mobile_num)"
   ]
  },
  {
   "cell_type": "code",
   "execution_count": 51,
   "id": "6b3cd8fb-a96d-40b0-833b-23e3917a1d67",
   "metadata": {},
   "outputs": [],
   "source": [
    "def course_details(cls,course_name):\n",
    "    print(\"course name is \" , course_name)"
   ]
  },
  {
   "cell_type": "code",
   "execution_count": 52,
   "id": "8d92a1ac-c6f5-4002-b76a-840651bf1e5d",
   "metadata": {},
   "outputs": [],
   "source": [
    "pwskills3.course_details = classmethod(course_details)"
   ]
  },
  {
   "cell_type": "code",
   "execution_count": 53,
   "id": "7beaeb26-d680-47ac-abdb-b6745ae9e36c",
   "metadata": {},
   "outputs": [
    {
     "name": "stdout",
     "output_type": "stream",
     "text": [
      "course name is  data science masters\n"
     ]
    }
   ],
   "source": [
    "pwskills3.course_details(\"data science masters\")"
   ]
  },
  {
   "cell_type": "code",
   "execution_count": 60,
   "id": "ee61f5af-ad54-4310-b398-21ae0f356645",
   "metadata": {},
   "outputs": [],
   "source": [
    "def mentor(cls,list_of_mentor):\n",
    "    print(list_of_mentor)"
   ]
  },
  {
   "cell_type": "code",
   "execution_count": 61,
   "id": "5ff48473-3867-4021-b8e5-b71779d37170",
   "metadata": {},
   "outputs": [],
   "source": [
    "pwskills3.mentor = classmethod(mentor)"
   ]
  },
  {
   "cell_type": "code",
   "execution_count": 64,
   "id": "575d73fc-123c-409a-91ed-da7802392228",
   "metadata": {},
   "outputs": [
    {
     "name": "stdout",
     "output_type": "stream",
     "text": [
      "['sudahnshu kumar', 'krish naik']\n"
     ]
    }
   ],
   "source": [
    "pwskills.mentor([\"sudahnshu kumar\",\"krish naik\"])"
   ]
  },
  {
   "cell_type": "code",
   "execution_count": 65,
   "id": "f61b7980-4d63-4667-8857-47d269b03ada",
   "metadata": {},
   "outputs": [
    {
     "data": {
      "text/plain": [
       "<bound method mentor of <class '__main__.pwskills3'>>"
      ]
     },
     "execution_count": 65,
     "metadata": {},
     "output_type": "execute_result"
    }
   ],
   "source": [
    "pwskills3.mentor"
   ]
  },
  {
   "cell_type": "code",
   "execution_count": 70,
   "id": "cea164a6-1770-4a10-ac3b-7696e831cc2e",
   "metadata": {},
   "outputs": [],
   "source": [
    "class pwskills4:\n",
    "    \n",
    "    mobile_num = 9145794375\n",
    "    \n",
    "    def __init__(self,name,email):\n",
    "        self.name = name \n",
    "        self.email = email\n",
    "        \n",
    "    @classmethod\n",
    "    def change_number(cls,mobile):\n",
    "        pwskills2.mobile_num= mobile\n",
    "    @classmethod    \n",
    "    def details(cls,name,email):\n",
    "        return cls(name,email)\n",
    "    \n",
    "    def student_details(self):\n",
    "        print(self.name , self.email,pwskills2.mobile_num)"
   ]
  },
  {
   "cell_type": "code",
   "execution_count": 71,
   "id": "9997ff35-2248-4804-8d5b-2ac38f3f8cee",
   "metadata": {},
   "outputs": [],
   "source": [
    "del pwskills4.change_number"
   ]
  },
  {
   "cell_type": "code",
   "execution_count": 72,
   "id": "2d222068-121b-499b-9665-92ec9cf98023",
   "metadata": {},
   "outputs": [
    {
     "ename": "NameError",
     "evalue": "name 'change_number' is not defined",
     "output_type": "error",
     "traceback": [
      "\u001b[0;31m---------------------------------------------------------------------------\u001b[0m",
      "\u001b[0;31mNameError\u001b[0m                                 Traceback (most recent call last)",
      "Cell \u001b[0;32mIn[72], line 1\u001b[0m\n\u001b[0;32m----> 1\u001b[0m pwskills4\u001b[38;5;241m.\u001b[39mchange_number \u001b[38;5;241m=\u001b[39m \u001b[38;5;28mclassmethod\u001b[39m(\u001b[43mchange_number\u001b[49m)\n",
      "\u001b[0;31mNameError\u001b[0m: name 'change_number' is not defined"
     ]
    }
   ],
   "source": [
    "pwskills4.change_number = classmethod(change_number)"
   ]
  },
  {
   "cell_type": "code",
   "execution_count": 73,
   "id": "ff21c9b5-5631-4e09-abb4-e212458eb033",
   "metadata": {},
   "outputs": [],
   "source": [
    " def change_number(cls,mobile):\n",
    "        pwskills2.mobile_num= mobile"
   ]
  },
  {
   "cell_type": "code",
   "execution_count": 74,
   "id": "cdf34ad8-6ad7-4d06-b029-2af52289796b",
   "metadata": {},
   "outputs": [],
   "source": [
    "pwskills4.change_number = classmethod(change_number)"
   ]
  },
  {
   "cell_type": "code",
   "execution_count": 75,
   "id": "a295116a-89aa-4f72-89fc-ad87f01b2a97",
   "metadata": {},
   "outputs": [],
   "source": [
    "delattr(pwskills4,\"details\") "
   ]
  },
  {
   "cell_type": "code",
   "execution_count": 77,
   "id": "35452642-786f-4ef8-9f82-172fee647fa8",
   "metadata": {},
   "outputs": [
    {
     "ename": "AttributeError",
     "evalue": "type object 'pwskills4' has no attribute 'details'",
     "output_type": "error",
     "traceback": [
      "\u001b[0;31m---------------------------------------------------------------------------\u001b[0m",
      "\u001b[0;31mAttributeError\u001b[0m                            Traceback (most recent call last)",
      "Cell \u001b[0;32mIn[77], line 1\u001b[0m\n\u001b[0;32m----> 1\u001b[0m \u001b[43mpwskills4\u001b[49m\u001b[38;5;241;43m.\u001b[39;49m\u001b[43mdetails\u001b[49m()\n",
      "\u001b[0;31mAttributeError\u001b[0m: type object 'pwskills4' has no attribute 'details'"
     ]
    }
   ],
   "source": [
    "pwskills4.details()"
   ]
  },
  {
   "cell_type": "code",
   "execution_count": 83,
   "id": "93c7dd77-9ba2-4395-a49d-d9d17c3c6c04",
   "metadata": {},
   "outputs": [],
   "source": [
    "delattr(pwskills4,\"student_details\")"
   ]
  },
  {
   "cell_type": "code",
   "execution_count": 84,
   "id": "b6a4b88e-0635-4582-9fa6-3a7f078cb9f3",
   "metadata": {},
   "outputs": [],
   "source": [
    "delattr(pwskills4,\"mobile_num\")"
   ]
  },
  {
   "cell_type": "code",
   "execution_count": null,
   "id": "bbeb43ad-17cd-4a80-9d53-82135356f5d7",
   "metadata": {},
   "outputs": [],
   "source": [
    "pwskills4."
   ]
  }
 ],
 "metadata": {
  "kernelspec": {
   "display_name": "Python 3 (ipykernel)",
   "language": "python",
   "name": "python3"
  },
  "language_info": {
   "codemirror_mode": {
    "name": "ipython",
    "version": 3
   },
   "file_extension": ".py",
   "mimetype": "text/x-python",
   "name": "python",
   "nbconvert_exporter": "python",
   "pygments_lexer": "ipython3",
   "version": "3.10.8"
  }
 },
 "nbformat": 4,
 "nbformat_minor": 5
}
