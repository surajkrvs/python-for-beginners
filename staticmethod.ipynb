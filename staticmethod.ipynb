{
 "cells": [
  {
   "cell_type": "code",
   "execution_count": 1,
   "id": "28df5f40-d492-408c-862c-a6a7370aaca3",
   "metadata": {},
   "outputs": [],
   "source": [
    "class pwskills :\n",
    "    def student_details(self,name , email_id,number):\n",
    "        print(name,email_id,number)\n",
    "    "
   ]
  },
  {
   "cell_type": "code",
   "execution_count": 2,
   "id": "76bbd11c-ebef-42dd-b68e-2a683e243450",
   "metadata": {},
   "outputs": [],
   "source": [
    "pw =pwskills()"
   ]
  },
  {
   "cell_type": "code",
   "execution_count": 5,
   "id": "8b980c06-82e0-4482-9a8c-7be7cfc06691",
   "metadata": {},
   "outputs": [
    {
     "name": "stdout",
     "output_type": "stream",
     "text": [
      "rohan rohan@gmail.com 7896456\n"
     ]
    }
   ],
   "source": [
    "pw.student_details(\"rohan\" ,\"rohan@gmail.com\",7896456)"
   ]
  },
  {
   "cell_type": "code",
   "execution_count": 13,
   "id": "6653071d-629a-49fd-bdeb-301fea183b6c",
   "metadata": {},
   "outputs": [],
   "source": [
    "class pwskills1 :\n",
    "    def student_details(self,name , email_id,number):\n",
    "        print(name,email_id,number)\n",
    "    \n",
    "    @staticmethod\n",
    "    def mentor_class(list_of_mentor):\n",
    "        return (list_of_mentor)\n",
    "    \n",
    "    def mentor(self,mentor_list):\n",
    "        print(mentor_list)"
   ]
  },
  {
   "cell_type": "code",
   "execution_count": 14,
   "id": "c1c79ba7-f18b-456e-acc6-af181615d648",
   "metadata": {},
   "outputs": [
    {
     "data": {
      "text/plain": [
       "'sudhansu kumar'"
      ]
     },
     "execution_count": 14,
     "metadata": {},
     "output_type": "execute_result"
    }
   ],
   "source": [
    "pwskills1.mentor_class(\"sudhansu kumar\")"
   ]
  },
  {
   "cell_type": "code",
   "execution_count": 15,
   "id": "588cecf6-890e-4eba-a61c-07c23ca5c3ed",
   "metadata": {},
   "outputs": [],
   "source": [
    "stu1 = pwskills1()"
   ]
  },
  {
   "cell_type": "code",
   "execution_count": 11,
   "id": "1bdcd88a-03d6-470f-9b90-8a843bf6efe0",
   "metadata": {},
   "outputs": [],
   "source": [
    "stu2 = pwskills1()"
   ]
  },
  {
   "cell_type": "code",
   "execution_count": 16,
   "id": "6440b78c-51bb-46e1-bccb-5e69ab79ff7b",
   "metadata": {},
   "outputs": [],
   "source": [
    "stu3 = pwskills1()"
   ]
  },
  {
   "cell_type": "code",
   "execution_count": 17,
   "id": "c384b20d-721e-4305-ba15-82f9995d0503",
   "metadata": {},
   "outputs": [
    {
     "name": "stdout",
     "output_type": "stream",
     "text": [
      "['suraj', 'krish']\n"
     ]
    }
   ],
   "source": [
    "stu1.mentor([\"suraj\",\"krish\"])"
   ]
  },
  {
   "cell_type": "code",
   "execution_count": 50,
   "id": "20b910a4-bd79-43d9-9107-7e3562befb6c",
   "metadata": {},
   "outputs": [],
   "source": [
    "class pwskills2 :\n",
    "    def student_details(self,name , email_id,number):\n",
    "        print(name,email_id,number)\n",
    "        \n",
    "    @staticmethod\n",
    "    def mentor_mail_id(mentor_mail_id):\n",
    "        print (mentor_mail_id)\n",
    "    \n",
    "    \n",
    "    @staticmethod\n",
    "    def mentor_class(list_of_mentor):\n",
    "        pwskills2.mentor_mail_id([\"ssuhanshu@gmail.com\", \"krish@gmail.com\"])\n",
    "        print (list_of_mentor)\n",
    "    \n",
    "    @classmethod\n",
    "    def class_name(cls):\n",
    "        cls.mentor_class([\"sudahnsu\" , \"krish\"])\n",
    "    \n",
    "    def mentor(self,mentor_list):\n",
    "        print(mentor_list)\n",
    "        self.mentor_class([\"sudhanshu\",\"krish\"])"
   ]
  },
  {
   "cell_type": "code",
   "execution_count": 46,
   "id": "78efa722-2d55-42ae-a7ff-111c697d2fdc",
   "metadata": {},
   "outputs": [
    {
     "name": "stdout",
     "output_type": "stream",
     "text": [
      "['ssuhanshu@gmail.com', 'krish@gmail.com']\n",
      "['krish', 'sudh']\n"
     ]
    }
   ],
   "source": [
    "pwskills2.mentor_class([\"krish\" ,\"sudh\"])"
   ]
  },
  {
   "cell_type": "code",
   "execution_count": 47,
   "id": "1d83ad4b-8cde-4ff5-94b0-e0e4c8d84099",
   "metadata": {},
   "outputs": [
    {
     "name": "stdout",
     "output_type": "stream",
     "text": [
      "['ssuhanshu@gmail.com', 'krish@gmail.com']\n",
      "['sudahnsu', 'krish']\n"
     ]
    }
   ],
   "source": [
    "pwskills2.mentor_class([\"sudahnsu\" , \"krish\"])"
   ]
  },
  {
   "cell_type": "code",
   "execution_count": 48,
   "id": "aad80825-36a2-463d-9783-2458fdab7808",
   "metadata": {},
   "outputs": [
    {
     "name": "stdout",
     "output_type": "stream",
     "text": [
      "['ssuhanshu@gmail.com', 'krish@gmail.com']\n",
      "['sudahnsu', 'krish']\n"
     ]
    }
   ],
   "source": [
    "pwskills2.class_name()"
   ]
  },
  {
   "cell_type": "code",
   "execution_count": 51,
   "id": "fc6b97a9-6de4-45e2-a1b3-605e1e879553",
   "metadata": {},
   "outputs": [],
   "source": [
    "pw = pwskills2()"
   ]
  },
  {
   "cell_type": "code",
   "execution_count": 53,
   "id": "0a42241c-9d32-4c4e-be6f-7a8f63036134",
   "metadata": {},
   "outputs": [
    {
     "name": "stdout",
     "output_type": "stream",
     "text": [
      "['sudhanshu', 'krish']\n",
      "['ssuhanshu@gmail.com', 'krish@gmail.com']\n",
      "['sudhanshu', 'krish']\n"
     ]
    }
   ],
   "source": [
    "pw.mentor([\"sudhanshu\" , \"krish\"])"
   ]
  },
  {
   "cell_type": "code",
   "execution_count": null,
   "id": "8d793efd-c804-444f-9843-cf0bf2d591a9",
   "metadata": {},
   "outputs": [],
   "source": []
  }
 ],
 "metadata": {
  "kernelspec": {
   "display_name": "Python 3 (ipykernel)",
   "language": "python",
   "name": "python3"
  },
  "language_info": {
   "codemirror_mode": {
    "name": "ipython",
    "version": 3
   },
   "file_extension": ".py",
   "mimetype": "text/x-python",
   "name": "python",
   "nbconvert_exporter": "python",
   "pygments_lexer": "ipython3",
   "version": "3.10.8"
  }
 },
 "nbformat": 4,
 "nbformat_minor": 5
}
