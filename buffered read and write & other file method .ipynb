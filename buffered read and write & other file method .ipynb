{
 "cells": [
  {
   "cell_type": "code",
   "execution_count": 1,
   "id": "ab8f1505-1b6e-4027-8ee7-61f62f740f64",
   "metadata": {},
   "outputs": [],
   "source": [
    "import io"
   ]
  },
  {
   "cell_type": "code",
   "execution_count": 11,
   "id": "4ed2ddf1-d6f9-464e-ae68-9dd722c0ffd9",
   "metadata": {},
   "outputs": [],
   "source": [
    "with open (\"test1.txt\" , \"wb\" ) as f :\n",
    "    file = io.BufferedWriter(f)\n",
    "    \n",
    "    file.write(b\"ions dont yield profits and in somea traders gross losses might exceed the gains\\n\")\n",
    "    file.write(b\"this is my second line\") \n",
    "    file.flush()\n",
    "    "
   ]
  },
  {
   "cell_type": "code",
   "execution_count": 18,
   "id": "017ee67b-d01f-4b28-b72a-f1a223c25c08",
   "metadata": {},
   "outputs": [
    {
     "name": "stdout",
     "output_type": "stream",
     "text": [
      "b'ions dont yield profits and in somea traders gross losses might exceed the gains\\nthis is my second line'\n"
     ]
    }
   ],
   "source": [
    "with open(\"test1.txt\" ,\"rb\") as f :\n",
    "    \n",
    "    file = io.BufferedReader(f)\n",
    "    print(file.read(10000))"
   ]
  },
  {
   "cell_type": "code",
   "execution_count": null,
   "id": "2340b2f6-9493-4092-8a01-4d85e0ab0468",
   "metadata": {},
   "outputs": [],
   "source": []
  }
 ],
 "metadata": {
  "kernelspec": {
   "display_name": "Python 3 (ipykernel)",
   "language": "python",
   "name": "python3"
  },
  "language_info": {
   "codemirror_mode": {
    "name": "ipython",
    "version": 3
   },
   "file_extension": ".py",
   "mimetype": "text/x-python",
   "name": "python",
   "nbconvert_exporter": "python",
   "pygments_lexer": "ipython3",
   "version": "3.10.8"
  }
 },
 "nbformat": 4,
 "nbformat_minor": 5
}
