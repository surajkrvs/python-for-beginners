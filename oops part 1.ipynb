{
 "cells": [
  {
   "cell_type": "markdown",
   "id": "bcc8fd83-afa7-426c-beef-e68480013187",
   "metadata": {},
   "source": [
    "#\"Oops\" stands for object - Oriented programming system"
   ]
  },
  {
   "cell_type": "code",
   "execution_count": 1,
   "id": "7c124ef6-e076-42cd-96f4-42bd7b2ce4f8",
   "metadata": {},
   "outputs": [],
   "source": [
    "a =1"
   ]
  },
  {
   "cell_type": "code",
   "execution_count": 2,
   "id": "2445179d-bb47-40af-9312-3e18210b3f4b",
   "metadata": {},
   "outputs": [
    {
     "name": "stdout",
     "output_type": "stream",
     "text": [
      "<class 'int'>\n"
     ]
    }
   ],
   "source": [
    "print(type(a))"
   ]
  },
  {
   "cell_type": "code",
   "execution_count": 3,
   "id": "b5edc95d-1b0d-4b91-8797-406b48ee72d8",
   "metadata": {},
   "outputs": [
    {
     "name": "stdout",
     "output_type": "stream",
     "text": [
      "<class 'str'>\n"
     ]
    }
   ],
   "source": [
    "print(type(\"pwskills\"))"
   ]
  },
  {
   "cell_type": "code",
   "execution_count": 5,
   "id": "65034586-2794-47fa-ad58-06ba2beb6d32",
   "metadata": {},
   "outputs": [],
   "source": [
    "class test :\n",
    "    pass"
   ]
  },
  {
   "cell_type": "code",
   "execution_count": 1,
   "id": "f4e6ea73-bdba-4de2-8d36-a1f0d033798a",
   "metadata": {},
   "outputs": [
    {
     "name": "stdout",
     "output_type": "stream",
     "text": [
      "<class 'str'>\n"
     ]
    }
   ],
   "source": [
    "print(type(\"pwskills\"))"
   ]
  },
  {
   "cell_type": "code",
   "execution_count": 2,
   "id": "56ce032e-7974-492e-b46b-f2d228b5319a",
   "metadata": {},
   "outputs": [],
   "source": [
    "class test :\n",
    "    pass"
   ]
  },
  {
   "cell_type": "code",
   "execution_count": 4,
   "id": "47ed4983-a666-4a3f-91d2-25f42a0ba07e",
   "metadata": {},
   "outputs": [],
   "source": [
    "a = test()"
   ]
  },
  {
   "cell_type": "code",
   "execution_count": 6,
   "id": "1b9b0e08-da8a-4dc2-a75e-e4d3b2f85295",
   "metadata": {},
   "outputs": [
    {
     "data": {
      "text/plain": [
       "__main__.test"
      ]
     },
     "execution_count": 6,
     "metadata": {},
     "output_type": "execute_result"
    }
   ],
   "source": [
    "type(a)"
   ]
  },
  {
   "cell_type": "code",
   "execution_count": 7,
   "id": "9bb0daaa-7f45-4e7a-b1d0-835856696638",
   "metadata": {},
   "outputs": [
    {
     "name": "stdout",
     "output_type": "stream",
     "text": [
      "<class '__main__.test'>\n"
     ]
    }
   ],
   "source": [
    "print(type(a))"
   ]
  },
  {
   "cell_type": "code",
   "execution_count": 16,
   "id": "a7035347-2164-4b65-b9ee-2c035404010e",
   "metadata": {},
   "outputs": [],
   "source": [
    "class pwskills:\n",
    "    \n",
    "    def welcome_msg(self):\n",
    "        print(\"welcome to pwskills\")"
   ]
  },
  {
   "cell_type": "code",
   "execution_count": 17,
   "id": "63714a61-d99e-43a0-bb16-8fe954f0403e",
   "metadata": {},
   "outputs": [],
   "source": [
    "rohan = pwskills()"
   ]
  },
  {
   "cell_type": "code",
   "execution_count": 18,
   "id": "d026e45c-f3e6-4235-bdb7-6d04d93bf3d9",
   "metadata": {},
   "outputs": [
    {
     "data": {
      "text/plain": [
       "__main__.pwskills"
      ]
     },
     "execution_count": 18,
     "metadata": {},
     "output_type": "execute_result"
    }
   ],
   "source": [
    "type(rohan)"
   ]
  },
  {
   "cell_type": "code",
   "execution_count": 19,
   "id": "c8d0e129-4bd4-49d3-beef-4d2e7caaf986",
   "metadata": {},
   "outputs": [
    {
     "name": "stdout",
     "output_type": "stream",
     "text": [
      "<class '__main__.pwskills'>\n"
     ]
    }
   ],
   "source": [
    "print(type(rohan))"
   ]
  },
  {
   "cell_type": "code",
   "execution_count": 20,
   "id": "81304091-7128-4095-a8f0-879465ede6c7",
   "metadata": {},
   "outputs": [
    {
     "name": "stdout",
     "output_type": "stream",
     "text": [
      "welcome to pwskills\n"
     ]
    }
   ],
   "source": [
    "rohan.welcome_msg()"
   ]
  },
  {
   "cell_type": "code",
   "execution_count": 21,
   "id": "c2b2777e-1b57-48e2-9f25-bdc0f1aa48b4",
   "metadata": {},
   "outputs": [],
   "source": [
    "gaurav = pwskills()"
   ]
  },
  {
   "cell_type": "code",
   "execution_count": 22,
   "id": "efdcc6f9-8d4a-4830-8dfa-f43026e674df",
   "metadata": {},
   "outputs": [
    {
     "data": {
      "text/plain": [
       "__main__.pwskills"
      ]
     },
     "execution_count": 22,
     "metadata": {},
     "output_type": "execute_result"
    }
   ],
   "source": [
    "type(gaurav)"
   ]
  },
  {
   "cell_type": "code",
   "execution_count": 23,
   "id": "6d58f657-ba2e-456e-affb-b1733cd73790",
   "metadata": {},
   "outputs": [
    {
     "name": "stdout",
     "output_type": "stream",
     "text": [
      "welcome to pwskills\n"
     ]
    }
   ],
   "source": [
    "gaurav.welcome_msg()"
   ]
  },
  {
   "cell_type": "code",
   "execution_count": 60,
   "id": "00868b46-3993-469a-ab0b-d781ef9e95fc",
   "metadata": {},
   "outputs": [],
   "source": [
    "class pwskills2:\n",
    "    \n",
    "    def  __init__(self,phone_number,email_id,student_id):\n",
    "        self.phone_number1 = phone_number\n",
    "        self.email_id1 = email_id\n",
    "        self.student_id1 = student_id\n",
    "        \n",
    "    def return_student_details(self) :\n",
    "        return self.student_id1,self.phone_number1,self.email_id1"
   ]
  },
  {
   "cell_type": "code",
   "execution_count": 57,
   "id": "a4425c47-b6b8-4796-a1f1-87800bbd3716",
   "metadata": {},
   "outputs": [],
   "source": [
    "rohan = pwskills1(9934848627,\"surajkrvs3@gmail.com\",74854)"
   ]
  },
  {
   "cell_type": "code",
   "execution_count": 42,
   "id": "9a635d8a-c14a-454b-92a3-ac248fbc8da6",
   "metadata": {},
   "outputs": [
    {
     "data": {
      "text/plain": [
       "9934848627"
      ]
     },
     "execution_count": 42,
     "metadata": {},
     "output_type": "execute_result"
    }
   ],
   "source": [
    "rohan.phone_number"
   ]
  },
  {
   "cell_type": "code",
   "execution_count": 54,
   "id": "920bbe0f-bb73-4b0f-9231-9d6ba0174c0b",
   "metadata": {},
   "outputs": [],
   "source": [
    "gaurav = pwskills1(7894561235,\"gauravzone@gmail.com\",458)"
   ]
  },
  {
   "cell_type": "code",
   "execution_count": 30,
   "id": "5e8cf3c4-5c6c-4fd9-a717-ea05f29ce866",
   "metadata": {},
   "outputs": [
    {
     "data": {
      "text/plain": [
       "(458, 7894561235, 'gauravzone@gmail.com')"
      ]
     },
     "execution_count": 30,
     "metadata": {},
     "output_type": "execute_result"
    }
   ],
   "source": [
    "gaurav.return_student_details()"
   ]
  },
  {
   "cell_type": "code",
   "execution_count": 63,
   "id": "56ec2a18-6685-474b-9c81-082f1e5d1cfa",
   "metadata": {},
   "outputs": [],
   "source": [
    "suraj = pwskills2(45789653,\"suraj.gnnail.com\",452)"
   ]
  },
  {
   "cell_type": "code",
   "execution_count": 64,
   "id": "6e04dc44-5593-421f-a5fe-b3acc1a3e14e",
   "metadata": {},
   "outputs": [
    {
     "data": {
      "text/plain": [
       "45789653"
      ]
     },
     "execution_count": 64,
     "metadata": {},
     "output_type": "execute_result"
    }
   ],
   "source": [
    "suraj.phone_number1"
   ]
  },
  {
   "cell_type": "code",
   "execution_count": 65,
   "id": "56bcbd78-5b2c-4045-8bc4-9d772c1d65f6",
   "metadata": {},
   "outputs": [
    {
     "data": {
      "text/plain": [
       "'suraj.gnnail.com'"
      ]
     },
     "execution_count": 65,
     "metadata": {},
     "output_type": "execute_result"
    }
   ],
   "source": [
    "suraj.email_id1"
   ]
  },
  {
   "cell_type": "code",
   "execution_count": 66,
   "id": "7cc24d55-05e0-4f09-918a-c638e512a2c2",
   "metadata": {},
   "outputs": [
    {
     "data": {
      "text/plain": [
       "(452, 45789653, 'suraj.gnnail.com')"
      ]
     },
     "execution_count": 66,
     "metadata": {},
     "output_type": "execute_result"
    }
   ],
   "source": [
    "suraj.return_student_details()"
   ]
  },
  {
   "cell_type": "code",
   "execution_count": 67,
   "id": "8e7d789a-c396-4e0d-9033-9b3e72c23c02",
   "metadata": {},
   "outputs": [],
   "source": [
    "class pwskills2:\n",
    "    \n",
    "    def  __init__(suraj,phone_number,email_id,student_id):\n",
    "        suraj.phone_number1 = phone_number\n",
    "        suraj.email_id1 = email_id\n",
    "        suraj.student_id1 = student_id\n",
    "        \n",
    "    def return_student_details(self) :\n",
    "        return suraj.student_id1,suraj.phone_number1,suraj.email_id1"
   ]
  },
  {
   "cell_type": "code",
   "execution_count": 68,
   "id": "c39fefa6-73ed-42c5-a889-3d833db074a3",
   "metadata": {},
   "outputs": [],
   "source": [
    "rohan = pwskills2(789645624,\"sieor@gmail.com\",548)"
   ]
  },
  {
   "cell_type": "code",
   "execution_count": 69,
   "id": "5ba822fb-3eec-47a5-a1ed-74cb49922d8b",
   "metadata": {},
   "outputs": [
    {
     "data": {
      "text/plain": [
       "789645624"
      ]
     },
     "execution_count": 69,
     "metadata": {},
     "output_type": "execute_result"
    }
   ],
   "source": [
    "rohan.phone_number1"
   ]
  },
  {
   "cell_type": "code",
   "execution_count": null,
   "id": "20ebaa59-4cfc-4f9f-948b-789b3d1140ad",
   "metadata": {},
   "outputs": [],
   "source": []
  }
 ],
 "metadata": {
  "kernelspec": {
   "display_name": "Python 3 (ipykernel)",
   "language": "python",
   "name": "python3"
  },
  "language_info": {
   "codemirror_mode": {
    "name": "ipython",
    "version": 3
   },
   "file_extension": ".py",
   "mimetype": "text/x-python",
   "name": "python",
   "nbconvert_exporter": "python",
   "pygments_lexer": "ipython3",
   "version": "3.10.8"
  }
 },
 "nbformat": 4,
 "nbformat_minor": 5
}
