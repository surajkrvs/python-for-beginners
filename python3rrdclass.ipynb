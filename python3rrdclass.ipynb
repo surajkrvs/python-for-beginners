{
 "cells": [
  {
   "cell_type": "code",
   "execution_count": 1,
   "id": "eeb1085d-2613-49ad-81c6-f12d415ef514",
   "metadata": {},
   "outputs": [],
   "source": [
    "d = {}"
   ]
  },
  {
   "cell_type": "code",
   "execution_count": 2,
   "id": "407b937d-c602-4df2-8f95-95605ae76030",
   "metadata": {},
   "outputs": [
    {
     "data": {
      "text/plain": [
       "dict"
      ]
     },
     "execution_count": 2,
     "metadata": {},
     "output_type": "execute_result"
    }
   ],
   "source": [
    "type(d)"
   ]
  },
  {
   "cell_type": "code",
   "execution_count": 3,
   "id": "c11a3725-e8ac-4668-9dd0-2b8fb5eae245",
   "metadata": {},
   "outputs": [],
   "source": [
    "r = ()"
   ]
  },
  {
   "cell_type": "code",
   "execution_count": 4,
   "id": "9e278fa8-384b-421a-9205-8e9becc4b323",
   "metadata": {},
   "outputs": [
    {
     "data": {
      "text/plain": [
       "tuple"
      ]
     },
     "execution_count": 4,
     "metadata": {},
     "output_type": "execute_result"
    }
   ],
   "source": [
    "type(r)"
   ]
  },
  {
   "cell_type": "code",
   "execution_count": 13,
   "id": "3f2dec9f-7182-4dde-9db0-9559c15a04cb",
   "metadata": {},
   "outputs": [],
   "source": [
    "d1 = {'key' :\"suraj\"}"
   ]
  },
  {
   "cell_type": "code",
   "execution_count": 11,
   "id": "dee712da-ca60-4cf9-9d2b-c670740b472a",
   "metadata": {},
   "outputs": [
    {
     "data": {
      "text/plain": [
       "{'key': 'suraj'}"
      ]
     },
     "execution_count": 11,
     "metadata": {},
     "output_type": "execute_result"
    }
   ],
   "source": [
    "d1"
   ]
  },
  {
   "cell_type": "code",
   "execution_count": 15,
   "id": "25b992e8-ad91-43b9-933e-a4f1e6fd7e8b",
   "metadata": {},
   "outputs": [],
   "source": [
    "d2 = {'name' : \"Suraj\" ,'email' : \"surajkrvs3@gmail.com\",'number' : 9934848627}"
   ]
  },
  {
   "cell_type": "code",
   "execution_count": 16,
   "id": "3f4adcff-b443-46fd-becf-d4c4c10ba734",
   "metadata": {},
   "outputs": [
    {
     "data": {
      "text/plain": [
       "{'name': 'Suraj', 'email': 'surajkrvs3@gmail.com', 'number': 9934848627}"
      ]
     },
     "execution_count": 16,
     "metadata": {},
     "output_type": "execute_result"
    }
   ],
   "source": [
    "d2"
   ]
  },
  {
   "cell_type": "code",
   "execution_count": 23,
   "id": "78e2a5bc-a244-46be-bd97-19d585b7466f",
   "metadata": {},
   "outputs": [],
   "source": [
    "d3 = {243 : \"suraj\", '_ever' : \"rety\", True : 56346}"
   ]
  },
  {
   "cell_type": "code",
   "execution_count": 24,
   "id": "29be51d8-bfc8-4b38-88bd-515bba2c884b",
   "metadata": {},
   "outputs": [
    {
     "data": {
      "text/plain": [
       "{243: 'suraj', '_ever': 'rety', True: 56346}"
      ]
     },
     "execution_count": 24,
     "metadata": {},
     "output_type": "execute_result"
    }
   ],
   "source": [
    "d3"
   ]
  },
  {
   "cell_type": "code",
   "execution_count": 27,
   "id": "ff255f09-76de-461b-b048-6f3bed1f7760",
   "metadata": {},
   "outputs": [
    {
     "data": {
      "text/plain": [
       "'suraj'"
      ]
     },
     "execution_count": 27,
     "metadata": {},
     "output_type": "execute_result"
    }
   ],
   "source": [
    "d3[243]"
   ]
  },
  {
   "cell_type": "code",
   "execution_count": 29,
   "id": "d434e752-db8a-469d-9b02-f81b3523701a",
   "metadata": {},
   "outputs": [
    {
     "data": {
      "text/plain": [
       "'rety'"
      ]
     },
     "execution_count": 29,
     "metadata": {},
     "output_type": "execute_result"
    }
   ],
   "source": [
    "d3['_ever']"
   ]
  },
  {
   "cell_type": "code",
   "execution_count": 30,
   "id": "1ac40c9f-0d44-4c35-a273-a41568246d62",
   "metadata": {},
   "outputs": [
    {
     "data": {
      "text/plain": [
       "56346"
      ]
     },
     "execution_count": 30,
     "metadata": {},
     "output_type": "execute_result"
    }
   ],
   "source": [
    "d3[1]"
   ]
  },
  {
   "cell_type": "code",
   "execution_count": 33,
   "id": "5a5229cf-528d-4cbb-9c4a-2e3f35a939a5",
   "metadata": {},
   "outputs": [],
   "source": [
    "d4 = {'name' : \"ravi\", 'mail_id' : \"surajkrvs3@gmail.com\", 'name' : \"Surajkumar\"}"
   ]
  },
  {
   "cell_type": "code",
   "execution_count": 34,
   "id": "7e3a42e4-38f0-4c23-afa0-9d327d4cf4fa",
   "metadata": {},
   "outputs": [
    {
     "data": {
      "text/plain": [
       "'Surajkumar'"
      ]
     },
     "execution_count": 34,
     "metadata": {},
     "output_type": "execute_result"
    }
   ],
   "source": [
    "d4['name']"
   ]
  },
  {
   "cell_type": "code",
   "execution_count": 44,
   "id": "d72c9a6e-cf7e-4511-a94f-9c9562557fb4",
   "metadata": {},
   "outputs": [],
   "source": [
    "d5 = {\"company\" : \"pwskills\", \"course\" : [\"web dev\",\"java\",\"data science\"]}"
   ]
  },
  {
   "cell_type": "code",
   "execution_count": 45,
   "id": "580ca88d-d559-4d35-9bc9-463d84e93f2c",
   "metadata": {},
   "outputs": [
    {
     "data": {
      "text/plain": [
       "{'company': 'pwskills', 'course': ['web dev', 'java', 'data science']}"
      ]
     },
     "execution_count": 45,
     "metadata": {},
     "output_type": "execute_result"
    }
   ],
   "source": [
    "d5"
   ]
  },
  {
   "cell_type": "code",
   "execution_count": 46,
   "id": "9f65e5d6-f81f-43ee-a9d9-cbd39dace3f1",
   "metadata": {},
   "outputs": [
    {
     "data": {
      "text/plain": [
       "['web dev', 'java', 'data science']"
      ]
     },
     "execution_count": 46,
     "metadata": {},
     "output_type": "execute_result"
    }
   ],
   "source": [
    "d5[\"course\"]"
   ]
  },
  {
   "cell_type": "code",
   "execution_count": 48,
   "id": "81e4bad2-0e05-4414-beb7-0fc46b67220d",
   "metadata": {},
   "outputs": [
    {
     "data": {
      "text/plain": [
       "'data science'"
      ]
     },
     "execution_count": 48,
     "metadata": {},
     "output_type": "execute_result"
    }
   ],
   "source": [
    "d5[\"course\"][2]"
   ]
  },
  {
   "cell_type": "code",
   "execution_count": 49,
   "id": "35569a43-2003-4b1a-b1d6-8cd542e2164d",
   "metadata": {},
   "outputs": [
    {
     "data": {
      "text/plain": [
       "{'company': 'pwskills', 'course': ['web dev', 'java', 'data science']}"
      ]
     },
     "execution_count": 49,
     "metadata": {},
     "output_type": "execute_result"
    }
   ],
   "source": [
    "d5"
   ]
  },
  {
   "cell_type": "code",
   "execution_count": 54,
   "id": "51b763c1-f8d6-4325-bb95-becc39a9c0bd",
   "metadata": {},
   "outputs": [],
   "source": [
    "d6 = {\"number\" : [1,2,3,5,6,7,8,4],\"assignment\" : (2,3,4,5,7,3,6),\"launch_data\" : (28,12,30),\"class_time\" : {\"web dev\" : 8 , \"java\" : 9, \"data sicence\" : 10}}"
   ]
  },
  {
   "cell_type": "code",
   "execution_count": 55,
   "id": "c409d34e-786b-4ddd-8b05-6cb51483f49a",
   "metadata": {},
   "outputs": [
    {
     "data": {
      "text/plain": [
       "{'number': [1, 2, 3, 5, 6, 7, 8, 4],\n",
       " 'assignment': (2, 3, 4, 5, 7, 3, 6),\n",
       " 'launch_data': (28, 12, 30),\n",
       " 'class_time': {'web dev': 8, 'java': 9, 'data sicence': 10}}"
      ]
     },
     "execution_count": 55,
     "metadata": {},
     "output_type": "execute_result"
    }
   ],
   "source": [
    "d6"
   ]
  },
  {
   "cell_type": "code",
   "execution_count": 57,
   "id": "42d6776c-ddba-48d9-bd12-17fde725f1ae",
   "metadata": {},
   "outputs": [
    {
     "data": {
      "text/plain": [
       "10"
      ]
     },
     "execution_count": 57,
     "metadata": {},
     "output_type": "execute_result"
    }
   ],
   "source": [
    "d6['class_time']['data sicence']"
   ]
  },
  {
   "cell_type": "code",
   "execution_count": 58,
   "id": "56399f25-9370-4277-89b8-23940b061006",
   "metadata": {},
   "outputs": [],
   "source": [
    "d6['mentor'] = ['sudhanshu' , \"krish\" , \"hayder\"]"
   ]
  },
  {
   "cell_type": "code",
   "execution_count": 59,
   "id": "58ff41d5-85ad-496a-ac97-37a488da6d91",
   "metadata": {},
   "outputs": [
    {
     "data": {
      "text/plain": [
       "{'number': [1, 2, 3, 5, 6, 7, 8, 4],\n",
       " 'assignment': (2, 3, 4, 5, 7, 3, 6),\n",
       " 'launch_data': (28, 12, 30),\n",
       " 'class_time': {'web dev': 8, 'java': 9, 'data sicence': 10},\n",
       " 'mentor': ['sudhanshu', 'krish', 'hayder']}"
      ]
     },
     "execution_count": 59,
     "metadata": {},
     "output_type": "execute_result"
    }
   ],
   "source": [
    "d6"
   ]
  },
  {
   "cell_type": "code",
   "execution_count": 61,
   "id": "b516cd90-5cdc-4d55-843a-9afc2b8b8f3b",
   "metadata": {},
   "outputs": [],
   "source": [
    "d6['assignment']: [(2, 3, 4, 5, 7, 3, 6),]"
   ]
  },
  {
   "cell_type": "code",
   "execution_count": 62,
   "id": "5c4b34fd-5d2c-47a7-b81d-9f502ea0ae9d",
   "metadata": {},
   "outputs": [
    {
     "data": {
      "text/plain": [
       "{'number': [1, 2, 3, 5, 6, 7, 8, 4],\n",
       " 'assignment': (2, 3, 4, 5, 7, 3, 6),\n",
       " 'launch_data': (28, 12, 30),\n",
       " 'class_time': {'web dev': 8, 'java': 9, 'data sicence': 10},\n",
       " 'mentor': ['sudhanshu', 'krish', 'hayder']}"
      ]
     },
     "execution_count": 62,
     "metadata": {},
     "output_type": "execute_result"
    }
   ],
   "source": [
    "d6"
   ]
  },
  {
   "cell_type": "code",
   "execution_count": 63,
   "id": "d47a1124-7087-4da3-b637-030010a06e2a",
   "metadata": {},
   "outputs": [],
   "source": [
    "del d6['number']"
   ]
  },
  {
   "cell_type": "code",
   "execution_count": 64,
   "id": "d93e2c83-7a83-4be0-b4b7-817add7412fa",
   "metadata": {},
   "outputs": [
    {
     "data": {
      "text/plain": [
       "{'assignment': (2, 3, 4, 5, 7, 3, 6),\n",
       " 'launch_data': (28, 12, 30),\n",
       " 'class_time': {'web dev': 8, 'java': 9, 'data sicence': 10},\n",
       " 'mentor': ['sudhanshu', 'krish', 'hayder']}"
      ]
     },
     "execution_count": 64,
     "metadata": {},
     "output_type": "execute_result"
    }
   ],
   "source": [
    "d6"
   ]
  },
  {
   "cell_type": "code",
   "execution_count": 67,
   "id": "6a8c1e75-00a6-46c2-a490-d69604a43d4e",
   "metadata": {},
   "outputs": [
    {
     "data": {
      "text/plain": [
       "['assignment', 'launch_data', 'class_time', 'mentor']"
      ]
     },
     "execution_count": 67,
     "metadata": {},
     "output_type": "execute_result"
    }
   ],
   "source": [
    "list(d6.keys())"
   ]
  },
  {
   "cell_type": "code",
   "execution_count": 68,
   "id": "72ec7396-f769-497c-bc73-579c8d4ff3d3",
   "metadata": {},
   "outputs": [
    {
     "data": {
      "text/plain": [
       "[(2, 3, 4, 5, 7, 3, 6),\n",
       " (28, 12, 30),\n",
       " {'web dev': 8, 'java': 9, 'data sicence': 10},\n",
       " ['sudhanshu', 'krish', 'hayder']]"
      ]
     },
     "execution_count": 68,
     "metadata": {},
     "output_type": "execute_result"
    }
   ],
   "source": [
    "list(d6.values())"
   ]
  },
  {
   "cell_type": "code",
   "execution_count": 72,
   "id": "5a321f3b-2eec-4263-9719-fc4951e93531",
   "metadata": {},
   "outputs": [
    {
     "data": {
      "text/plain": [
       "[('assignment', (2, 3, 4, 5, 7, 3, 6)),\n",
       " ('launch_data', (28, 12, 30)),\n",
       " ('class_time', {'web dev': 8, 'java': 9, 'data sicence': 10}),\n",
       " ('mentor', ['sudhanshu', 'krish', 'hayder'])]"
      ]
     },
     "execution_count": 72,
     "metadata": {},
     "output_type": "execute_result"
    }
   ],
   "source": [
    "list(d6.items())"
   ]
  },
  {
   "cell_type": "code",
   "execution_count": 76,
   "id": "e73b0160-3fec-40f3-8512-c6daf160a87e",
   "metadata": {},
   "outputs": [
    {
     "data": {
      "text/plain": [
       "(2, 3, 4, 5, 7, 3, 6)"
      ]
     },
     "execution_count": 76,
     "metadata": {},
     "output_type": "execute_result"
    }
   ],
   "source": [
    "d6.pop('assignment')"
   ]
  },
  {
   "cell_type": "code",
   "execution_count": 77,
   "id": "7ba3c074-f19b-48d5-931c-4b9f6110f90d",
   "metadata": {},
   "outputs": [
    {
     "data": {
      "text/plain": [
       "{'launch_data': (28, 12, 30),\n",
       " 'class_time': {'web dev': 8, 'java': 9, 'data sicence': 10},\n",
       " 'mentor': ['sudhanshu', 'krish', 'hayder']}"
      ]
     },
     "execution_count": 77,
     "metadata": {},
     "output_type": "execute_result"
    }
   ],
   "source": [
    "d6"
   ]
  },
  {
   "cell_type": "code",
   "execution_count": 80,
   "id": "1c0b7efe-9604-4e85-bbbc-861d7092c50b",
   "metadata": {},
   "outputs": [],
   "source": [
    "d6['assignment'] = [(2, 3, 4, 5, 7, 3, 6)]"
   ]
  },
  {
   "cell_type": "code",
   "execution_count": 81,
   "id": "ce2ce0d0-1849-49b2-9ed7-ac8634f4d767",
   "metadata": {},
   "outputs": [
    {
     "data": {
      "text/plain": [
       "{'launch_data': (28, 12, 30),\n",
       " 'class_time': {'web dev': 8, 'java': 9, 'data sicence': 10},\n",
       " 'mentor': ['sudhanshu', 'krish', 'hayder'],\n",
       " 'assignment': [(2, 3, 4, 5, 7, 3, 6)]}"
      ]
     },
     "execution_count": 81,
     "metadata": {},
     "output_type": "execute_result"
    }
   ],
   "source": [
    "d6"
   ]
  },
  {
   "cell_type": "code",
   "execution_count": null,
   "id": "bfba751a-c110-4833-8bbd-b287f8c0fa9d",
   "metadata": {},
   "outputs": [],
   "source": [
    "marks =45\n",
    "if marks >= 80 :\n",
    "    print(\"you will be a part of A0 batch\")\n",
    "elif marks >= 60 and marks<80:\n",
    "    print(\"you will be the part of A1 batch\")\n",
    "elif marks >= 40 and marks<60:\n",
    "    print(\"you will be the part of A batch\")\n",
    "else:\n",
    "    print(\"you will be the part of A3 batch\")"
   ]
  },
  {
   "cell_type": "code",
   "execution_count": null,
   "id": "02371ac6-c08a-4fff-9387-a7b80450861c",
   "metadata": {},
   "outputs": [],
   "source": []
  }
 ],
 "metadata": {
  "kernelspec": {
   "display_name": "Python 3 (ipykernel)",
   "language": "python",
   "name": "python3"
  },
  "language_info": {
   "codemirror_mode": {
    "name": "ipython",
    "version": 3
   },
   "file_extension": ".py",
   "mimetype": "text/x-python",
   "name": "python",
   "nbconvert_exporter": "python",
   "pygments_lexer": "ipython3",
   "version": "3.10.8"
  }
 },
 "nbformat": 4,
 "nbformat_minor": 5
}
