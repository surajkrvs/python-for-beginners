{
 "cells": [
  {
   "cell_type": "code",
   "execution_count": 25,
   "id": "82ab1b9c-8727-423c-8391-a990b163ab45",
   "metadata": {},
   "outputs": [
    {
     "name": "stdout",
     "output_type": "stream",
     "text": [
      "this is my print\n"
     ]
    }
   ],
   "source": [
    "print(\"this is my print\")"
   ]
  },
  {
   "cell_type": "code",
   "execution_count": 26,
   "id": "ea6fb9ca-0e2c-4c49-aea8-7f9c17baf6d8",
   "metadata": {},
   "outputs": [],
   "source": [
    "import logging"
   ]
  },
  {
   "cell_type": "code",
   "execution_count": 4,
   "id": "ede78557-40b7-4106-9ab9-d57efa11df1e",
   "metadata": {},
   "outputs": [],
   "source": [
    "logging.basicConfig(filename = \"suraj.log\" , level = logging.INFO)"
   ]
  },
  {
   "cell_type": "code",
   "execution_count": 27,
   "id": "80d93e33-ee11-4c57-81b0-af1e3b1c963b",
   "metadata": {},
   "outputs": [],
   "source": [
    "logging.info(\"log this line of execution\")"
   ]
  },
  {
   "cell_type": "code",
   "execution_count": 28,
   "id": "3027995d-2262-42c3-910d-3b5d84d4ea88",
   "metadata": {},
   "outputs": [],
   "source": [
    "logging.info(\"this is my file\")"
   ]
  },
  {
   "cell_type": "code",
   "execution_count": 29,
   "id": "600a9acd-8660-485a-9d1b-5afedb56dd3d",
   "metadata": {},
   "outputs": [],
   "source": [
    "logging.info(\"this is my message\")"
   ]
  },
  {
   "cell_type": "code",
   "execution_count": 30,
   "id": "35d79c4b-96b8-4aad-b178-2e9415750135",
   "metadata": {},
   "outputs": [],
   "source": [
    "logging.warning(\"this is my warning message \")"
   ]
  },
  {
   "cell_type": "code",
   "execution_count": 31,
   "id": "f727f085-ab57-4a3e-8302-587b993d7b31",
   "metadata": {},
   "outputs": [],
   "source": [
    "logging.error(\"this is my error message \")"
   ]
  },
  {
   "cell_type": "code",
   "execution_count": 32,
   "id": "59ce94d3-6af6-4834-855e-a8b2a547b1d7",
   "metadata": {},
   "outputs": [],
   "source": [
    "logging.shutdown()"
   ]
  },
  {
   "cell_type": "code",
   "execution_count": 33,
   "id": "f65b75b7-fca1-431d-a7cf-37d141e7873c",
   "metadata": {},
   "outputs": [],
   "source": [
    "logging.critical(\"this ismy critical message\")"
   ]
  },
  {
   "cell_type": "code",
   "execution_count": null,
   "id": "031c741e-36db-45b1-b3b2-51206288b988",
   "metadata": {},
   "outputs": [],
   "source": [
    "1. NOTSET  #import above info couldn\"t logging in code below info all can be logging \n",
    "2. DEBUG\n",
    "3. INFO\n",
    "4. WARNING\n",
    "5. ERROR\n",
    "6. CRITICAL"
   ]
  },
  {
   "cell_type": "code",
   "execution_count": 34,
   "id": "7820eaae-77db-4b04-93f2-9ae2aa6b95b4",
   "metadata": {},
   "outputs": [],
   "source": [
    "import logging"
   ]
  },
  {
   "cell_type": "code",
   "execution_count": 35,
   "id": "2984f861-19b7-452b-8fc0-10830be4663f",
   "metadata": {},
   "outputs": [],
   "source": [
    "logging.basicConfig(filename = \"test5.log\" , level = logging.DEBUG, format = '%(acstime)s %(message)s')"
   ]
  },
  {
   "cell_type": "code",
   "execution_count": 38,
   "id": "f8b7231a-23d7-45a9-aeb8-55dc8088a8ca",
   "metadata": {},
   "outputs": [],
   "source": [
    "logging.info(\"this is my info message\")\n",
    "logging.error(\"this is my error message\")\n",
    "logging.critical(\"this is my critical message\")"
   ]
  },
  {
   "cell_type": "code",
   "execution_count": null,
   "id": "410b250a-4ae8-452a-b87b-321266d05655",
   "metadata": {},
   "outputs": [],
   "source": []
  }
 ],
 "metadata": {
  "kernelspec": {
   "display_name": "Python 3 (ipykernel)",
   "language": "python",
   "name": "python3"
  },
  "language_info": {
   "codemirror_mode": {
    "name": "ipython",
    "version": 3
   },
   "file_extension": ".py",
   "mimetype": "text/x-python",
   "name": "python",
   "nbconvert_exporter": "python",
   "pygments_lexer": "ipython3",
   "version": "3.10.8"
  }
 },
 "nbformat": 4,
 "nbformat_minor": 5
}
