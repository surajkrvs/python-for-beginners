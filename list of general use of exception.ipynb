{
 "cells": [
  {
   "cell_type": "code",
   "execution_count": 1,
   "id": "aeca1fd5-8057-41cf-b5c0-da5f0bde5781",
   "metadata": {},
   "outputs": [
    {
     "name": "stdout",
     "output_type": "stream",
     "text": [
      "division by zero\n"
     ]
    }
   ],
   "source": [
    "try :\n",
    "    a =10/0\n",
    "except ZeroDivisionError as e :\n",
    "    print(e)"
   ]
  },
  {
   "cell_type": "code",
   "execution_count": 2,
   "id": "2b37866c-16fb-4a19-8cd2-bccaa3fb44a8",
   "metadata": {},
   "outputs": [
    {
     "name": "stdout",
     "output_type": "stream",
     "text": [
      "invalid literal for int() with base 10: 'suraj'\n"
     ]
    }
   ],
   "source": [
    "try : \n",
    "    int(\"suraj\")\n",
    "except (ValueError , TypeError) as e:\n",
    "    print(e)"
   ]
  },
  {
   "cell_type": "code",
   "execution_count": 5,
   "id": "e7344d9f-1781-4169-8157-a6641db827de",
   "metadata": {},
   "outputs": [
    {
     "name": "stdout",
     "output_type": "stream",
     "text": [
      "this is will atch\n"
     ]
    }
   ],
   "source": [
    "try :\n",
    "    int(\"suraj\")\n",
    "except:\n",
    "    print(\"this is will atch\")"
   ]
  },
  {
   "cell_type": "code",
   "execution_count": 7,
   "id": "2ae8384f-f476-47f0-97c2-b0de3d54e4c1",
   "metadata": {},
   "outputs": [
    {
     "name": "stdout",
     "output_type": "stream",
     "text": [
      "No module named 'suraj'\n"
     ]
    },
    {
     "data": {
      "text/plain": [
       "2.5"
      ]
     },
     "execution_count": 7,
     "metadata": {},
     "output_type": "execute_result"
    }
   ],
   "source": [
    "try : \n",
    "    import suraj \n",
    "except ImportError as e :\n",
    "    print(e)\n",
    "10/4"
   ]
  },
  {
   "cell_type": "code",
   "execution_count": 12,
   "id": "1436e5bc-2860-4a58-b1ab-6cc287a88173",
   "metadata": {},
   "outputs": [
    {
     "name": "stdout",
     "output_type": "stream",
     "text": [
      "'key2'\n"
     ]
    }
   ],
   "source": [
    "try : \n",
    "    d = {\"key\" : 34 , 1 : [1,2,3,4]}\n",
    "    print(d[\"key2\"])\n",
    "except KeyError as e :\n",
    "    print(e)\n",
    "            "
   ]
  },
  {
   "cell_type": "code",
   "execution_count": 15,
   "id": "7d9e8946-abc9-4def-81eb-db85eb94d359",
   "metadata": {},
   "outputs": [
    {
     "name": "stdout",
     "output_type": "stream",
     "text": [
      "'str' object has no attribute 'test'\n"
     ]
    }
   ],
   "source": [
    "try : \n",
    "    \"suraj\".test()\n",
    "except AttributeError as e :\n",
    "     print(e)"
   ]
  },
  {
   "cell_type": "code",
   "execution_count": 18,
   "id": "48d604b3-d59f-4b90-ae22-34b70ed13315",
   "metadata": {},
   "outputs": [
    {
     "name": "stdout",
     "output_type": "stream",
     "text": [
      "list index out of range\n"
     ]
    }
   ],
   "source": [
    "try :\n",
    "    l = [1,2,3,4,5]\n",
    "    print(l[6])\n",
    "except IndexError as e :\n",
    "    \n",
    "     print(e)"
   ]
  },
  {
   "cell_type": "code",
   "execution_count": 39,
   "id": "06e412c4-06d4-4261-a4d9-6b4fefbda09b",
   "metadata": {},
   "outputs": [
    {
     "name": "stdout",
     "output_type": "stream",
     "text": [
      "unsupported operand type(s) for +: 'int' and 'str'\n"
     ]
    }
   ],
   "source": [
    "try : \n",
    "    123 + \"suraj\"\n",
    "except TypeError as e : \n",
    "    print(e)"
   ]
  },
  {
   "cell_type": "code",
   "execution_count": 41,
   "id": "1789732c-5b3d-461c-ac2f-1e8fd356c026",
   "metadata": {},
   "outputs": [],
   "source": [
    "def test(file):\n",
    "    try : \n",
    "        with open(file , \"r\") as f :\n",
    "            text = f.read()\n",
    "    except Exception as e :\n",
    "        print(e)\n",
    "    except FileNotFoundError as e :\n",
    "        print(\"trxt\" ,3)"
   ]
  },
  {
   "cell_type": "code",
   "execution_count": null,
   "id": "f2429ee5-2703-4e06-a07e-69ea8683a888",
   "metadata": {},
   "outputs": [],
   "source": []
  }
 ],
 "metadata": {
  "kernelspec": {
   "display_name": "Python 3 (ipykernel)",
   "language": "python",
   "name": "python3"
  },
  "language_info": {
   "codemirror_mode": {
    "name": "ipython",
    "version": 3
   },
   "file_extension": ".py",
   "mimetype": "text/x-python",
   "name": "python",
   "nbconvert_exporter": "python",
   "pygments_lexer": "ipython3",
   "version": "3.10.8"
  }
 },
 "nbformat": 4,
 "nbformat_minor": 5
}
